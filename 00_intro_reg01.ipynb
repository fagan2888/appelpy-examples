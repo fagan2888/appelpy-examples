{
 "cells": [
  {
   "cell_type": "code",
   "execution_count": 1,
   "metadata": {},
   "outputs": [],
   "source": [
    "import pandas as pd\n",
    "import numpy as np\n",
    "import matplotlib.pyplot as plt\n",
    "import appelpy\n",
    "\n",
    "# Hide Numpy warnings from Statsmodels\n",
    "import warnings\n",
    "warnings.filterwarnings('ignore')"
   ]
  },
  {
   "cell_type": "markdown",
   "metadata": {},
   "source": [
    "# Load data"
   ]
  },
  {
   "cell_type": "markdown",
   "metadata": {},
   "source": [
    "[Dataset from University of Notre Dame](https://www3.nd.edu/~rwilliam/stats2/l25.pdf) for demonstration of **OLS** and **WLS** regression.\n",
    "\n",
    "The dataset is very light and the schema is not all clear.  It is being used here to compare output from `appelpy` to output from Stata directly."
   ]
  },
  {
   "cell_type": "code",
   "execution_count": 2,
   "metadata": {},
   "outputs": [
    {
     "name": "stdout",
     "output_type": "stream",
     "text": [
      "<class 'pandas.core.frame.DataFrame'>\n",
      "Int64Index: 20 entries, 0 to 19\n",
      "Data columns (total 4 columns):\n",
      "income    20 non-null float32\n",
      "educ      20 non-null int8\n",
      "jobexp    20 non-null int8\n",
      "race      20 non-null category\n",
      "dtypes: category(1), float32(1), int8(2)\n",
      "memory usage: 396.0 bytes\n"
     ]
    }
   ],
   "source": [
    "df = pd.read_stata('https://www3.nd.edu/~rwilliam/statafiles/reg01.dta')\n",
    "df.info()"
   ]
  },
  {
   "cell_type": "code",
   "execution_count": 3,
   "metadata": {},
   "outputs": [
    {
     "data": {
      "text/html": [
       "<div>\n",
       "<style scoped>\n",
       "    .dataframe tbody tr th:only-of-type {\n",
       "        vertical-align: middle;\n",
       "    }\n",
       "\n",
       "    .dataframe tbody tr th {\n",
       "        vertical-align: top;\n",
       "    }\n",
       "\n",
       "    .dataframe thead th {\n",
       "        text-align: right;\n",
       "    }\n",
       "</style>\n",
       "<table border=\"1\" class=\"dataframe\">\n",
       "  <thead>\n",
       "    <tr style=\"text-align: right;\">\n",
       "      <th></th>\n",
       "      <th>income</th>\n",
       "      <th>educ</th>\n",
       "      <th>jobexp</th>\n",
       "      <th>race</th>\n",
       "    </tr>\n",
       "  </thead>\n",
       "  <tbody>\n",
       "    <tr>\n",
       "      <th>0</th>\n",
       "      <td>5.0</td>\n",
       "      <td>2</td>\n",
       "      <td>9</td>\n",
       "      <td>black</td>\n",
       "    </tr>\n",
       "    <tr>\n",
       "      <th>1</th>\n",
       "      <td>9.7</td>\n",
       "      <td>4</td>\n",
       "      <td>18</td>\n",
       "      <td>black</td>\n",
       "    </tr>\n",
       "    <tr>\n",
       "      <th>2</th>\n",
       "      <td>28.4</td>\n",
       "      <td>8</td>\n",
       "      <td>21</td>\n",
       "      <td>black</td>\n",
       "    </tr>\n",
       "    <tr>\n",
       "      <th>3</th>\n",
       "      <td>8.8</td>\n",
       "      <td>8</td>\n",
       "      <td>12</td>\n",
       "      <td>black</td>\n",
       "    </tr>\n",
       "    <tr>\n",
       "      <th>4</th>\n",
       "      <td>21.0</td>\n",
       "      <td>8</td>\n",
       "      <td>14</td>\n",
       "      <td>black</td>\n",
       "    </tr>\n",
       "  </tbody>\n",
       "</table>\n",
       "</div>"
      ],
      "text/plain": [
       "   income  educ  jobexp   race\n",
       "0     5.0     2       9  black\n",
       "1     9.7     4      18  black\n",
       "2    28.4     8      21  black\n",
       "3     8.8     8      12  black\n",
       "4    21.0     8      14  black"
      ]
     },
     "execution_count": 3,
     "metadata": {},
     "output_type": "execute_result"
    }
   ],
   "source": [
    "df.head()"
   ]
  },
  {
   "cell_type": "markdown",
   "metadata": {},
   "source": [
    "Let's examine the values of the four main statistical moments for the continuous variables in the dataset, via a function in the `eda` module."
   ]
  },
  {
   "cell_type": "code",
   "execution_count": 4,
   "metadata": {},
   "outputs": [
    {
     "data": {
      "text/html": [
       "<div>\n",
       "<style scoped>\n",
       "    .dataframe tbody tr th:only-of-type {\n",
       "        vertical-align: middle;\n",
       "    }\n",
       "\n",
       "    .dataframe tbody tr th {\n",
       "        vertical-align: top;\n",
       "    }\n",
       "\n",
       "    .dataframe thead th {\n",
       "        text-align: right;\n",
       "    }\n",
       "</style>\n",
       "<table border=\"1\" class=\"dataframe\">\n",
       "  <thead>\n",
       "    <tr style=\"text-align: right;\">\n",
       "      <th></th>\n",
       "      <th>mean</th>\n",
       "      <th>var</th>\n",
       "      <th>skew</th>\n",
       "      <th>kurtosis</th>\n",
       "    </tr>\n",
       "  </thead>\n",
       "  <tbody>\n",
       "    <tr>\n",
       "      <th>income</th>\n",
       "      <td>24.415</td>\n",
       "      <td>95.8119</td>\n",
       "      <td>0.180733</td>\n",
       "      <td>0.778104</td>\n",
       "    </tr>\n",
       "    <tr>\n",
       "      <th>educ</th>\n",
       "      <td>12.05</td>\n",
       "      <td>20.05</td>\n",
       "      <td>-0.430739</td>\n",
       "      <td>0.157395</td>\n",
       "    </tr>\n",
       "    <tr>\n",
       "      <th>jobexp</th>\n",
       "      <td>12.65</td>\n",
       "      <td>29.8184</td>\n",
       "      <td>-0.397716</td>\n",
       "      <td>-0.828062</td>\n",
       "    </tr>\n",
       "  </tbody>\n",
       "</table>\n",
       "</div>"
      ],
      "text/plain": [
       "          mean      var      skew  kurtosis\n",
       "income  24.415  95.8119  0.180733  0.778104\n",
       "educ     12.05    20.05 -0.430739  0.157395\n",
       "jobexp   12.65  29.8184 -0.397716 -0.828062"
      ]
     },
     "execution_count": 4,
     "metadata": {},
     "output_type": "execute_result"
    }
   ],
   "source": [
    "appelpy.eda.statistical_moments(df)"
   ]
  },
  {
   "cell_type": "markdown",
   "metadata": {},
   "source": [
    "# OLS"
   ]
  },
  {
   "cell_type": "markdown",
   "metadata": {},
   "source": [
    "## Unstandardized and standardized estimates"
   ]
  },
  {
   "cell_type": "markdown",
   "metadata": {},
   "source": [
    "Let's do a straightforward OLS regression of `income` on `educ` and `jobexp` (non-robust standard errors).\n",
    "\n",
    "The standard error is set to 'nonrobust' as a default in `appelpy`, in line with Statsmodels and Stata.\n",
    "\n",
    "Note: Use of heteroskedasticity-robust standard errors is recommended more generally."
   ]
  },
  {
   "cell_type": "code",
   "execution_count": 5,
   "metadata": {},
   "outputs": [],
   "source": [
    "from appelpy.linear_model import OLS"
   ]
  },
  {
   "cell_type": "code",
   "execution_count": 6,
   "metadata": {},
   "outputs": [
    {
     "data": {
      "text/html": [
       "<table class=\"simpletable\">\n",
       "<caption>OLS Regression Results</caption>\n",
       "<tr>\n",
       "  <th>Dep. Variable:</th>         <td>income</td>      <th>  R-squared:         </th> <td>   0.845</td>\n",
       "</tr>\n",
       "<tr>\n",
       "  <th>Model:</th>                   <td>OLS</td>       <th>  Adj. R-squared:    </th> <td>   0.827</td>\n",
       "</tr>\n",
       "<tr>\n",
       "  <th>Method:</th>             <td>Least Squares</td>  <th>  F-statistic:       </th> <td>   46.33</td>\n",
       "</tr>\n",
       "<tr>\n",
       "  <th>Date:</th>             <td>Fri, 03 Jan 2020</td> <th>  Prob (F-statistic):</th> <td>1.31e-07</td>\n",
       "</tr>\n",
       "<tr>\n",
       "  <th>Time:</th>                 <td>21:38:28</td>     <th>  Log-Likelihood:    </th> <td> -54.848</td>\n",
       "</tr>\n",
       "<tr>\n",
       "  <th>No. Observations:</th>      <td>    20</td>      <th>  AIC:               </th> <td>   115.7</td>\n",
       "</tr>\n",
       "<tr>\n",
       "  <th>Df Residuals:</th>          <td>    17</td>      <th>  BIC:               </th> <td>   118.7</td>\n",
       "</tr>\n",
       "<tr>\n",
       "  <th>Df Model:</th>              <td>     2</td>      <th>                     </th>     <td> </td>   \n",
       "</tr>\n",
       "<tr>\n",
       "  <th>Covariance Type:</th>      <td>nonrobust</td>    <th>                     </th>     <td> </td>   \n",
       "</tr>\n",
       "</table>\n",
       "<table class=\"simpletable\">\n",
       "<tr>\n",
       "     <td></td>       <th>coef</th>     <th>std err</th>      <th>t</th>      <th>P>|t|</th>  <th>[0.025</th>    <th>0.975]</th>  \n",
       "</tr>\n",
       "<tr>\n",
       "  <th>const</th>  <td>   -7.0969</td> <td>    3.626</td> <td>   -1.957</td> <td> 0.067</td> <td>  -14.748</td> <td>    0.554</td>\n",
       "</tr>\n",
       "<tr>\n",
       "  <th>educ</th>   <td>    1.9334</td> <td>    0.210</td> <td>    9.209</td> <td> 0.000</td> <td>    1.490</td> <td>    2.376</td>\n",
       "</tr>\n",
       "<tr>\n",
       "  <th>jobexp</th> <td>    0.6494</td> <td>    0.172</td> <td>    3.772</td> <td> 0.002</td> <td>    0.286</td> <td>    1.013</td>\n",
       "</tr>\n",
       "</table>\n",
       "<table class=\"simpletable\">\n",
       "<tr>\n",
       "  <th>Omnibus:</th>       <td> 1.339</td> <th>  Durbin-Watson:     </th> <td>   2.490</td>\n",
       "</tr>\n",
       "<tr>\n",
       "  <th>Prob(Omnibus):</th> <td> 0.512</td> <th>  Jarque-Bera (JB):  </th> <td>   1.180</td>\n",
       "</tr>\n",
       "<tr>\n",
       "  <th>Skew:</th>          <td>-0.464</td> <th>  Prob(JB):          </th> <td>   0.554</td>\n",
       "</tr>\n",
       "<tr>\n",
       "  <th>Kurtosis:</th>      <td> 2.256</td> <th>  Cond. No.          </th> <td>    72.2</td>\n",
       "</tr>\n",
       "</table><br/><br/>Warnings:<br/>[1] Standard Errors assume that the covariance matrix of the errors is correctly specified."
      ],
      "text/plain": [
       "<class 'statsmodels.iolib.summary.Summary'>\n",
       "\"\"\"\n",
       "                            OLS Regression Results                            \n",
       "==============================================================================\n",
       "Dep. Variable:                 income   R-squared:                       0.845\n",
       "Model:                            OLS   Adj. R-squared:                  0.827\n",
       "Method:                 Least Squares   F-statistic:                     46.33\n",
       "Date:                Fri, 03 Jan 2020   Prob (F-statistic):           1.31e-07\n",
       "Time:                        21:38:28   Log-Likelihood:                -54.848\n",
       "No. Observations:                  20   AIC:                             115.7\n",
       "Df Residuals:                      17   BIC:                             118.7\n",
       "Df Model:                           2                                         \n",
       "Covariance Type:            nonrobust                                         \n",
       "==============================================================================\n",
       "                 coef    std err          t      P>|t|      [0.025      0.975]\n",
       "------------------------------------------------------------------------------\n",
       "const         -7.0969      3.626     -1.957      0.067     -14.748       0.554\n",
       "educ           1.9334      0.210      9.209      0.000       1.490       2.376\n",
       "jobexp         0.6494      0.172      3.772      0.002       0.286       1.013\n",
       "==============================================================================\n",
       "Omnibus:                        1.339   Durbin-Watson:                   2.490\n",
       "Prob(Omnibus):                  0.512   Jarque-Bera (JB):                1.180\n",
       "Skew:                          -0.464   Prob(JB):                        0.554\n",
       "Kurtosis:                       2.256   Cond. No.                         72.2\n",
       "==============================================================================\n",
       "\n",
       "Warnings:\n",
       "[1] Standard Errors assume that the covariance matrix of the errors is correctly specified.\n",
       "\"\"\""
      ]
     },
     "execution_count": 6,
     "metadata": {},
     "output_type": "execute_result"
    }
   ],
   "source": [
    "model1 = OLS(df, ['income'], ['educ', 'jobexp']).fit()\n",
    "model1.results_output"
   ]
  },
  {
   "cell_type": "markdown",
   "metadata": {},
   "source": [
    "The `results_output_standardized` object contains the **standardized estimates** of the regressors (and the unstandardized ones).\n",
    "\n",
    "Standardized coefficients are sometimes called **beta coefficients**.\n",
    "\n",
    "The output is similar to what would be returned by Stata's _`listcoef` command_.\n",
    "\n",
    "These are the standardized estimates listed:\n",
    "- `coef_stdX`: x-standardized coefficient, i.e. how much does `y` increase with a one-standard deviation increase in `x`.\n",
    "- `coef_stdXy`: fully standardized coefficient, i.e. by how many standard deviations does `y` increase with a one=standard deviation increase in `x`.\n",
    "- `stdev_X`: standard deviation of regressor"
   ]
  },
  {
   "cell_type": "code",
   "execution_count": 7,
   "metadata": {},
   "outputs": [
    {
     "data": {
      "text/html": [
       "<style  type=\"text/css\" >\n",
       "</style><table id=\"T_617eeb08_2e71_11ea_8a27_d345bd31b816\" ><caption>Unstandardized and Standardized Estimates</caption><thead>    <tr>        <th class=\"blank level0\" ></th>        <th class=\"col_heading level0 col0\" >coef</th>        <th class=\"col_heading level0 col1\" >t</th>        <th class=\"col_heading level0 col2\" >P>|t|</th>        <th class=\"col_heading level0 col3\" >coef_stdX</th>        <th class=\"col_heading level0 col4\" >coef_stdXy</th>        <th class=\"col_heading level0 col5\" >stdev_X</th>    </tr>    <tr>        <th class=\"index_name level0\" >income</th>        <th class=\"blank\" ></th>        <th class=\"blank\" ></th>        <th class=\"blank\" ></th>        <th class=\"blank\" ></th>        <th class=\"blank\" ></th>        <th class=\"blank\" ></th>    </tr></thead><tbody>\n",
       "                <tr>\n",
       "                        <th id=\"T_617eeb08_2e71_11ea_8a27_d345bd31b816level0_row0\" class=\"row_heading level0 row0\" >educ</th>\n",
       "                        <td id=\"T_617eeb08_2e71_11ea_8a27_d345bd31b816row0_col0\" class=\"data row0 col0\" >+1.9334</td>\n",
       "                        <td id=\"T_617eeb08_2e71_11ea_8a27_d345bd31b816row0_col1\" class=\"data row0 col1\" >+9.209</td>\n",
       "                        <td id=\"T_617eeb08_2e71_11ea_8a27_d345bd31b816row0_col2\" class=\"data row0 col2\" >0.000</td>\n",
       "                        <td id=\"T_617eeb08_2e71_11ea_8a27_d345bd31b816row0_col3\" class=\"data row0 col3\" >+8.6572</td>\n",
       "                        <td id=\"T_617eeb08_2e71_11ea_8a27_d345bd31b816row0_col4\" class=\"data row0 col4\" >+0.8844</td>\n",
       "                        <td id=\"T_617eeb08_2e71_11ea_8a27_d345bd31b816row0_col5\" class=\"data row0 col5\" >4.4777</td>\n",
       "            </tr>\n",
       "            <tr>\n",
       "                        <th id=\"T_617eeb08_2e71_11ea_8a27_d345bd31b816level0_row1\" class=\"row_heading level0 row1\" >jobexp</th>\n",
       "                        <td id=\"T_617eeb08_2e71_11ea_8a27_d345bd31b816row1_col0\" class=\"data row1 col0\" >+0.6494</td>\n",
       "                        <td id=\"T_617eeb08_2e71_11ea_8a27_d345bd31b816row1_col1\" class=\"data row1 col1\" >+3.772</td>\n",
       "                        <td id=\"T_617eeb08_2e71_11ea_8a27_d345bd31b816row1_col2\" class=\"data row1 col2\" >0.002</td>\n",
       "                        <td id=\"T_617eeb08_2e71_11ea_8a27_d345bd31b816row1_col3\" class=\"data row1 col3\" >+3.5459</td>\n",
       "                        <td id=\"T_617eeb08_2e71_11ea_8a27_d345bd31b816row1_col4\" class=\"data row1 col4\" >+0.3623</td>\n",
       "                        <td id=\"T_617eeb08_2e71_11ea_8a27_d345bd31b816row1_col5\" class=\"data row1 col5\" >5.4606</td>\n",
       "            </tr>\n",
       "    </tbody></table>"
      ],
      "text/plain": [
       "<pandas.io.formats.style.Styler at 0x7f7fc6b7ca90>"
      ]
     },
     "execution_count": 7,
     "metadata": {},
     "output_type": "execute_result"
    }
   ],
   "source": [
    "model1.results_output_standardized"
   ]
  },
  {
   "cell_type": "markdown",
   "metadata": {},
   "source": [
    "Compare with the results from the Stata command\n",
    "\n",
    "`reg  income educ jobexp, beta`\n",
    "\n",
    "```\n",
    "      Source |       SS       df       MS              Number of obs =      20 \n",
    "-------------+------------------------------           F(  2,    17) =   46.33 \n",
    "       Model |  1538.22521     2  769.112605           Prob > F      =  0.0000 \n",
    "    Residual |  282.200265    17  16.6000156           R-squared     =  0.8450 \n",
    "-------------+------------------------------           Adj R-squared =  0.8267 \n",
    "       Total |  1820.42548    19  95.8118671           Root MSE      =  4.0743 \n",
    " \n",
    "------------------------------------------------------------------------------ \n",
    "      income |      Coef.   Std. Err.      t    P>|t|                     Beta \n",
    "-------------+---------------------------------------------------------------- \n",
    "        educ |   1.933393   .2099494     9.21   0.000                 .8844385 \n",
    "      jobexp |   .6493654   .1721589     3.77   0.002                 .3622612 \n",
    "       _cons |  -7.096855   3.626412    -1.96   0.067                        . \n",
    "------------------------------------------------------------------------------\n",
    "```"
   ]
  },
  {
   "cell_type": "markdown",
   "metadata": {},
   "source": [
    "The output from the `results_output_standardized` attribute is a Pandas Styler object, so that the values can be formatted and have a level if precision that matches the `results_output` attribute.\n",
    "\n",
    "The underlying data (a Pandas dataframe) can be accessed from the attribute itself, if needed."
   ]
  },
  {
   "cell_type": "code",
   "execution_count": 8,
   "metadata": {},
   "outputs": [
    {
     "data": {
      "text/plain": [
       "pandas.io.formats.style.Styler"
      ]
     },
     "execution_count": 8,
     "metadata": {},
     "output_type": "execute_result"
    }
   ],
   "source": [
    "type(model1.results_output_standardized)"
   ]
  },
  {
   "cell_type": "code",
   "execution_count": 9,
   "metadata": {},
   "outputs": [
    {
     "data": {
      "text/plain": [
       "pandas.core.frame.DataFrame"
      ]
     },
     "execution_count": 9,
     "metadata": {},
     "output_type": "execute_result"
    }
   ],
   "source": [
    "model1_std_data = model1.results_output_standardized.data\n",
    "type(model1_std_data)"
   ]
  },
  {
   "cell_type": "markdown",
   "metadata": {},
   "source": [
    "The statement below shows how the standardized coefficients can be accessed."
   ]
  },
  {
   "cell_type": "code",
   "execution_count": 10,
   "metadata": {},
   "outputs": [
    {
     "name": "stdout",
     "output_type": "stream",
     "text": [
      "A one-standard deviation increase in educ is associated with a\n",
      "      8.6572-unit increase in income\n"
     ]
    }
   ],
   "source": [
    "print(f\"\"\"A one-standard deviation increase in educ is associated with a\n",
    "      {model1_std_data.loc['educ', 'coef_stdX']:.4f}-unit increase in {model1_std_data.index.name}\"\"\")"
   ]
  },
  {
   "cell_type": "markdown",
   "metadata": {},
   "source": [
    "We can also verify that the `coef_stdX` = `coef` * `stdev_X`"
   ]
  },
  {
   "cell_type": "code",
   "execution_count": 11,
   "metadata": {},
   "outputs": [
    {
     "data": {
      "text/plain": [
       "True"
      ]
     },
     "execution_count": 11,
     "metadata": {},
     "output_type": "execute_result"
    }
   ],
   "source": [
    "# LHS == RHS statement\n",
    "(model1_std_data.loc['educ', 'coef_stdX'].round(4)\n",
    " ==\n",
    " (model1_std_data.loc['educ', 'stdev_X'] * model1_std_data.loc['educ', 'coef']).round(4)) # RHS"
   ]
  },
  {
   "cell_type": "markdown",
   "metadata": {},
   "source": [
    "## Model selection"
   ]
  },
  {
   "cell_type": "markdown",
   "metadata": {},
   "source": [
    "A notable omission from the Statsmodels summary table is the Root MSE (root mean square error).\n",
    "\n",
    "The `model_selection_stats` attribute gathers important model selection statistics in one place."
   ]
  },
  {
   "cell_type": "code",
   "execution_count": 12,
   "metadata": {},
   "outputs": [
    {
     "data": {
      "text/plain": [
       "{'root_mse': 4.074311667114434,\n",
       " 'r_squared': 0.8449811508953546,\n",
       " 'r_squared_adj': 0.8267436392359846,\n",
       " 'aic': 115.69523539340607,\n",
       " 'bic': 118.68243221406804}"
      ]
     },
     "execution_count": 12,
     "metadata": {},
     "output_type": "execute_result"
    }
   ],
   "source": [
    "model1.model_selection_stats"
   ]
  },
  {
   "cell_type": "markdown",
   "metadata": {},
   "source": [
    "The Root MSE is displayed in the dictionary and is in line with the result from Stata's output."
   ]
  },
  {
   "cell_type": "markdown",
   "metadata": {},
   "source": [
    "## Prediction"
   ]
  },
  {
   "cell_type": "markdown",
   "metadata": {},
   "source": [
    "Let's find the mean values for each regressor (independent variable) and predict `income` based on those values."
   ]
  },
  {
   "cell_type": "code",
   "execution_count": 13,
   "metadata": {},
   "outputs": [
    {
     "data": {
      "text/plain": [
       "educ      12.05\n",
       "jobexp    12.65\n",
       "dtype: float64"
      ]
     },
     "execution_count": 13,
     "metadata": {},
     "output_type": "execute_result"
    }
   ],
   "source": [
    "X_mean = df[['educ', 'jobexp']].mean()\n",
    "X_mean"
   ]
  },
  {
   "cell_type": "code",
   "execution_count": 14,
   "metadata": {},
   "outputs": [
    {
     "data": {
      "text/html": [
       "<div>\n",
       "<style scoped>\n",
       "    .dataframe tbody tr th:only-of-type {\n",
       "        vertical-align: middle;\n",
       "    }\n",
       "\n",
       "    .dataframe tbody tr th {\n",
       "        vertical-align: top;\n",
       "    }\n",
       "\n",
       "    .dataframe thead th {\n",
       "        text-align: right;\n",
       "    }\n",
       "</style>\n",
       "<table border=\"1\" class=\"dataframe\">\n",
       "  <thead>\n",
       "    <tr style=\"text-align: right;\">\n",
       "      <th></th>\n",
       "      <th>educ</th>\n",
       "      <th>jobexp</th>\n",
       "    </tr>\n",
       "  </thead>\n",
       "  <tbody>\n",
       "    <tr>\n",
       "      <th>0</th>\n",
       "      <td>12.05</td>\n",
       "      <td>12.65</td>\n",
       "    </tr>\n",
       "    <tr>\n",
       "      <th>1</th>\n",
       "      <td>21.00</td>\n",
       "      <td>21.00</td>\n",
       "    </tr>\n",
       "    <tr>\n",
       "      <th>2</th>\n",
       "      <td>2.00</td>\n",
       "      <td>1.00</td>\n",
       "    </tr>\n",
       "    <tr>\n",
       "      <th>3</th>\n",
       "      <td>0.00</td>\n",
       "      <td>0.00</td>\n",
       "    </tr>\n",
       "    <tr>\n",
       "      <th>4</th>\n",
       "      <td>12.00</td>\n",
       "      <td>NaN</td>\n",
       "    </tr>\n",
       "  </tbody>\n",
       "</table>\n",
       "</div>"
      ],
      "text/plain": [
       "    educ  jobexp\n",
       "0  12.05   12.65\n",
       "1  21.00   21.00\n",
       "2   2.00    1.00\n",
       "3   0.00    0.00\n",
       "4  12.00     NaN"
      ]
     },
     "execution_count": 14,
     "metadata": {},
     "output_type": "execute_result"
    }
   ],
   "source": [
    "# Create dataframe of examples to predict, using mean, max & min values:\n",
    "X_demo = pd.concat([X_mean, df[['educ', 'jobexp']].max(), df[['educ', 'jobexp']].min()],\n",
    "                   axis='columns').T\n",
    "# Add a row with 'out-of-sample' data: [0, 0] - both values below the minima observed\n",
    "X_demo = X_demo.append({'educ': 0, 'jobexp': 0}, ignore_index=True)\n",
    "# Add a row with a missing value:\n",
    "X_demo = X_demo.append({'educ': 12, 'jobexp': np.NaN}, ignore_index=True)\n",
    "\n",
    "X_demo"
   ]
  },
  {
   "cell_type": "markdown",
   "metadata": {},
   "source": [
    "Use the `predict` method on the model object:\n",
    "- By default the prediction will return NaN if any values in the example to predict are outside of the sample.\n",
    "- Alternatively, `within_sample` can be set to False so that examples with values outside of the sample have predictions.\n",
    "\n",
    "If there is a missing value for a regressor, then the prediction will return NaN."
   ]
  },
  {
   "cell_type": "code",
   "execution_count": 15,
   "metadata": {},
   "outputs": [
    {
     "data": {
      "text/plain": [
       "array([24.41499996, 47.14106618, -2.58070401,         nan,         nan])"
      ]
     },
     "execution_count": 15,
     "metadata": {},
     "output_type": "execute_result"
    }
   ],
   "source": [
    "model1.predict(X_demo.to_numpy())"
   ]
  },
  {
   "cell_type": "code",
   "execution_count": 16,
   "metadata": {},
   "outputs": [
    {
     "data": {
      "text/plain": [
       "array([24.41499996, 47.14106618, -2.58070401, -7.09685494,         nan])"
      ]
     },
     "execution_count": 16,
     "metadata": {},
     "output_type": "execute_result"
    }
   ],
   "source": [
    "model1.predict(X_demo.to_numpy(), within_sample=False)"
   ]
  },
  {
   "cell_type": "markdown",
   "metadata": {},
   "source": [
    "The model's predicted value for `X_mean` is the actual mean of the `income` (as expected from OLS)."
   ]
  },
  {
   "cell_type": "code",
   "execution_count": 17,
   "metadata": {},
   "outputs": [
    {
     "data": {
      "text/plain": [
       "array([[12.05, 12.65]])"
      ]
     },
     "execution_count": 17,
     "metadata": {},
     "output_type": "execute_result"
    }
   ],
   "source": [
    "# Before prediction, reshape to array of (1, 2) - 1 example, 2 regressors:\n",
    "X_mean = np.reshape(X_mean.to_numpy(), (-1, 1)).T\n",
    "X_mean"
   ]
  },
  {
   "cell_type": "code",
   "execution_count": 18,
   "metadata": {},
   "outputs": [
    {
     "data": {
      "text/plain": [
       "(1, 2)"
      ]
     },
     "execution_count": 18,
     "metadata": {},
     "output_type": "execute_result"
    }
   ],
   "source": [
    "X_mean.shape"
   ]
  },
  {
   "cell_type": "code",
   "execution_count": 19,
   "metadata": {},
   "outputs": [
    {
     "data": {
      "text/plain": [
       "array([24.41499996])"
      ]
     },
     "execution_count": 19,
     "metadata": {},
     "output_type": "execute_result"
    }
   ],
   "source": [
    "model1.predict(X_mean)"
   ]
  },
  {
   "cell_type": "code",
   "execution_count": 20,
   "metadata": {
    "scrolled": true
   },
   "outputs": [
    {
     "name": "stdout",
     "output_type": "stream",
     "text": [
      "Predicted income for X_mean: 24.415\n"
     ]
    }
   ],
   "source": [
    "print(f\"Predicted income for X_mean: {model1.predict(X_mean)[0]:.3f}\")"
   ]
  },
  {
   "cell_type": "code",
   "execution_count": 21,
   "metadata": {},
   "outputs": [
    {
     "name": "stdout",
     "output_type": "stream",
     "text": [
      "Mean income: 24.415\n"
     ]
    }
   ],
   "source": [
    "print(f\"Mean income: {df['income'].mean():.3f}\")"
   ]
  },
  {
   "cell_type": "markdown",
   "metadata": {},
   "source": [
    "## Diagnostic plots"
   ]
  },
  {
   "cell_type": "markdown",
   "metadata": {},
   "source": [
    "With only 20 rows in the dataset, there is not much to see in the regression diagnostic plots.\n",
    "\n",
    "The recipe below demonstrates how the four main plots (P-P plot, Q-Q plot, residuals vs predicted values plot, residuals vs fitted values plot) can be gathered in a 2x2 grid."
   ]
  },
  {
   "cell_type": "code",
   "execution_count": 22,
   "metadata": {},
   "outputs": [
    {
     "data": {
      "image/png": "[encoded data removed]",
      "text/plain": [
       "<Figure size 720x720 with 4 Axes>"
      ]
     },
     "metadata": {
      "needs_background": "light"
     },
     "output_type": "display_data"
    }
   ],
   "source": [
    "fig, axarr = plt.subplots(2, 2, figsize=(10, 10))\n",
    "model1.diagnostic_plot('pp_plot', ax=axarr[0][0])\n",
    "model1.diagnostic_plot('qq_plot', ax=axarr[1][0])\n",
    "model1.diagnostic_plot('rvf_plot', ax=axarr[1][1])\n",
    "axarr[0, 1].axis('off')\n",
    "plt.tight_layout()"
   ]
  },
  {
   "cell_type": "markdown",
   "metadata": {},
   "source": [
    "# WLS"
   ]
  },
  {
   "cell_type": "markdown",
   "metadata": {},
   "source": [
    "The University of Notre Dame handout for the dataset creates weights from `educ` in an attempt to reduce heteroskedasticity (based on the findings of statistical tests, as the diagnostic plots do not reveal much).\n",
    "\n",
    "The weights array is the inverse of `educ^2`."
   ]
  },
  {
   "cell_type": "code",
   "execution_count": 23,
   "metadata": {},
   "outputs": [],
   "source": [
    "from appelpy.linear_model import WLS"
   ]
  },
  {
   "cell_type": "code",
   "execution_count": 24,
   "metadata": {},
   "outputs": [],
   "source": [
    "# Set up weights\n",
    "inv_educ = (1 / df['educ']) ** 2"
   ]
  },
  {
   "cell_type": "markdown",
   "metadata": {},
   "source": [
    "Note that the sum of the weights sum to less than one!  This would be problematic for WLS done through Statsmodels."
   ]
  },
  {
   "cell_type": "code",
   "execution_count": 25,
   "metadata": {},
   "outputs": [
    {
     "data": {
      "text/plain": [
       "0.44264763381567945"
      ]
     },
     "execution_count": 25,
     "metadata": {},
     "output_type": "execute_result"
    }
   ],
   "source": [
    "sum(inv_educ)"
   ]
  },
  {
   "cell_type": "markdown",
   "metadata": {},
   "source": [
    "Set up model 2's specification (WLS), using `inv_educ` as weights."
   ]
  },
  {
   "cell_type": "code",
   "execution_count": 26,
   "metadata": {},
   "outputs": [
    {
     "data": {
      "text/html": [
       "<table class=\"simpletable\">\n",
       "<caption>WLS Regression Results</caption>\n",
       "<tr>\n",
       "  <th>Dep. Variable:</th>         <td>income</td>      <th>  R-squared:         </th> <td>   0.910</td>\n",
       "</tr>\n",
       "<tr>\n",
       "  <th>Model:</th>                   <td>WLS</td>       <th>  Adj. R-squared:    </th> <td>   0.900</td>\n",
       "</tr>\n",
       "<tr>\n",
       "  <th>Method:</th>             <td>Least Squares</td>  <th>  F-statistic:       </th> <td>   86.20</td>\n",
       "</tr>\n",
       "<tr>\n",
       "  <th>Date:</th>             <td>Fri, 03 Jan 2020</td> <th>  Prob (F-statistic):</th> <td>1.26e-09</td>\n",
       "</tr>\n",
       "<tr>\n",
       "  <th>Time:</th>                 <td>21:38:29</td>     <th>  Log-Likelihood:    </th> <td> -58.220</td>\n",
       "</tr>\n",
       "<tr>\n",
       "  <th>No. Observations:</th>      <td>    20</td>      <th>  AIC:               </th> <td>   122.4</td>\n",
       "</tr>\n",
       "<tr>\n",
       "  <th>Df Residuals:</th>          <td>    17</td>      <th>  BIC:               </th> <td>   125.4</td>\n",
       "</tr>\n",
       "<tr>\n",
       "  <th>Df Model:</th>              <td>     2</td>      <th>                     </th>     <td> </td>   \n",
       "</tr>\n",
       "<tr>\n",
       "  <th>Covariance Type:</th>      <td>nonrobust</td>    <th>                     </th>     <td> </td>   \n",
       "</tr>\n",
       "</table>\n",
       "<table class=\"simpletable\">\n",
       "<tr>\n",
       "     <td></td>       <th>coef</th>     <th>std err</th>      <th>t</th>      <th>P>|t|</th>  <th>[0.025</th>    <th>0.975]</th>  \n",
       "</tr>\n",
       "<tr>\n",
       "  <th>const</th>  <td>   -3.1597</td> <td>    1.943</td> <td>   -1.626</td> <td> 0.122</td> <td>   -7.258</td> <td>    0.939</td>\n",
       "</tr>\n",
       "<tr>\n",
       "  <th>educ</th>   <td>    1.7957</td> <td>    0.156</td> <td>   11.544</td> <td> 0.000</td> <td>    1.468</td> <td>    2.124</td>\n",
       "</tr>\n",
       "<tr>\n",
       "  <th>jobexp</th> <td>    0.4588</td> <td>    0.163</td> <td>    2.817</td> <td> 0.012</td> <td>    0.115</td> <td>    0.802</td>\n",
       "</tr>\n",
       "</table>\n",
       "<table class=\"simpletable\">\n",
       "<tr>\n",
       "  <th>Omnibus:</th>       <td> 1.882</td> <th>  Durbin-Watson:     </th> <td>   3.135</td>\n",
       "</tr>\n",
       "<tr>\n",
       "  <th>Prob(Omnibus):</th> <td> 0.390</td> <th>  Jarque-Bera (JB):  </th> <td>   0.522</td>\n",
       "</tr>\n",
       "<tr>\n",
       "  <th>Skew:</th>          <td>-0.196</td> <th>  Prob(JB):          </th> <td>   0.770</td>\n",
       "</tr>\n",
       "<tr>\n",
       "  <th>Kurtosis:</th>      <td> 3.687</td> <th>  Cond. No.          </th> <td>    39.4</td>\n",
       "</tr>\n",
       "</table><br/><br/>Warnings:<br/>[1] Standard Errors assume that the covariance matrix of the errors is correctly specified."
      ],
      "text/plain": [
       "<class 'statsmodels.iolib.summary.Summary'>\n",
       "\"\"\"\n",
       "                            WLS Regression Results                            \n",
       "==============================================================================\n",
       "Dep. Variable:                 income   R-squared:                       0.910\n",
       "Model:                            WLS   Adj. R-squared:                  0.900\n",
       "Method:                 Least Squares   F-statistic:                     86.20\n",
       "Date:                Fri, 03 Jan 2020   Prob (F-statistic):           1.26e-09\n",
       "Time:                        21:38:29   Log-Likelihood:                -58.220\n",
       "No. Observations:                  20   AIC:                             122.4\n",
       "Df Residuals:                      17   BIC:                             125.4\n",
       "Df Model:                           2                                         \n",
       "Covariance Type:            nonrobust                                         \n",
       "==============================================================================\n",
       "                 coef    std err          t      P>|t|      [0.025      0.975]\n",
       "------------------------------------------------------------------------------\n",
       "const         -3.1597      1.943     -1.626      0.122      -7.258       0.939\n",
       "educ           1.7957      0.156     11.544      0.000       1.468       2.124\n",
       "jobexp         0.4588      0.163      2.817      0.012       0.115       0.802\n",
       "==============================================================================\n",
       "Omnibus:                        1.882   Durbin-Watson:                   3.135\n",
       "Prob(Omnibus):                  0.390   Jarque-Bera (JB):                0.522\n",
       "Skew:                          -0.196   Prob(JB):                        0.770\n",
       "Kurtosis:                       3.687   Cond. No.                         39.4\n",
       "==============================================================================\n",
       "\n",
       "Warnings:\n",
       "[1] Standard Errors assume that the covariance matrix of the errors is correctly specified.\n",
       "\"\"\""
      ]
     },
     "execution_count": 26,
     "metadata": {},
     "output_type": "execute_result"
    }
   ],
   "source": [
    "# Pass the weights to the 'w' argument\n",
    "model2 = WLS(df, ['income'], ['educ', 'jobexp'], w=inv_educ).fit()\n",
    "model2.results_output"
   ]
  },
  {
   "cell_type": "markdown",
   "metadata": {},
   "source": [
    "```gen inveduc = (1/educ)^2```\n",
    "\n",
    "```reg income educ jobexp [aw = inveduc]```\n",
    "\n",
    "```\n",
    "(sum of wgt is 4.4265e-01)\n",
    "      Source |       SS      df       MS               Number of obs =      20\n",
    "-------------+------------------------------           F(  2,    17) =   86.20\n",
    "       Model |  1532.21449    2   766.107244           Prob > F      =  0.0000\n",
    "    Residual |  151.090319   17   8.88766581           R-squared     =  0.9102\n",
    "-------------+------------------------------           Adj R-squared =  0.8997\n",
    "       Total |  1683.30481   19   88.5949898           Root MSE      =  2.9812\n",
    "------------------------------------------------------------------------------\n",
    "      income |      Coef.   Std. Err.    t      P>|t|     [95% Conf. Interval]\n",
    "-------------+----------------------------------------------------------------\n",
    "       educ  |   1.795724   .1555495   11.54    0.000     1.467544    2.123905\n",
    "      jobexp |   .4587992   .1628655    2.82    0.012      .115183    .8024155\n",
    "       _cons |  -3.159669   1.94267    -1.63    0.122    -7.258345    .9390065\n",
    "------------------------------------------------------------------------------\n",
    "```"
   ]
  },
  {
   "cell_type": "code",
   "execution_count": 27,
   "metadata": {},
   "outputs": [
    {
     "data": {
      "text/html": [
       "<style  type=\"text/css\" >\n",
       "</style><table id=\"T_61f2b182_2e71_11ea_8a27_d345bd31b816\" ><caption>Unstandardized and Standardized Estimates</caption><thead>    <tr>        <th class=\"blank level0\" ></th>        <th class=\"col_heading level0 col0\" >coef</th>        <th class=\"col_heading level0 col1\" >t</th>        <th class=\"col_heading level0 col2\" >P>|t|</th>        <th class=\"col_heading level0 col3\" >coef_stdX</th>        <th class=\"col_heading level0 col4\" >coef_stdXy</th>        <th class=\"col_heading level0 col5\" >stdev_X</th>    </tr>    <tr>        <th class=\"index_name level0\" >income</th>        <th class=\"blank\" ></th>        <th class=\"blank\" ></th>        <th class=\"blank\" ></th>        <th class=\"blank\" ></th>        <th class=\"blank\" ></th>        <th class=\"blank\" ></th>    </tr></thead><tbody>\n",
       "                <tr>\n",
       "                        <th id=\"T_61f2b182_2e71_11ea_8a27_d345bd31b816level0_row0\" class=\"row_heading level0 row0\" >educ</th>\n",
       "                        <td id=\"T_61f2b182_2e71_11ea_8a27_d345bd31b816row0_col0\" class=\"data row0 col0\" >+1.7957</td>\n",
       "                        <td id=\"T_61f2b182_2e71_11ea_8a27_d345bd31b816row0_col1\" class=\"data row0 col1\" >+11.544</td>\n",
       "                        <td id=\"T_61f2b182_2e71_11ea_8a27_d345bd31b816row0_col2\" class=\"data row0 col2\" >0.000</td>\n",
       "                        <td id=\"T_61f2b182_2e71_11ea_8a27_d345bd31b816row0_col3\" class=\"data row0 col3\" >+7.1368</td>\n",
       "                        <td id=\"T_61f2b182_2e71_11ea_8a27_d345bd31b816row0_col4\" class=\"data row0 col4\" >+0.8729</td>\n",
       "                        <td id=\"T_61f2b182_2e71_11ea_8a27_d345bd31b816row0_col5\" class=\"data row0 col5\" >3.9743</td>\n",
       "            </tr>\n",
       "            <tr>\n",
       "                        <th id=\"T_61f2b182_2e71_11ea_8a27_d345bd31b816level0_row1\" class=\"row_heading level0 row1\" >jobexp</th>\n",
       "                        <td id=\"T_61f2b182_2e71_11ea_8a27_d345bd31b816row1_col0\" class=\"data row1 col0\" >+0.4588</td>\n",
       "                        <td id=\"T_61f2b182_2e71_11ea_8a27_d345bd31b816row1_col1\" class=\"data row1 col1\" >+2.817</td>\n",
       "                        <td id=\"T_61f2b182_2e71_11ea_8a27_d345bd31b816row1_col2\" class=\"data row1 col2\" >0.012</td>\n",
       "                        <td id=\"T_61f2b182_2e71_11ea_8a27_d345bd31b816row1_col3\" class=\"data row1 col3\" >+1.7415</td>\n",
       "                        <td id=\"T_61f2b182_2e71_11ea_8a27_d345bd31b816row1_col4\" class=\"data row1 col4\" >+0.2130</td>\n",
       "                        <td id=\"T_61f2b182_2e71_11ea_8a27_d345bd31b816row1_col5\" class=\"data row1 col5\" >3.7958</td>\n",
       "            </tr>\n",
       "    </tbody></table>"
      ],
      "text/plain": [
       "<pandas.io.formats.style.Styler at 0x7f7fc5a0b110>"
      ]
     },
     "execution_count": 27,
     "metadata": {},
     "output_type": "execute_result"
    }
   ],
   "source": [
    "model2.results_output_standardized"
   ]
  },
  {
   "cell_type": "markdown",
   "metadata": {},
   "source": [
    "# Heteroskedasticity"
   ]
  },
  {
   "cell_type": "code",
   "execution_count": 28,
   "metadata": {},
   "outputs": [],
   "source": [
    "from appelpy.diagnostics import heteroskedasticity_test"
   ]
  },
  {
   "cell_type": "markdown",
   "metadata": {},
   "source": [
    "The `heteroskedasticity_test` supports two tests:\n",
    "- **`breusch_pagan`**: test can be done on all regressors, or even a subset of regressors (kwarg `regressors_subset` is optional).\n",
    "- **`white`**: test done on all the model's regressors.  A general test for heteroskedasticity."
   ]
  },
  {
   "cell_type": "code",
   "execution_count": 29,
   "metadata": {},
   "outputs": [
    {
     "name": "stdout",
     "output_type": "stream",
     "text": [
      "Breusch-Pagan test :: chi2(1)\n",
      "Test statistic: 0.1248\n",
      "Test p-value: 0.7238\n"
     ]
    }
   ],
   "source": [
    "bp_stats = heteroskedasticity_test('breusch_pagan', model1)\n",
    "print('Breusch-Pagan test :: {}'.format(bp_stats['distribution'] + '({})'.format(bp_stats['nu'])))\n",
    "print('Test statistic: {:.4f}'.format(bp_stats['test_stat']))\n",
    "print('Test p-value: {:.4f}'.format(bp_stats['p_value']))"
   ]
  },
  {
   "cell_type": "markdown",
   "metadata": {},
   "source": [
    "Compare with the results from the Stata command `hettest`\n",
    "\n",
    "```\n",
    "Breusch-Pagan / Cook-Weisberg test for heteroskedasticity\n",
    "        Ho: Constant variance\n",
    "        Variables: fitted values of income\n",
    "        \n",
    "        chi2(1) = 0.12\n",
    "        Prob > chi2 = 0.7238\n",
    "```"
   ]
  },
  {
   "cell_type": "code",
   "execution_count": 30,
   "metadata": {},
   "outputs": [
    {
     "name": "stdout",
     "output_type": "stream",
     "text": [
      "White test :: chi2(5)\n",
      "Test statistic: 8.9777\n",
      "Test p-value: 0.1100\n"
     ]
    }
   ],
   "source": [
    "w_stats = heteroskedasticity_test('white', model1)\n",
    "print('White test :: {}'.format(w_stats['distribution'] + '({})'.format(w_stats['nu'])))\n",
    "print('Test statistic: {:.4f}'.format(w_stats['test_stat']))\n",
    "print('Test p-value: {:.4f}'.format(w_stats['p_value']))"
   ]
  },
  {
   "cell_type": "markdown",
   "metadata": {},
   "source": [
    "Compare with the results from the Stata command `imtest, white`\n",
    "```\n",
    "White's test for Ho: homoskedasticity\n",
    "        against Ha: unrestricted heteroskedasticity\n",
    "        \n",
    "        chi2(5) = 8.98\n",
    "        Prob > chi2 = 0.1100\n",
    "```"
   ]
  }
 ],
 "metadata": {
  "kernelspec": {
   "display_name": "Python 3",
   "language": "python",
   "name": "python3"
  },
  "language_info": {
   "codemirror_mode": {
    "name": "ipython",
    "version": 3
   },
   "file_extension": ".py",
   "mimetype": "text/x-python",
   "name": "python",
   "nbconvert_exporter": "python",
   "pygments_lexer": "ipython3",
   "version": "3.7.5"
  },
  "toc": {
   "base_numbering": 1,
   "nav_menu": {},
   "number_sections": true,
   "sideBar": true,
   "skip_h1_title": false,
   "title_cell": "Table of Contents",
   "title_sidebar": "Contents",
   "toc_cell": false,
   "toc_position": {},
   "toc_section_display": true,
   "toc_window_display": true
  }
 },
 "nbformat": 4,
 "nbformat_minor": 2
}
