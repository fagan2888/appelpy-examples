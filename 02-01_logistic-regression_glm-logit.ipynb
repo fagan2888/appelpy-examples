{
 "cells": [
  {
   "cell_type": "code",
   "execution_count": 1,
   "metadata": {},
   "outputs": [],
   "source": [
    "import pandas as pd\n",
    "import matplotlib.pyplot as plt\n",
    "%matplotlib inline\n",
    "\n",
    "# Hide Numpy warnings from Statsmodels\n",
    "import warnings\n",
    "warnings.filterwarnings('ignore')"
   ]
  },
  {
   "cell_type": "markdown",
   "metadata": {},
   "source": [
    "# Load data"
   ]
  },
  {
   "cell_type": "markdown",
   "metadata": {},
   "source": [
    "[Dataset from University of Notre Dame](https://www3.nd.edu/~rwilliam/stats3/L04.pdf) for demonstration of **logistic regression.**\n",
    "\n",
    "It is being used here to compare output from `appelpy` to output from Stata directly."
   ]
  },
  {
   "cell_type": "code",
   "execution_count": 2,
   "metadata": {},
   "outputs": [],
   "source": [
    "df = pd.read_stata('data/glm-logit.dta')"
   ]
  },
  {
   "cell_type": "code",
   "execution_count": 3,
   "metadata": {},
   "outputs": [
    {
     "data": {
      "text/html": [
       "<div>\n",
       "<style scoped>\n",
       "    .dataframe tbody tr th:only-of-type {\n",
       "        vertical-align: middle;\n",
       "    }\n",
       "\n",
       "    .dataframe tbody tr th {\n",
       "        vertical-align: top;\n",
       "    }\n",
       "\n",
       "    .dataframe thead th {\n",
       "        text-align: right;\n",
       "    }\n",
       "</style>\n",
       "<table border=\"1\" class=\"dataframe\">\n",
       "  <thead>\n",
       "    <tr style=\"text-align: right;\">\n",
       "      <th></th>\n",
       "      <th>grade</th>\n",
       "      <th>gpa</th>\n",
       "      <th>tuce</th>\n",
       "      <th>psi</th>\n",
       "    </tr>\n",
       "  </thead>\n",
       "  <tbody>\n",
       "    <tr>\n",
       "      <th>0</th>\n",
       "      <td>0</td>\n",
       "      <td>2.06</td>\n",
       "      <td>22</td>\n",
       "      <td>1</td>\n",
       "    </tr>\n",
       "    <tr>\n",
       "      <th>1</th>\n",
       "      <td>1</td>\n",
       "      <td>2.39</td>\n",
       "      <td>19</td>\n",
       "      <td>1</td>\n",
       "    </tr>\n",
       "    <tr>\n",
       "      <th>2</th>\n",
       "      <td>0</td>\n",
       "      <td>2.63</td>\n",
       "      <td>20</td>\n",
       "      <td>0</td>\n",
       "    </tr>\n",
       "    <tr>\n",
       "      <th>3</th>\n",
       "      <td>0</td>\n",
       "      <td>2.92</td>\n",
       "      <td>12</td>\n",
       "      <td>0</td>\n",
       "    </tr>\n",
       "    <tr>\n",
       "      <th>4</th>\n",
       "      <td>0</td>\n",
       "      <td>2.76</td>\n",
       "      <td>17</td>\n",
       "      <td>0</td>\n",
       "    </tr>\n",
       "  </tbody>\n",
       "</table>\n",
       "</div>"
      ],
      "text/plain": [
       "   grade   gpa  tuce  psi\n",
       "0      0  2.06    22    1\n",
       "1      1  2.39    19    1\n",
       "2      0  2.63    20    0\n",
       "3      0  2.92    12    0\n",
       "4      0  2.76    17    0"
      ]
     },
     "execution_count": 3,
     "metadata": {},
     "output_type": "execute_result"
    }
   ],
   "source": [
    "df.head()"
   ]
  },
  {
   "cell_type": "code",
   "execution_count": 4,
   "metadata": {},
   "outputs": [
    {
     "name": "stdout",
     "output_type": "stream",
     "text": [
      "<class 'pandas.core.frame.DataFrame'>\n",
      "Int64Index: 32 entries, 0 to 31\n",
      "Data columns (total 4 columns):\n",
      "grade    32 non-null int8\n",
      "gpa      32 non-null float32\n",
      "tuce     32 non-null int8\n",
      "psi      32 non-null int8\n",
      "dtypes: float32(1), int8(3)\n",
      "memory usage: 480.0 bytes\n"
     ]
    }
   ],
   "source": [
    "df.info()"
   ]
  },
  {
   "cell_type": "markdown",
   "metadata": {},
   "source": [
    "# Inspect data"
   ]
  },
  {
   "cell_type": "markdown",
   "metadata": {},
   "source": [
    "Let's do some exploratory data analysis on this dataset."
   ]
  },
  {
   "cell_type": "code",
   "execution_count": 5,
   "metadata": {},
   "outputs": [],
   "source": [
    "from appelpy.eda import statistical_moments"
   ]
  },
  {
   "cell_type": "code",
   "execution_count": 6,
   "metadata": {},
   "outputs": [
    {
     "name": "stdout",
     "output_type": "stream",
     "text": [
      "Wall time: 24.9 ms\n"
     ]
    },
    {
     "data": {
      "text/html": [
       "<div>\n",
       "<style scoped>\n",
       "    .dataframe tbody tr th:only-of-type {\n",
       "        vertical-align: middle;\n",
       "    }\n",
       "\n",
       "    .dataframe tbody tr th {\n",
       "        vertical-align: top;\n",
       "    }\n",
       "\n",
       "    .dataframe thead th {\n",
       "        text-align: right;\n",
       "    }\n",
       "</style>\n",
       "<table border=\"1\" class=\"dataframe\">\n",
       "  <thead>\n",
       "    <tr style=\"text-align: right;\">\n",
       "      <th></th>\n",
       "      <th>mean</th>\n",
       "      <th>var</th>\n",
       "      <th>skew</th>\n",
       "      <th>kurtosis</th>\n",
       "    </tr>\n",
       "  </thead>\n",
       "  <tbody>\n",
       "    <tr>\n",
       "      <th>grade</th>\n",
       "      <td>0.34375</td>\n",
       "      <td>0.232863</td>\n",
       "      <td>0.657952</td>\n",
       "      <td>-1.5671</td>\n",
       "    </tr>\n",
       "    <tr>\n",
       "      <th>gpa</th>\n",
       "      <td>3.11719</td>\n",
       "      <td>0.217821</td>\n",
       "      <td>0.122658</td>\n",
       "      <td>-0.429932</td>\n",
       "    </tr>\n",
       "    <tr>\n",
       "      <th>tuce</th>\n",
       "      <td>21.9375</td>\n",
       "      <td>15.2218</td>\n",
       "      <td>-0.52511</td>\n",
       "      <td>0.0483051</td>\n",
       "    </tr>\n",
       "    <tr>\n",
       "      <th>psi</th>\n",
       "      <td>0.4375</td>\n",
       "      <td>0.254032</td>\n",
       "      <td>0.251976</td>\n",
       "      <td>-1.93651</td>\n",
       "    </tr>\n",
       "  </tbody>\n",
       "</table>\n",
       "</div>"
      ],
      "text/plain": [
       "          mean       var      skew   kurtosis\n",
       "grade  0.34375  0.232863  0.657952    -1.5671\n",
       "gpa    3.11719  0.217821  0.122658  -0.429932\n",
       "tuce   21.9375   15.2218  -0.52511  0.0483051\n",
       "psi     0.4375  0.254032  0.251976   -1.93651"
      ]
     },
     "execution_count": 6,
     "metadata": {},
     "output_type": "execute_result"
    }
   ],
   "source": [
    "%%time\n",
    "statistical_moments(df)"
   ]
  },
  {
   "cell_type": "code",
   "execution_count": 7,
   "metadata": {},
   "outputs": [
    {
     "data": {
      "text/plain": [
       "grade     2\n",
       "gpa      29\n",
       "tuce     14\n",
       "psi       2\n",
       "dtype: int64"
      ]
     },
     "execution_count": 7,
     "metadata": {},
     "output_type": "execute_result"
    }
   ],
   "source": [
    "df.nunique()"
   ]
  },
  {
   "cell_type": "markdown",
   "metadata": {},
   "source": [
    "`grade` is a binary outcome that we would like to predict in this dataset, so logistic regression is a natural choice for modelling it."
   ]
  },
  {
   "cell_type": "markdown",
   "metadata": {},
   "source": [
    "# Logistic regression"
   ]
  },
  {
   "cell_type": "markdown",
   "metadata": {},
   "source": [
    "Let's do a regression of `grade` on `gpa`, `tuce`, `psi`."
   ]
  },
  {
   "cell_type": "code",
   "execution_count": 8,
   "metadata": {},
   "outputs": [],
   "source": [
    "from appelpy.discrete_model import Logit"
   ]
  },
  {
   "cell_type": "code",
   "execution_count": 9,
   "metadata": {},
   "outputs": [],
   "source": [
    "y_list = ['grade']\n",
    "X_list = ['gpa', 'tuce', 'psi']"
   ]
  },
  {
   "cell_type": "code",
   "execution_count": 10,
   "metadata": {},
   "outputs": [
    {
     "name": "stdout",
     "output_type": "stream",
     "text": [
      "Wall time: 334 ms\n"
     ]
    }
   ],
   "source": [
    "%%time\n",
    "model1 = Logit(df, y_list, X_list).fit()"
   ]
  },
  {
   "cell_type": "markdown",
   "metadata": {},
   "source": [
    "## Standardized and unstandardized estimates"
   ]
  },
  {
   "cell_type": "markdown",
   "metadata": {},
   "source": [
    "The **unstandardized estimates** can be returned in two formats: the **coefficients** themselves and their **odds ratio** equivalents."
   ]
  },
  {
   "cell_type": "code",
   "execution_count": 11,
   "metadata": {},
   "outputs": [
    {
     "data": {
      "text/html": [
       "<table class=\"simpletable\">\n",
       "<caption>Logit Regression Results</caption>\n",
       "<tr>\n",
       "  <th>Dep. Variable:</th>         <td>grade</td>      <th>  No. Observations:  </th>  <td>    32</td> \n",
       "</tr>\n",
       "<tr>\n",
       "  <th>Model:</th>                 <td>Logit</td>      <th>  Df Residuals:      </th>  <td>    28</td> \n",
       "</tr>\n",
       "<tr>\n",
       "  <th>Method:</th>                 <td>MLE</td>       <th>  Df Model:          </th>  <td>     3</td> \n",
       "</tr>\n",
       "<tr>\n",
       "  <th>Date:</th>            <td>Sun, 03 Nov 2019</td> <th>  Pseudo R-squ.:     </th>  <td>0.3740</td> \n",
       "</tr>\n",
       "<tr>\n",
       "  <th>Time:</th>                <td>19:57:49</td>     <th>  Log-Likelihood:    </th> <td> -12.890</td>\n",
       "</tr>\n",
       "<tr>\n",
       "  <th>converged:</th>             <td>True</td>       <th>  LL-Null:           </th> <td> -20.592</td>\n",
       "</tr>\n",
       "<tr>\n",
       "  <th>Covariance Type:</th>     <td>nonrobust</td>    <th>  LLR p-value:       </th> <td>0.001502</td>\n",
       "</tr>\n",
       "</table>\n",
       "<table class=\"simpletable\">\n",
       "<tr>\n",
       "    <td></td>       <th>coef</th>     <th>std err</th>      <th>z</th>      <th>P>|z|</th>  <th>[0.025</th>    <th>0.975]</th>  \n",
       "</tr>\n",
       "<tr>\n",
       "  <th>const</th> <td>  -13.0213</td> <td>    4.931</td> <td>   -2.641</td> <td> 0.008</td> <td>  -22.687</td> <td>   -3.356</td>\n",
       "</tr>\n",
       "<tr>\n",
       "  <th>gpa</th>   <td>    2.8261</td> <td>    1.263</td> <td>    2.238</td> <td> 0.025</td> <td>    0.351</td> <td>    5.301</td>\n",
       "</tr>\n",
       "<tr>\n",
       "  <th>tuce</th>  <td>    0.0952</td> <td>    0.142</td> <td>    0.672</td> <td> 0.501</td> <td>   -0.182</td> <td>    0.373</td>\n",
       "</tr>\n",
       "<tr>\n",
       "  <th>psi</th>   <td>    2.3787</td> <td>    1.065</td> <td>    2.234</td> <td> 0.025</td> <td>    0.292</td> <td>    4.465</td>\n",
       "</tr>\n",
       "</table>"
      ],
      "text/plain": [
       "<class 'statsmodels.iolib.summary.Summary'>\n",
       "\"\"\"\n",
       "                           Logit Regression Results                           \n",
       "==============================================================================\n",
       "Dep. Variable:                  grade   No. Observations:                   32\n",
       "Model:                          Logit   Df Residuals:                       28\n",
       "Method:                           MLE   Df Model:                            3\n",
       "Date:                Sun, 03 Nov 2019   Pseudo R-squ.:                  0.3740\n",
       "Time:                        19:57:49   Log-Likelihood:                -12.890\n",
       "converged:                       True   LL-Null:                       -20.592\n",
       "Covariance Type:            nonrobust   LLR p-value:                  0.001502\n",
       "==============================================================================\n",
       "                 coef    std err          z      P>|z|      [0.025      0.975]\n",
       "------------------------------------------------------------------------------\n",
       "const        -13.0213      4.931     -2.641      0.008     -22.687      -3.356\n",
       "gpa            2.8261      1.263      2.238      0.025       0.351       5.301\n",
       "tuce           0.0952      0.142      0.672      0.501      -0.182       0.373\n",
       "psi            2.3787      1.065      2.234      0.025       0.292       4.465\n",
       "==============================================================================\n",
       "\"\"\""
      ]
     },
     "execution_count": 11,
     "metadata": {},
     "output_type": "execute_result"
    }
   ],
   "source": [
    "model1.results_output"
   ]
  },
  {
   "cell_type": "markdown",
   "metadata": {},
   "source": [
    "There are two significant regressors in the model."
   ]
  },
  {
   "cell_type": "code",
   "execution_count": 12,
   "metadata": {
    "scrolled": true
   },
   "outputs": [
    {
     "data": {
      "text/plain": [
       "['gpa', 'psi']"
      ]
     },
     "execution_count": 12,
     "metadata": {},
     "output_type": "execute_result"
    }
   ],
   "source": [
    "model1.significant_regressors(0.05)"
   ]
  },
  {
   "cell_type": "code",
   "execution_count": 13,
   "metadata": {},
   "outputs": [
    {
     "data": {
      "text/plain": [
       "gpa     16.879721\n",
       "tuce     1.099832\n",
       "psi     10.790733\n",
       "Name: odds_ratios, dtype: float64"
      ]
     },
     "execution_count": 13,
     "metadata": {},
     "output_type": "execute_result"
    }
   ],
   "source": [
    "model1.odds_ratios"
   ]
  },
  {
   "cell_type": "markdown",
   "metadata": {},
   "source": [
    "The `results_output_standardized` object contains the **standardized estimates** of the regressors (and the unstandardized ones).\n",
    "\n",
    "Standardized coefficients are sometimes called **beta coefficients**.\n",
    "\n",
    "The output is similar to what would be returned by Stata's _`listcoef` command_.\n",
    "\n",
    "These are the standardized estimates listed:\n",
    "- `coef_stdX`: x-standardized coefficient, i.e. how much does `y` increase with a one-standard deviation increase in `x`.\n",
    "- `coef_stdXy`: fully standardized coefficient, i.e. by how many standard deviations does `y` increase with a one=standard deviation increase in `x`.\n",
    "- `stdev_X`: standard deviation of regressor"
   ]
  },
  {
   "cell_type": "code",
   "execution_count": 14,
   "metadata": {},
   "outputs": [
    {
     "data": {
      "text/html": [
       "<style  type=\"text/css\" >\n",
       "</style><table id=\"T_374117ee_fe74_11e9_9eaa_4c3488f12182\" ><caption>Unstandardized and Standardized Estimates</caption><thead>    <tr>        <th class=\"blank level0\" ></th>        <th class=\"col_heading level0 col0\" >coef</th>        <th class=\"col_heading level0 col1\" >z</th>        <th class=\"col_heading level0 col2\" >P>|z|</th>        <th class=\"col_heading level0 col3\" >coef_stdX</th>        <th class=\"col_heading level0 col4\" >coef_stdXy</th>        <th class=\"col_heading level0 col5\" >stdev_X</th>    </tr>    <tr>        <th class=\"index_name level0\" >grade</th>        <th class=\"blank\" ></th>        <th class=\"blank\" ></th>        <th class=\"blank\" ></th>        <th class=\"blank\" ></th>        <th class=\"blank\" ></th>        <th class=\"blank\" ></th>    </tr></thead><tbody>\n",
       "                <tr>\n",
       "                        <th id=\"T_374117ee_fe74_11e9_9eaa_4c3488f12182level0_row0\" class=\"row_heading level0 row0\" >gpa</th>\n",
       "                        <td id=\"T_374117ee_fe74_11e9_9eaa_4c3488f12182row0_col0\" class=\"data row0 col0\" >+2.8261</td>\n",
       "                        <td id=\"T_374117ee_fe74_11e9_9eaa_4c3488f12182row0_col1\" class=\"data row0 col1\" >+2.238</td>\n",
       "                        <td id=\"T_374117ee_fe74_11e9_9eaa_4c3488f12182row0_col2\" class=\"data row0 col2\" >0.025</td>\n",
       "                        <td id=\"T_374117ee_fe74_11e9_9eaa_4c3488f12182row0_col3\" class=\"data row0 col3\" >+1.3190</td>\n",
       "                        <td id=\"T_374117ee_fe74_11e9_9eaa_4c3488f12182row0_col4\" class=\"data row0 col4\" >+0.4912</td>\n",
       "                        <td id=\"T_374117ee_fe74_11e9_9eaa_4c3488f12182row0_col5\" class=\"data row0 col5\" >0.4667</td>\n",
       "            </tr>\n",
       "            <tr>\n",
       "                        <th id=\"T_374117ee_fe74_11e9_9eaa_4c3488f12182level0_row1\" class=\"row_heading level0 row1\" >tuce</th>\n",
       "                        <td id=\"T_374117ee_fe74_11e9_9eaa_4c3488f12182row1_col0\" class=\"data row1 col0\" >+0.0952</td>\n",
       "                        <td id=\"T_374117ee_fe74_11e9_9eaa_4c3488f12182row1_col1\" class=\"data row1 col1\" >+0.672</td>\n",
       "                        <td id=\"T_374117ee_fe74_11e9_9eaa_4c3488f12182row1_col2\" class=\"data row1 col2\" >0.501</td>\n",
       "                        <td id=\"T_374117ee_fe74_11e9_9eaa_4c3488f12182row1_col3\" class=\"data row1 col3\" >+0.3713</td>\n",
       "                        <td id=\"T_374117ee_fe74_11e9_9eaa_4c3488f12182row1_col4\" class=\"data row1 col4\" >+0.1383</td>\n",
       "                        <td id=\"T_374117ee_fe74_11e9_9eaa_4c3488f12182row1_col5\" class=\"data row1 col5\" >3.9015</td>\n",
       "            </tr>\n",
       "            <tr>\n",
       "                        <th id=\"T_374117ee_fe74_11e9_9eaa_4c3488f12182level0_row2\" class=\"row_heading level0 row2\" >psi</th>\n",
       "                        <td id=\"T_374117ee_fe74_11e9_9eaa_4c3488f12182row2_col0\" class=\"data row2 col0\" >+2.3787</td>\n",
       "                        <td id=\"T_374117ee_fe74_11e9_9eaa_4c3488f12182row2_col1\" class=\"data row2 col1\" >+2.234</td>\n",
       "                        <td id=\"T_374117ee_fe74_11e9_9eaa_4c3488f12182row2_col2\" class=\"data row2 col2\" >0.025</td>\n",
       "                        <td id=\"T_374117ee_fe74_11e9_9eaa_4c3488f12182row2_col3\" class=\"data row2 col3\" >+1.1989</td>\n",
       "                        <td id=\"T_374117ee_fe74_11e9_9eaa_4c3488f12182row2_col4\" class=\"data row2 col4\" >+0.4465</td>\n",
       "                        <td id=\"T_374117ee_fe74_11e9_9eaa_4c3488f12182row2_col5\" class=\"data row2 col5\" >0.5040</td>\n",
       "            </tr>\n",
       "    </tbody></table>"
      ],
      "text/plain": [
       "<pandas.io.formats.style.Styler at 0x20a3f5f1f48>"
      ]
     },
     "execution_count": 14,
     "metadata": {},
     "output_type": "execute_result"
    }
   ],
   "source": [
    "model1.results_output_standardized"
   ]
  },
  {
   "cell_type": "markdown",
   "metadata": {},
   "source": [
    "Compare the results from the Stata command  `listcoef, std help` below:"
   ]
  },
  {
   "cell_type": "markdown",
   "metadata": {},
   "source": [
    "```\n",
    "logit (N=32): Unstandardized and standardized estimates\n",
    "\n",
    " Observed SD: 0.4826\n",
    " Latent SD: 2.6851\n",
    "\n",
    "--------------------------------------------------------------------------------\n",
    "             |     b           z      P>|z|    bStdX    bStdY    bStdXY   SDofX\n",
    "-------------+------------------------------------------------------------------\n",
    " gpa         |   2.8261      2.238    0.025    1.319    1.053    0.491    0.467\n",
    " tuce        |   0.0952      0.672    0.501    0.371    0.035    0.138    3.902\n",
    " 1.psi       |   2.3787      2.234    0.025    1.199    0.886    0.447    0.504\n",
    " constant    | -13.0213     -2.641    0.008        .        .        .        .\n",
    "--------------------------------------------------------------------------------\n",
    " b = raw coefficient\n",
    " z = z-score for test of b=0\n",
    " P>|z| = p-value for z-test\n",
    " bStdX = x-standardized coefficient\n",
    " bStdY = y-standardized coefficient\n",
    " bStdXY = fully standardized coefficient\n",
    " SDofX = standard deviation of X\n",
    " ```"
   ]
  },
  {
   "cell_type": "markdown",
   "metadata": {},
   "source": [
    "## Model selection"
   ]
  },
  {
   "cell_type": "markdown",
   "metadata": {},
   "source": [
    "Some model selection statistics are stored in the `model_selection_stats` attribute."
   ]
  },
  {
   "cell_type": "code",
   "execution_count": 15,
   "metadata": {},
   "outputs": [
    {
     "data": {
      "text/plain": [
       "{'Log-likelihood': -12.88963346533348,\n",
       " 'Pseudo R-squared': 0.3740383321251376,\n",
       " 'AIC': 33.779266930666964,\n",
       " 'BIC': 39.642210541865865}"
      ]
     },
     "execution_count": 15,
     "metadata": {},
     "output_type": "execute_result"
    }
   ],
   "source": [
    "model1.model_selection_stats"
   ]
  },
  {
   "cell_type": "markdown",
   "metadata": {},
   "source": [
    "The log-likelihood is also stored in its own attribute `log_likelihood` for ease of reference."
   ]
  },
  {
   "cell_type": "code",
   "execution_count": 16,
   "metadata": {},
   "outputs": [
    {
     "data": {
      "text/plain": [
       "-12.88963346533348"
      ]
     },
     "execution_count": 16,
     "metadata": {},
     "output_type": "execute_result"
    }
   ],
   "source": [
    "model1.log_likelihood"
   ]
  },
  {
   "cell_type": "markdown",
   "metadata": {},
   "source": [
    "## Prediction"
   ]
  },
  {
   "cell_type": "markdown",
   "metadata": {},
   "source": [
    "The `predict` method can be used to return estimated probabilities for observations."
   ]
  },
  {
   "cell_type": "code",
   "execution_count": 17,
   "metadata": {},
   "outputs": [
    {
     "name": "stdout",
     "output_type": "stream",
     "text": [
      "Wall time: 2 ms\n"
     ]
    },
    {
     "data": {
      "text/plain": [
       "array([0.06137582, 0.11103084, 0.02447037, 0.02590164, 0.02650405,\n",
       "       0.02657799, 0.24177247, 0.03018375, 0.03485825, 0.03858832,\n",
       "       0.30721867, 0.05155897, 0.0536264 , 0.05950126, 0.48113296,\n",
       "       0.52911713, 0.11112664, 0.58987241, 0.63542067, 0.6607859 ,\n",
       "       0.18725992, 0.18999741, 0.19321116, 0.32223953, 0.83829052,\n",
       "       0.84170419, 0.8520909 , 0.36098992, 0.90484726, 0.56989301,\n",
       "       0.94534027, 0.69351141])"
      ]
     },
     "execution_count": 17,
     "metadata": {},
     "output_type": "execute_result"
    }
   ],
   "source": [
    "%%time\n",
    "preds = model1.predict(df[X_list].to_numpy())\n",
    "preds"
   ]
  },
  {
   "cell_type": "code",
   "execution_count": 18,
   "metadata": {},
   "outputs": [
    {
     "data": {
      "image/png": "[encoded data removed]",
      "text/plain": [
       "<Figure size 792x504 with 1 Axes>"
      ]
     },
     "metadata": {
      "needs_background": "light"
     },
     "output_type": "display_data"
    }
   ],
   "source": [
    "fig, ax = plt.subplots(figsize=(11,7))\n",
    "pd.Series(preds).hist(ax=ax, range=(0,1))\n",
    "ax.set_xlim([0, 1])\n",
    "ax.set_title('Histogram of probabilities predicted from the original data.')\n",
    "ax.set_ylabel('Frequency')\n",
    "ax.set_xlabel('Probability')\n",
    "plt.show()"
   ]
  }
 ],
 "metadata": {
  "kernelspec": {
   "display_name": "Python 3",
   "language": "python",
   "name": "python3"
  },
  "language_info": {
   "codemirror_mode": {
    "name": "ipython",
    "version": 3
   },
   "file_extension": ".py",
   "mimetype": "text/x-python",
   "name": "python",
   "nbconvert_exporter": "python",
   "pygments_lexer": "ipython3",
   "version": "3.7.4"
  },
  "toc": {
   "base_numbering": 1,
   "nav_menu": {},
   "number_sections": true,
   "sideBar": true,
   "skip_h1_title": false,
   "title_cell": "Table of Contents",
   "title_sidebar": "Contents",
   "toc_cell": false,
   "toc_position": {},
   "toc_section_display": true,
   "toc_window_display": true
  }
 },
 "nbformat": 4,
 "nbformat_minor": 2
}
