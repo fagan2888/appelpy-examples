{
 "cells": [
  {
   "cell_type": "markdown",
   "metadata": {},
   "source": [
    "**10 MINUTES TO APPELPY**"
   ]
  },
  {
   "cell_type": "code",
   "execution_count": 1,
   "metadata": {},
   "outputs": [],
   "source": [
    "import pandas as pd\n",
    "import numpy as np\n",
    "import statsmodels.api as sm  # for datasets\n",
    "import matplotlib.pyplot as plt\n",
    "%matplotlib inline"
   ]
  },
  {
   "cell_type": "markdown",
   "metadata": {},
   "source": [
    "**This is a whirlwind tour of Appelpy's functionality:**\n",
    "- Exploratory data analysis\n",
    "- Model estimation\n",
    "- Model diagnostics\n",
    "\n",
    "Note: this notebook was run using Appelpy v0.4.2 and the latest versions of its dependencies."
   ]
  },
  {
   "cell_type": "markdown",
   "metadata": {},
   "source": [
    "# Set up model dataset"
   ]
  },
  {
   "cell_type": "markdown",
   "metadata": {},
   "source": [
    "Let's explore the functionality of Appelpy using one of the most prolific datasets in econometrics: [The California Test Score Data Set](https://rdrr.io/cran/Ecdat/man/Caschool.html) (**Caschool**).\n",
    "\n",
    "Read the dataset with Pandas and obtain the data via a Statsmodels method."
   ]
  },
  {
   "cell_type": "code",
   "execution_count": 2,
   "metadata": {},
   "outputs": [],
   "source": [
    "# Load data\n",
    "df = sm.datasets.get_rdataset('Caschool', 'Ecdat').data\n",
    "# Add together the two test scores (total score)\n",
    "df['scrtot'] = df['readscr'] + df['mathscr']"
   ]
  },
  {
   "cell_type": "code",
   "execution_count": 3,
   "metadata": {},
   "outputs": [
    {
     "data": {
      "text/html": [
       "<div>\n",
       "<style scoped>\n",
       "    .dataframe tbody tr th:only-of-type {\n",
       "        vertical-align: middle;\n",
       "    }\n",
       "\n",
       "    .dataframe tbody tr th {\n",
       "        vertical-align: top;\n",
       "    }\n",
       "\n",
       "    .dataframe thead th {\n",
       "        text-align: right;\n",
       "    }\n",
       "</style>\n",
       "<table border=\"1\" class=\"dataframe\">\n",
       "  <thead>\n",
       "    <tr style=\"text-align: right;\">\n",
       "      <th></th>\n",
       "      <th>distcod</th>\n",
       "      <th>county</th>\n",
       "      <th>district</th>\n",
       "      <th>grspan</th>\n",
       "      <th>enrltot</th>\n",
       "      <th>teachers</th>\n",
       "      <th>calwpct</th>\n",
       "      <th>mealpct</th>\n",
       "      <th>computer</th>\n",
       "      <th>testscr</th>\n",
       "      <th>compstu</th>\n",
       "      <th>expnstu</th>\n",
       "      <th>str</th>\n",
       "      <th>avginc</th>\n",
       "      <th>elpct</th>\n",
       "      <th>readscr</th>\n",
       "      <th>mathscr</th>\n",
       "      <th>scrtot</th>\n",
       "    </tr>\n",
       "  </thead>\n",
       "  <tbody>\n",
       "    <tr>\n",
       "      <th>0</th>\n",
       "      <td>75119</td>\n",
       "      <td>Alameda</td>\n",
       "      <td>Sunol Glen Unified</td>\n",
       "      <td>KK-08</td>\n",
       "      <td>195</td>\n",
       "      <td>10.900000</td>\n",
       "      <td>0.510200</td>\n",
       "      <td>2.040800</td>\n",
       "      <td>67</td>\n",
       "      <td>690.799988</td>\n",
       "      <td>0.343590</td>\n",
       "      <td>6384.911133</td>\n",
       "      <td>17.889910</td>\n",
       "      <td>22.690001</td>\n",
       "      <td>0.000000</td>\n",
       "      <td>691.599976</td>\n",
       "      <td>690.000000</td>\n",
       "      <td>1381.599976</td>\n",
       "    </tr>\n",
       "    <tr>\n",
       "      <th>1</th>\n",
       "      <td>61499</td>\n",
       "      <td>Butte</td>\n",
       "      <td>Manzanita Elementary</td>\n",
       "      <td>KK-08</td>\n",
       "      <td>240</td>\n",
       "      <td>11.150000</td>\n",
       "      <td>15.416700</td>\n",
       "      <td>47.916698</td>\n",
       "      <td>101</td>\n",
       "      <td>661.200012</td>\n",
       "      <td>0.420833</td>\n",
       "      <td>5099.380859</td>\n",
       "      <td>21.524664</td>\n",
       "      <td>9.824000</td>\n",
       "      <td>4.583333</td>\n",
       "      <td>660.500000</td>\n",
       "      <td>661.900024</td>\n",
       "      <td>1322.400024</td>\n",
       "    </tr>\n",
       "    <tr>\n",
       "      <th>2</th>\n",
       "      <td>61549</td>\n",
       "      <td>Butte</td>\n",
       "      <td>Thermalito Union Elementary</td>\n",
       "      <td>KK-08</td>\n",
       "      <td>1550</td>\n",
       "      <td>82.900002</td>\n",
       "      <td>55.032299</td>\n",
       "      <td>76.322601</td>\n",
       "      <td>169</td>\n",
       "      <td>643.599976</td>\n",
       "      <td>0.109032</td>\n",
       "      <td>5501.954590</td>\n",
       "      <td>18.697226</td>\n",
       "      <td>8.978000</td>\n",
       "      <td>30.000002</td>\n",
       "      <td>636.299988</td>\n",
       "      <td>650.900024</td>\n",
       "      <td>1287.200012</td>\n",
       "    </tr>\n",
       "    <tr>\n",
       "      <th>3</th>\n",
       "      <td>61457</td>\n",
       "      <td>Butte</td>\n",
       "      <td>Golden Feather Union Elementary</td>\n",
       "      <td>KK-08</td>\n",
       "      <td>243</td>\n",
       "      <td>14.000000</td>\n",
       "      <td>36.475399</td>\n",
       "      <td>77.049202</td>\n",
       "      <td>85</td>\n",
       "      <td>647.700012</td>\n",
       "      <td>0.349794</td>\n",
       "      <td>7101.831055</td>\n",
       "      <td>17.357143</td>\n",
       "      <td>8.978000</td>\n",
       "      <td>0.000000</td>\n",
       "      <td>651.900024</td>\n",
       "      <td>643.500000</td>\n",
       "      <td>1295.400024</td>\n",
       "    </tr>\n",
       "    <tr>\n",
       "      <th>4</th>\n",
       "      <td>61523</td>\n",
       "      <td>Butte</td>\n",
       "      <td>Palermo Union Elementary</td>\n",
       "      <td>KK-08</td>\n",
       "      <td>1335</td>\n",
       "      <td>71.500000</td>\n",
       "      <td>33.108601</td>\n",
       "      <td>78.427002</td>\n",
       "      <td>171</td>\n",
       "      <td>640.849976</td>\n",
       "      <td>0.128090</td>\n",
       "      <td>5235.987793</td>\n",
       "      <td>18.671329</td>\n",
       "      <td>9.080333</td>\n",
       "      <td>13.857677</td>\n",
       "      <td>641.799988</td>\n",
       "      <td>639.900024</td>\n",
       "      <td>1281.700012</td>\n",
       "    </tr>\n",
       "  </tbody>\n",
       "</table>\n",
       "</div>"
      ],
      "text/plain": [
       "   distcod   county                         district grspan  enrltot  \\\n",
       "0    75119  Alameda               Sunol Glen Unified  KK-08      195   \n",
       "1    61499    Butte             Manzanita Elementary  KK-08      240   \n",
       "2    61549    Butte      Thermalito Union Elementary  KK-08     1550   \n",
       "3    61457    Butte  Golden Feather Union Elementary  KK-08      243   \n",
       "4    61523    Butte         Palermo Union Elementary  KK-08     1335   \n",
       "\n",
       "    teachers    calwpct    mealpct  computer     testscr   compstu  \\\n",
       "0  10.900000   0.510200   2.040800        67  690.799988  0.343590   \n",
       "1  11.150000  15.416700  47.916698       101  661.200012  0.420833   \n",
       "2  82.900002  55.032299  76.322601       169  643.599976  0.109032   \n",
       "3  14.000000  36.475399  77.049202        85  647.700012  0.349794   \n",
       "4  71.500000  33.108601  78.427002       171  640.849976  0.128090   \n",
       "\n",
       "       expnstu        str     avginc      elpct     readscr     mathscr  \\\n",
       "0  6384.911133  17.889910  22.690001   0.000000  691.599976  690.000000   \n",
       "1  5099.380859  21.524664   9.824000   4.583333  660.500000  661.900024   \n",
       "2  5501.954590  18.697226   8.978000  30.000002  636.299988  650.900024   \n",
       "3  7101.831055  17.357143   8.978000   0.000000  651.900024  643.500000   \n",
       "4  5235.987793  18.671329   9.080333  13.857677  641.799988  639.900024   \n",
       "\n",
       "        scrtot  \n",
       "0  1381.599976  \n",
       "1  1322.400024  \n",
       "2  1287.200012  \n",
       "3  1295.400024  \n",
       "4  1281.700012  "
      ]
     },
     "execution_count": 3,
     "metadata": {},
     "output_type": "execute_result"
    }
   ],
   "source": [
    "df.head()"
   ]
  },
  {
   "cell_type": "markdown",
   "metadata": {},
   "source": [
    "# Inspect data"
   ]
  },
  {
   "cell_type": "markdown",
   "metadata": {},
   "source": [
    "Now we have the data, let's find out more about the distributions of some of the key variables before modelling.\n",
    "\n",
    "Appelpy has an **`eda` module** (exploratory data analysis) with handy methods for getting stats about a dataset."
   ]
  },
  {
   "cell_type": "code",
   "execution_count": 4,
   "metadata": {},
   "outputs": [],
   "source": [
    "from appelpy.eda import statistical_moments"
   ]
  },
  {
   "cell_type": "markdown",
   "metadata": {},
   "source": [
    "Get all the statistical moments in one place:\n",
    "1. Mean\n",
    "2. Variance\n",
    "3. Skewness (Fisher as default)\n",
    "4. Kurtosis"
   ]
  },
  {
   "cell_type": "code",
   "execution_count": 5,
   "metadata": {},
   "outputs": [
    {
     "data": {
      "text/html": [
       "<div>\n",
       "<style scoped>\n",
       "    .dataframe tbody tr th:only-of-type {\n",
       "        vertical-align: middle;\n",
       "    }\n",
       "\n",
       "    .dataframe tbody tr th {\n",
       "        vertical-align: top;\n",
       "    }\n",
       "\n",
       "    .dataframe thead th {\n",
       "        text-align: right;\n",
       "    }\n",
       "</style>\n",
       "<table border=\"1\" class=\"dataframe\">\n",
       "  <thead>\n",
       "    <tr style=\"text-align: right;\">\n",
       "      <th></th>\n",
       "      <th>mean</th>\n",
       "      <th>var</th>\n",
       "      <th>skew</th>\n",
       "      <th>kurtosis</th>\n",
       "    </tr>\n",
       "  </thead>\n",
       "  <tbody>\n",
       "    <tr>\n",
       "      <th>distcod</th>\n",
       "      <td>67472.8</td>\n",
       "      <td>1.20201e+07</td>\n",
       "      <td>-0.0307844</td>\n",
       "      <td>-1.09626</td>\n",
       "    </tr>\n",
       "    <tr>\n",
       "      <th>enrltot</th>\n",
       "      <td>2628.79</td>\n",
       "      <td>1.53124e+07</td>\n",
       "      <td>2.87017</td>\n",
       "      <td>10.2004</td>\n",
       "    </tr>\n",
       "    <tr>\n",
       "      <th>teachers</th>\n",
       "      <td>129.067</td>\n",
       "      <td>35311.2</td>\n",
       "      <td>2.93254</td>\n",
       "      <td>11.219</td>\n",
       "    </tr>\n",
       "    <tr>\n",
       "      <th>calwpct</th>\n",
       "      <td>13.246</td>\n",
       "      <td>131.213</td>\n",
       "      <td>1.68306</td>\n",
       "      <td>4.58959</td>\n",
       "    </tr>\n",
       "    <tr>\n",
       "      <th>mealpct</th>\n",
       "      <td>44.7052</td>\n",
       "      <td>735.678</td>\n",
       "      <td>0.183954</td>\n",
       "      <td>-0.999802</td>\n",
       "    </tr>\n",
       "    <tr>\n",
       "      <th>computer</th>\n",
       "      <td>303.383</td>\n",
       "      <td>194782</td>\n",
       "      <td>2.87169</td>\n",
       "      <td>10.7729</td>\n",
       "    </tr>\n",
       "    <tr>\n",
       "      <th>testscr</th>\n",
       "      <td>654.157</td>\n",
       "      <td>363.03</td>\n",
       "      <td>0.0916151</td>\n",
       "      <td>-0.254288</td>\n",
       "    </tr>\n",
       "    <tr>\n",
       "      <th>compstu</th>\n",
       "      <td>0.135927</td>\n",
       "      <td>0.00421926</td>\n",
       "      <td>0.922369</td>\n",
       "      <td>1.43113</td>\n",
       "    </tr>\n",
       "    <tr>\n",
       "      <th>expnstu</th>\n",
       "      <td>5312.41</td>\n",
       "      <td>401876</td>\n",
       "      <td>1.0679</td>\n",
       "      <td>1.87571</td>\n",
       "    </tr>\n",
       "    <tr>\n",
       "      <th>str</th>\n",
       "      <td>19.6404</td>\n",
       "      <td>3.57895</td>\n",
       "      <td>-0.0253655</td>\n",
       "      <td>0.609597</td>\n",
       "    </tr>\n",
       "    <tr>\n",
       "      <th>avginc</th>\n",
       "      <td>15.3166</td>\n",
       "      <td>52.2135</td>\n",
       "      <td>2.21516</td>\n",
       "      <td>6.53212</td>\n",
       "    </tr>\n",
       "    <tr>\n",
       "      <th>elpct</th>\n",
       "      <td>15.7682</td>\n",
       "      <td>334.375</td>\n",
       "      <td>1.4268</td>\n",
       "      <td>1.4354</td>\n",
       "    </tr>\n",
       "    <tr>\n",
       "      <th>readscr</th>\n",
       "      <td>654.97</td>\n",
       "      <td>404.331</td>\n",
       "      <td>-0.0583962</td>\n",
       "      <td>-0.358049</td>\n",
       "    </tr>\n",
       "    <tr>\n",
       "      <th>mathscr</th>\n",
       "      <td>653.343</td>\n",
       "      <td>351.72</td>\n",
       "      <td>0.255082</td>\n",
       "      <td>-0.159811</td>\n",
       "    </tr>\n",
       "    <tr>\n",
       "      <th>scrtot</th>\n",
       "      <td>1308.31</td>\n",
       "      <td>1452.12</td>\n",
       "      <td>0.0916149</td>\n",
       "      <td>-0.254288</td>\n",
       "    </tr>\n",
       "  </tbody>\n",
       "</table>\n",
       "</div>"
      ],
      "text/plain": [
       "              mean          var       skew  kurtosis\n",
       "distcod    67472.8  1.20201e+07 -0.0307844  -1.09626\n",
       "enrltot    2628.79  1.53124e+07    2.87017   10.2004\n",
       "teachers   129.067      35311.2    2.93254    11.219\n",
       "calwpct     13.246      131.213    1.68306   4.58959\n",
       "mealpct    44.7052      735.678   0.183954 -0.999802\n",
       "computer   303.383       194782    2.87169   10.7729\n",
       "testscr    654.157       363.03  0.0916151 -0.254288\n",
       "compstu   0.135927   0.00421926   0.922369   1.43113\n",
       "expnstu    5312.41       401876     1.0679   1.87571\n",
       "str        19.6404      3.57895 -0.0253655  0.609597\n",
       "avginc     15.3166      52.2135    2.21516   6.53212\n",
       "elpct      15.7682      334.375     1.4268    1.4354\n",
       "readscr     654.97      404.331 -0.0583962 -0.358049\n",
       "mathscr    653.343       351.72   0.255082 -0.159811\n",
       "scrtot     1308.31      1452.12  0.0916149 -0.254288"
      ]
     },
     "execution_count": 5,
     "metadata": {},
     "output_type": "execute_result"
    }
   ],
   "source": [
    "statistical_moments(df)"
   ]
  },
  {
   "cell_type": "markdown",
   "metadata": {},
   "source": [
    "# Model estimation"
   ]
  },
  {
   "cell_type": "markdown",
   "metadata": {},
   "source": [
    "At the core of Appelpy is modelling phenomena in datasets.\n",
    "\n",
    "The **`linear_model`** module contains classes for modelling data, e.g. Ordinary Least Squares (OLS)."
   ]
  },
  {
   "cell_type": "code",
   "execution_count": 6,
   "metadata": {},
   "outputs": [],
   "source": [
    "from appelpy.linear_model import OLS"
   ]
  },
  {
   "cell_type": "markdown",
   "metadata": {},
   "source": [
    "**Here's a recipe for estimating a linear model.**\n",
    "\n",
    "1. Make two lists – `y_list` and `X_list` – for your dependent variable (y) and independent variables (X)."
   ]
  },
  {
   "cell_type": "code",
   "execution_count": 7,
   "metadata": {},
   "outputs": [],
   "source": [
    "y_list = ['scrtot']\n",
    "X_list = ['avginc', 'str', 'enrltot', 'expnstu']"
   ]
  },
  {
   "cell_type": "markdown",
   "metadata": {},
   "source": [
    "2. Fit a model in one line, by passing the model dataframe and two lists as inputs to the OLS object."
   ]
  },
  {
   "cell_type": "code",
   "execution_count": 8,
   "metadata": {},
   "outputs": [],
   "source": [
    "model_nonrobust = OLS(df, y_list, X_list).fit()"
   ]
  },
  {
   "cell_type": "markdown",
   "metadata": {},
   "source": [
    "3. Get the key model results in the `model_selection_stats` attribute, including the Root Mean Square Error (Root MSE)."
   ]
  },
  {
   "cell_type": "code",
   "execution_count": 9,
   "metadata": {},
   "outputs": [
    {
     "data": {
      "text/plain": [
       "{'root_mse': 25.85923055850994,\n",
       " 'r_squared': 0.5438972040191434,\n",
       " 'r_squared_adj': 0.5395010324916171,\n",
       " 'aic': 3929.1191674301117,\n",
       " 'bic': 3949.320440986499}"
      ]
     },
     "execution_count": 9,
     "metadata": {},
     "output_type": "execute_result"
    }
   ],
   "source": [
    "model_nonrobust.model_selection_stats"
   ]
  },
  {
   "cell_type": "markdown",
   "metadata": {},
   "source": [
    "Get the Statsmodels summary via the `results_output` attribute..."
   ]
  },
  {
   "cell_type": "code",
   "execution_count": 10,
   "metadata": {},
   "outputs": [
    {
     "data": {
      "text/html": [
       "<table class=\"simpletable\">\n",
       "<caption>OLS Regression Results</caption>\n",
       "<tr>\n",
       "  <th>Dep. Variable:</th>         <td>scrtot</td>      <th>  R-squared:         </th> <td>   0.544</td>\n",
       "</tr>\n",
       "<tr>\n",
       "  <th>Model:</th>                   <td>OLS</td>       <th>  Adj. R-squared:    </th> <td>   0.540</td>\n",
       "</tr>\n",
       "<tr>\n",
       "  <th>Method:</th>             <td>Least Squares</td>  <th>  F-statistic:       </th> <td>   123.7</td>\n",
       "</tr>\n",
       "<tr>\n",
       "  <th>Date:</th>             <td>Tue, 18 Feb 2020</td> <th>  Prob (F-statistic):</th> <td>2.05e-69</td>\n",
       "</tr>\n",
       "<tr>\n",
       "  <th>Time:</th>                 <td>19:28:04</td>     <th>  Log-Likelihood:    </th> <td> -1959.6</td>\n",
       "</tr>\n",
       "<tr>\n",
       "  <th>No. Observations:</th>      <td>   420</td>      <th>  AIC:               </th> <td>   3929.</td>\n",
       "</tr>\n",
       "<tr>\n",
       "  <th>Df Residuals:</th>          <td>   415</td>      <th>  BIC:               </th> <td>   3949.</td>\n",
       "</tr>\n",
       "<tr>\n",
       "  <th>Df Model:</th>              <td>     4</td>      <th>                     </th>     <td> </td>   \n",
       "</tr>\n",
       "<tr>\n",
       "  <th>Covariance Type:</th>      <td>nonrobust</td>    <th>                     </th>     <td> </td>   \n",
       "</tr>\n",
       "</table>\n",
       "<table class=\"simpletable\">\n",
       "<tr>\n",
       "     <td></td>        <th>coef</th>     <th>std err</th>      <th>t</th>      <th>P>|t|</th>  <th>[0.025</th>    <th>0.975]</th>  \n",
       "</tr>\n",
       "<tr>\n",
       "  <th>const</th>   <td> 1312.9203</td> <td>   27.833</td> <td>   47.171</td> <td> 0.000</td> <td> 1258.208</td> <td> 1367.632</td>\n",
       "</tr>\n",
       "<tr>\n",
       "  <th>avginc</th>  <td>    3.8640</td> <td>    0.185</td> <td>   20.876</td> <td> 0.000</td> <td>    3.500</td> <td>    4.228</td>\n",
       "</tr>\n",
       "<tr>\n",
       "  <th>str</th>     <td>   -1.3954</td> <td>    0.893</td> <td>   -1.563</td> <td> 0.119</td> <td>   -3.150</td> <td>    0.359</td>\n",
       "</tr>\n",
       "<tr>\n",
       "  <th>enrltot</th> <td>   -0.0016</td> <td>    0.000</td> <td>   -4.722</td> <td> 0.000</td> <td>   -0.002</td> <td>   -0.001</td>\n",
       "</tr>\n",
       "<tr>\n",
       "  <th>expnstu</th> <td>   -0.0061</td> <td>    0.003</td> <td>   -2.316</td> <td> 0.021</td> <td>   -0.011</td> <td>   -0.001</td>\n",
       "</tr>\n",
       "</table>\n",
       "<table class=\"simpletable\">\n",
       "<tr>\n",
       "  <th>Omnibus:</th>       <td> 7.321</td> <th>  Durbin-Watson:     </th> <td>   0.763</td>\n",
       "</tr>\n",
       "<tr>\n",
       "  <th>Prob(Omnibus):</th> <td> 0.026</td> <th>  Jarque-Bera (JB):  </th> <td>   7.438</td>\n",
       "</tr>\n",
       "<tr>\n",
       "  <th>Skew:</th>          <td>-0.326</td> <th>  Prob(JB):          </th> <td>  0.0243</td>\n",
       "</tr>\n",
       "<tr>\n",
       "  <th>Kurtosis:</th>      <td> 2.969</td> <th>  Cond. No.          </th> <td>1.39e+05</td>\n",
       "</tr>\n",
       "</table><br/><br/>Warnings:<br/>[1] Standard Errors assume that the covariance matrix of the errors is correctly specified.<br/>[2] The condition number is large, 1.39e+05. This might indicate that there are<br/>strong multicollinearity or other numerical problems."
      ],
      "text/plain": [
       "<class 'statsmodels.iolib.summary.Summary'>\n",
       "\"\"\"\n",
       "                            OLS Regression Results                            \n",
       "==============================================================================\n",
       "Dep. Variable:                 scrtot   R-squared:                       0.544\n",
       "Model:                            OLS   Adj. R-squared:                  0.540\n",
       "Method:                 Least Squares   F-statistic:                     123.7\n",
       "Date:                Tue, 18 Feb 2020   Prob (F-statistic):           2.05e-69\n",
       "Time:                        19:28:04   Log-Likelihood:                -1959.6\n",
       "No. Observations:                 420   AIC:                             3929.\n",
       "Df Residuals:                     415   BIC:                             3949.\n",
       "Df Model:                           4                                         \n",
       "Covariance Type:            nonrobust                                         \n",
       "==============================================================================\n",
       "                 coef    std err          t      P>|t|      [0.025      0.975]\n",
       "------------------------------------------------------------------------------\n",
       "const       1312.9203     27.833     47.171      0.000    1258.208    1367.632\n",
       "avginc         3.8640      0.185     20.876      0.000       3.500       4.228\n",
       "str           -1.3954      0.893     -1.563      0.119      -3.150       0.359\n",
       "enrltot       -0.0016      0.000     -4.722      0.000      -0.002      -0.001\n",
       "expnstu       -0.0061      0.003     -2.316      0.021      -0.011      -0.001\n",
       "==============================================================================\n",
       "Omnibus:                        7.321   Durbin-Watson:                   0.763\n",
       "Prob(Omnibus):                  0.026   Jarque-Bera (JB):                7.438\n",
       "Skew:                          -0.326   Prob(JB):                       0.0243\n",
       "Kurtosis:                       2.969   Cond. No.                     1.39e+05\n",
       "==============================================================================\n",
       "\n",
       "Warnings:\n",
       "[1] Standard Errors assume that the covariance matrix of the errors is correctly specified.\n",
       "[2] The condition number is large, 1.39e+05. This might indicate that there are\n",
       "strong multicollinearity or other numerical problems.\n",
       "\"\"\""
      ]
     },
     "execution_count": 10,
     "metadata": {},
     "output_type": "execute_result"
    }
   ],
   "source": [
    "model_nonrobust.results_output"
   ]
  },
  {
   "cell_type": "markdown",
   "metadata": {},
   "source": [
    "...but now it's finally easy to get the standardized model results via the `results_output_standardized` attribute."
   ]
  },
  {
   "cell_type": "code",
   "execution_count": 11,
   "metadata": {},
   "outputs": [
    {
     "data": {
      "text/html": [
       "<style  type=\"text/css\" >\n",
       "</style><table id=\"T_c8db02fa_5284_11ea_92f2_17644cd51b87\" ><caption>Unstandardized and Standardized Estimates</caption><thead>    <tr>        <th class=\"blank level0\" ></th>        <th class=\"col_heading level0 col0\" >coef</th>        <th class=\"col_heading level0 col1\" >t</th>        <th class=\"col_heading level0 col2\" >P>|t|</th>        <th class=\"col_heading level0 col3\" >coef_stdX</th>        <th class=\"col_heading level0 col4\" >coef_stdXy</th>        <th class=\"col_heading level0 col5\" >stdev_X</th>    </tr>    <tr>        <th class=\"index_name level0\" >scrtot</th>        <th class=\"blank\" ></th>        <th class=\"blank\" ></th>        <th class=\"blank\" ></th>        <th class=\"blank\" ></th>        <th class=\"blank\" ></th>        <th class=\"blank\" ></th>    </tr></thead><tbody>\n",
       "                <tr>\n",
       "                        <th id=\"T_c8db02fa_5284_11ea_92f2_17644cd51b87level0_row0\" class=\"row_heading level0 row0\" >avginc</th>\n",
       "                        <td id=\"T_c8db02fa_5284_11ea_92f2_17644cd51b87row0_col0\" class=\"data row0 col0\" >+3.8640</td>\n",
       "                        <td id=\"T_c8db02fa_5284_11ea_92f2_17644cd51b87row0_col1\" class=\"data row0 col1\" >+20.876</td>\n",
       "                        <td id=\"T_c8db02fa_5284_11ea_92f2_17644cd51b87row0_col2\" class=\"data row0 col2\" >0.000</td>\n",
       "                        <td id=\"T_c8db02fa_5284_11ea_92f2_17644cd51b87row0_col3\" class=\"data row0 col3\" >+27.9209</td>\n",
       "                        <td id=\"T_c8db02fa_5284_11ea_92f2_17644cd51b87row0_col4\" class=\"data row0 col4\" >+0.7327</td>\n",
       "                        <td id=\"T_c8db02fa_5284_11ea_92f2_17644cd51b87row0_col5\" class=\"data row0 col5\" >7.2259</td>\n",
       "            </tr>\n",
       "            <tr>\n",
       "                        <th id=\"T_c8db02fa_5284_11ea_92f2_17644cd51b87level0_row1\" class=\"row_heading level0 row1\" >str</th>\n",
       "                        <td id=\"T_c8db02fa_5284_11ea_92f2_17644cd51b87row1_col0\" class=\"data row1 col0\" >-1.3954</td>\n",
       "                        <td id=\"T_c8db02fa_5284_11ea_92f2_17644cd51b87row1_col1\" class=\"data row1 col1\" >-1.563</td>\n",
       "                        <td id=\"T_c8db02fa_5284_11ea_92f2_17644cd51b87row1_col2\" class=\"data row1 col2\" >0.119</td>\n",
       "                        <td id=\"T_c8db02fa_5284_11ea_92f2_17644cd51b87row1_col3\" class=\"data row1 col3\" >-2.6399</td>\n",
       "                        <td id=\"T_c8db02fa_5284_11ea_92f2_17644cd51b87row1_col4\" class=\"data row1 col4\" >-0.0693</td>\n",
       "                        <td id=\"T_c8db02fa_5284_11ea_92f2_17644cd51b87row1_col5\" class=\"data row1 col5\" >1.8918</td>\n",
       "            </tr>\n",
       "            <tr>\n",
       "                        <th id=\"T_c8db02fa_5284_11ea_92f2_17644cd51b87level0_row2\" class=\"row_heading level0 row2\" >enrltot</th>\n",
       "                        <td id=\"T_c8db02fa_5284_11ea_92f2_17644cd51b87row2_col0\" class=\"data row2 col0\" >-0.0016</td>\n",
       "                        <td id=\"T_c8db02fa_5284_11ea_92f2_17644cd51b87row2_col1\" class=\"data row2 col1\" >-4.722</td>\n",
       "                        <td id=\"T_c8db02fa_5284_11ea_92f2_17644cd51b87row2_col2\" class=\"data row2 col2\" >0.000</td>\n",
       "                        <td id=\"T_c8db02fa_5284_11ea_92f2_17644cd51b87row2_col3\" class=\"data row2 col3\" >-6.3035</td>\n",
       "                        <td id=\"T_c8db02fa_5284_11ea_92f2_17644cd51b87row2_col4\" class=\"data row2 col4\" >-0.1654</td>\n",
       "                        <td id=\"T_c8db02fa_5284_11ea_92f2_17644cd51b87row2_col5\" class=\"data row2 col5\" >3913.1050</td>\n",
       "            </tr>\n",
       "            <tr>\n",
       "                        <th id=\"T_c8db02fa_5284_11ea_92f2_17644cd51b87level0_row3\" class=\"row_heading level0 row3\" >expnstu</th>\n",
       "                        <td id=\"T_c8db02fa_5284_11ea_92f2_17644cd51b87row3_col0\" class=\"data row3 col0\" >-0.0061</td>\n",
       "                        <td id=\"T_c8db02fa_5284_11ea_92f2_17644cd51b87row3_col1\" class=\"data row3 col1\" >-2.316</td>\n",
       "                        <td id=\"T_c8db02fa_5284_11ea_92f2_17644cd51b87row3_col2\" class=\"data row3 col2\" >0.021</td>\n",
       "                        <td id=\"T_c8db02fa_5284_11ea_92f2_17644cd51b87row3_col3\" class=\"data row3 col3\" >-3.8364</td>\n",
       "                        <td id=\"T_c8db02fa_5284_11ea_92f2_17644cd51b87row3_col4\" class=\"data row3 col4\" >-0.1007</td>\n",
       "                        <td id=\"T_c8db02fa_5284_11ea_92f2_17644cd51b87row3_col5\" class=\"data row3 col5\" >633.9371</td>\n",
       "            </tr>\n",
       "    </tbody></table>"
      ],
      "text/plain": [
       "<pandas.io.formats.style.Styler at 0x7f1c3164ee50>"
      ]
     },
     "execution_count": 11,
     "metadata": {},
     "output_type": "execute_result"
    }
   ],
   "source": [
    "model_nonrobust.results_output_standardized\n",
    "# This is a Styler object; add .data to access the underlying Pandas dataframe"
   ]
  },
  {
   "cell_type": "markdown",
   "metadata": {},
   "source": [
    "The output is similar to that of Stata's `listcoef` command."
   ]
  },
  {
   "cell_type": "markdown",
   "metadata": {},
   "source": [
    "# Model diagnostics"
   ]
  },
  {
   "cell_type": "markdown",
   "metadata": {},
   "source": [
    "Call the model object's `diagnostic_plot` method to bring up many visual **regression diagnostics:**\n",
    "- `pp_plot`: P-P plot\n",
    "- `qq_plot`: Q-Q plot\n",
    "- `rvp_plot`: Residuals vs Predicted Values plot\n",
    "- `rvf_plot`: Residuals vs Fitted Values plot\n",
    "\n",
    "Appelpy's **`diagnostics`** module has a suite of classes and functions for regression diagnostics:\n",
    "- If the visual diagnostics are not enough, then do formal tests by calling other methods such as `heteroskedasticity_test`.\n",
    "- Are there observations that are stinking up the model?  Pass the model object to the `BadApples` class and examine the influential points, outliers and high-leverage points."
   ]
  },
  {
   "cell_type": "markdown",
   "metadata": {},
   "source": [
    "## Plots"
   ]
  },
  {
   "cell_type": "markdown",
   "metadata": {},
   "source": [
    "**Here's a recipe for a 2x2 set of diagnostic plots.**"
   ]
  },
  {
   "cell_type": "code",
   "execution_count": 12,
   "metadata": {},
   "outputs": [
    {
     "data": {
      "image/png": "[encoded data removed]",
      "text/plain": [
       "<Figure size 720x720 with 4 Axes>"
      ]
     },
     "metadata": {
      "needs_background": "light"
     },
     "output_type": "display_data"
    }
   ],
   "source": [
    "fig, axarr = plt.subplots(2, 2, figsize=(10, 10))\n",
    "model_nonrobust.diagnostic_plot('pp_plot', ax=axarr[0][0])\n",
    "model_nonrobust.diagnostic_plot('qq_plot', ax=axarr[1][0])\n",
    "model_nonrobust.diagnostic_plot('rvf_plot', ax=axarr[1][1])\n",
    "axarr[0, 1].axis('off')\n",
    "plt.tight_layout()"
   ]
  },
  {
   "cell_type": "markdown",
   "metadata": {},
   "source": [
    "Oh dear.  The model specified has particular problems with test scores of 1350 and above.\n",
    "\n",
    "There appears to be non-constance variance in the RVF plot.\n",
    "\n",
    "Perhaps there is heteroskedasticity too, but we could do more specific tests there."
   ]
  },
  {
   "cell_type": "markdown",
   "metadata": {},
   "source": [
    "## Heteroskedasticity"
   ]
  },
  {
   "cell_type": "code",
   "execution_count": 13,
   "metadata": {},
   "outputs": [],
   "source": [
    "from appelpy.diagnostics import heteroskedasticity_test"
   ]
  },
  {
   "cell_type": "markdown",
   "metadata": {},
   "source": [
    "Call one of a few **heteroskedasticity tests**, e.g.:\n",
    "- *Breusch-Pagan* (default of Stata's `hettest` command)\n",
    "- *Bresuch-Pagan studentized* (default of R's `bptest` command)\n",
    "- *White* (Stata's `hettest, white` command)"
   ]
  },
  {
   "cell_type": "code",
   "execution_count": 14,
   "metadata": {},
   "outputs": [
    {
     "name": "stdout",
     "output_type": "stream",
     "text": [
      "Breusch-Pagan test :: chi2(1)\n",
      "Test statistic: 2.5579\n",
      "Test p-value: 0.1097\n"
     ]
    }
   ],
   "source": [
    "bp_stats = heteroskedasticity_test('breusch_pagan', model_nonrobust)\n",
    "print('Breusch-Pagan test :: {}'.format(bp_stats['distribution'] + '({})'.format(bp_stats['nu'])))\n",
    "print('Test statistic: {:.4f}'.format(bp_stats['test_stat']))\n",
    "print('Test p-value: {:.4f}'.format(bp_stats['p_value']))"
   ]
  },
  {
   "cell_type": "code",
   "execution_count": 15,
   "metadata": {},
   "outputs": [
    {
     "name": "stdout",
     "output_type": "stream",
     "text": [
      "Breusch-Pagan test (studentized) :: chi2(1)\n",
      "Test statistic: 11.3877\n",
      "Test p-value: 0.0225\n"
     ]
    }
   ],
   "source": [
    "bps_stats = heteroskedasticity_test('breusch_pagan_studentized', model_nonrobust)\n",
    "print('Breusch-Pagan test (studentized) :: {}'.format(bps_stats['distribution'] + '({})'.format(bps_stats['nu'])))\n",
    "print('Test statistic: {:.4f}'.format(bps_stats['test_stat']))\n",
    "print('Test p-value: {:.4f}'.format(bps_stats['p_value']))"
   ]
  },
  {
   "cell_type": "markdown",
   "metadata": {},
   "source": [
    "The studentized Breusch-Pagan test is seen as more robust and is showing a significant difference from the initial hypothesis of homoskedasticity, so let's fit a model with heteroskedastic-robust standard errors (`HC1` errors)."
   ]
  },
  {
   "cell_type": "code",
   "execution_count": 16,
   "metadata": {},
   "outputs": [],
   "source": [
    "model_hc1 = OLS(df, y_list, X_list, cov_type='HC1').fit()"
   ]
  },
  {
   "cell_type": "code",
   "execution_count": 17,
   "metadata": {},
   "outputs": [
    {
     "data": {
      "text/html": [
       "<table class=\"simpletable\">\n",
       "<caption>OLS Regression Results</caption>\n",
       "<tr>\n",
       "  <th>Dep. Variable:</th>         <td>scrtot</td>      <th>  R-squared:         </th> <td>   0.544</td>\n",
       "</tr>\n",
       "<tr>\n",
       "  <th>Model:</th>                   <td>OLS</td>       <th>  Adj. R-squared:    </th> <td>   0.540</td>\n",
       "</tr>\n",
       "<tr>\n",
       "  <th>Method:</th>             <td>Least Squares</td>  <th>  F-statistic:       </th> <td>   78.60</td>\n",
       "</tr>\n",
       "<tr>\n",
       "  <th>Date:</th>             <td>Tue, 18 Feb 2020</td> <th>  Prob (F-statistic):</th> <td>1.36e-49</td>\n",
       "</tr>\n",
       "<tr>\n",
       "  <th>Time:</th>                 <td>19:28:05</td>     <th>  Log-Likelihood:    </th> <td> -1959.6</td>\n",
       "</tr>\n",
       "<tr>\n",
       "  <th>No. Observations:</th>      <td>   420</td>      <th>  AIC:               </th> <td>   3929.</td>\n",
       "</tr>\n",
       "<tr>\n",
       "  <th>Df Residuals:</th>          <td>   415</td>      <th>  BIC:               </th> <td>   3949.</td>\n",
       "</tr>\n",
       "<tr>\n",
       "  <th>Df Model:</th>              <td>     4</td>      <th>                     </th>     <td> </td>   \n",
       "</tr>\n",
       "<tr>\n",
       "  <th>Covariance Type:</th>         <td>HC1</td>       <th>                     </th>     <td> </td>   \n",
       "</tr>\n",
       "</table>\n",
       "<table class=\"simpletable\">\n",
       "<tr>\n",
       "     <td></td>        <th>coef</th>     <th>std err</th>      <th>z</th>      <th>P>|z|</th>  <th>[0.025</th>    <th>0.975]</th>  \n",
       "</tr>\n",
       "<tr>\n",
       "  <th>const</th>   <td> 1312.9203</td> <td>   29.364</td> <td>   44.711</td> <td> 0.000</td> <td> 1255.367</td> <td> 1370.474</td>\n",
       "</tr>\n",
       "<tr>\n",
       "  <th>avginc</th>  <td>    3.8640</td> <td>    0.240</td> <td>   16.119</td> <td> 0.000</td> <td>    3.394</td> <td>    4.334</td>\n",
       "</tr>\n",
       "<tr>\n",
       "  <th>str</th>     <td>   -1.3954</td> <td>    0.932</td> <td>   -1.498</td> <td> 0.134</td> <td>   -3.221</td> <td>    0.430</td>\n",
       "</tr>\n",
       "<tr>\n",
       "  <th>enrltot</th> <td>   -0.0016</td> <td>    0.000</td> <td>   -5.794</td> <td> 0.000</td> <td>   -0.002</td> <td>   -0.001</td>\n",
       "</tr>\n",
       "<tr>\n",
       "  <th>expnstu</th> <td>   -0.0061</td> <td>    0.003</td> <td>   -2.166</td> <td> 0.030</td> <td>   -0.012</td> <td>   -0.001</td>\n",
       "</tr>\n",
       "</table>\n",
       "<table class=\"simpletable\">\n",
       "<tr>\n",
       "  <th>Omnibus:</th>       <td> 7.321</td> <th>  Durbin-Watson:     </th> <td>   0.763</td>\n",
       "</tr>\n",
       "<tr>\n",
       "  <th>Prob(Omnibus):</th> <td> 0.026</td> <th>  Jarque-Bera (JB):  </th> <td>   7.438</td>\n",
       "</tr>\n",
       "<tr>\n",
       "  <th>Skew:</th>          <td>-0.326</td> <th>  Prob(JB):          </th> <td>  0.0243</td>\n",
       "</tr>\n",
       "<tr>\n",
       "  <th>Kurtosis:</th>      <td> 2.969</td> <th>  Cond. No.          </th> <td>1.39e+05</td>\n",
       "</tr>\n",
       "</table><br/><br/>Warnings:<br/>[1] Standard Errors are heteroscedasticity robust (HC1)<br/>[2] The condition number is large, 1.39e+05. This might indicate that there are<br/>strong multicollinearity or other numerical problems."
      ],
      "text/plain": [
       "<class 'statsmodels.iolib.summary.Summary'>\n",
       "\"\"\"\n",
       "                            OLS Regression Results                            \n",
       "==============================================================================\n",
       "Dep. Variable:                 scrtot   R-squared:                       0.544\n",
       "Model:                            OLS   Adj. R-squared:                  0.540\n",
       "Method:                 Least Squares   F-statistic:                     78.60\n",
       "Date:                Tue, 18 Feb 2020   Prob (F-statistic):           1.36e-49\n",
       "Time:                        19:28:05   Log-Likelihood:                -1959.6\n",
       "No. Observations:                 420   AIC:                             3929.\n",
       "Df Residuals:                     415   BIC:                             3949.\n",
       "Df Model:                           4                                         \n",
       "Covariance Type:                  HC1                                         \n",
       "==============================================================================\n",
       "                 coef    std err          z      P>|z|      [0.025      0.975]\n",
       "------------------------------------------------------------------------------\n",
       "const       1312.9203     29.364     44.711      0.000    1255.367    1370.474\n",
       "avginc         3.8640      0.240     16.119      0.000       3.394       4.334\n",
       "str           -1.3954      0.932     -1.498      0.134      -3.221       0.430\n",
       "enrltot       -0.0016      0.000     -5.794      0.000      -0.002      -0.001\n",
       "expnstu       -0.0061      0.003     -2.166      0.030      -0.012      -0.001\n",
       "==============================================================================\n",
       "Omnibus:                        7.321   Durbin-Watson:                   0.763\n",
       "Prob(Omnibus):                  0.026   Jarque-Bera (JB):                7.438\n",
       "Skew:                          -0.326   Prob(JB):                       0.0243\n",
       "Kurtosis:                       2.969   Cond. No.                     1.39e+05\n",
       "==============================================================================\n",
       "\n",
       "Warnings:\n",
       "[1] Standard Errors are heteroscedasticity robust (HC1)\n",
       "[2] The condition number is large, 1.39e+05. This might indicate that there are\n",
       "strong multicollinearity or other numerical problems.\n",
       "\"\"\""
      ]
     },
     "execution_count": 17,
     "metadata": {},
     "output_type": "execute_result"
    }
   ],
   "source": [
    "model_hc1.results_output"
   ]
  },
  {
   "cell_type": "markdown",
   "metadata": {},
   "source": [
    "What are the significant regressors (independent variables) now?"
   ]
  },
  {
   "cell_type": "code",
   "execution_count": 18,
   "metadata": {},
   "outputs": [
    {
     "data": {
      "text/plain": [
       "['avginc', 'enrltot', 'expnstu']"
      ]
     },
     "execution_count": 18,
     "metadata": {},
     "output_type": "execute_result"
    }
   ],
   "source": [
    "model_hc1.significant_regressors(0.05)"
   ]
  },
  {
   "cell_type": "markdown",
   "metadata": {},
   "source": [
    "The `str` (student-teacher ratio) and `expnstu` regressors specifically relate to investment in students.  We can do a **Wald test** to test whether the two regressors together are significantly different from 0."
   ]
  },
  {
   "cell_type": "code",
   "execution_count": 19,
   "metadata": {},
   "outputs": [],
   "source": [
    "from appelpy.diagnostics import wald_test"
   ]
  },
  {
   "cell_type": "code",
   "execution_count": 20,
   "metadata": {},
   "outputs": [
    {
     "name": "stdout",
     "output_type": "stream",
     "text": [
      "Wald test :: chi2(2)\n",
      "Test statistic: 4.7352\n",
      "Test p-value: 0.0937\n"
     ]
    }
   ],
   "source": [
    "wald_stats = wald_test(model_hc1, ['str', 'expnstu'])\n",
    "print('Wald test :: {}'.format(wald_stats['distribution'] + '({})'.format(wald_stats['nu'])))\n",
    "print('Test statistic: {:.4f}'.format(wald_stats['test_stat']))\n",
    "print('Test p-value: {:.4f}'.format(wald_stats['p_value']))"
   ]
  },
  {
   "cell_type": "markdown",
   "metadata": {},
   "source": [
    "It's unsurprising that the standard errors for some of the variables are higher for HC1 errors compared to non-robust errors."
   ]
  },
  {
   "cell_type": "code",
   "execution_count": 21,
   "metadata": {},
   "outputs": [
    {
     "data": {
      "text/html": [
       "<div>\n",
       "<style scoped>\n",
       "    .dataframe tbody tr th:only-of-type {\n",
       "        vertical-align: middle;\n",
       "    }\n",
       "\n",
       "    .dataframe tbody tr th {\n",
       "        vertical-align: top;\n",
       "    }\n",
       "\n",
       "    .dataframe thead th {\n",
       "        text-align: right;\n",
       "    }\n",
       "</style>\n",
       "<table border=\"1\" class=\"dataframe\">\n",
       "  <thead>\n",
       "    <tr style=\"text-align: right;\">\n",
       "      <th></th>\n",
       "      <th>std_error_nonrobust</th>\n",
       "      <th>std_error_hc1</th>\n",
       "    </tr>\n",
       "  </thead>\n",
       "  <tbody>\n",
       "    <tr>\n",
       "      <th>const</th>\n",
       "      <td>27.833430</td>\n",
       "      <td>29.364467</td>\n",
       "    </tr>\n",
       "    <tr>\n",
       "      <th>avginc</th>\n",
       "      <td>0.185093</td>\n",
       "      <td>0.239715</td>\n",
       "    </tr>\n",
       "    <tr>\n",
       "      <th>str</th>\n",
       "      <td>0.892703</td>\n",
       "      <td>0.931541</td>\n",
       "    </tr>\n",
       "    <tr>\n",
       "      <th>enrltot</th>\n",
       "      <td>0.000341</td>\n",
       "      <td>0.000278</td>\n",
       "    </tr>\n",
       "    <tr>\n",
       "      <th>expnstu</th>\n",
       "      <td>0.002613</td>\n",
       "      <td>0.002794</td>\n",
       "    </tr>\n",
       "  </tbody>\n",
       "</table>\n",
       "</div>"
      ],
      "text/plain": [
       "         std_error_nonrobust  std_error_hc1\n",
       "const              27.833430      29.364467\n",
       "avginc              0.185093       0.239715\n",
       "str                 0.892703       0.931541\n",
       "enrltot             0.000341       0.000278\n",
       "expnstu             0.002613       0.002794"
      ]
     },
     "execution_count": 21,
     "metadata": {},
     "output_type": "execute_result"
    }
   ],
   "source": [
    "pd.concat([pd.Series(model_nonrobust.results.bse, name='std_error_nonrobust'),\n",
    "           pd.Series(model_hc1.results.bse, name='std_error_hc1')], axis='columns')"
   ]
  },
  {
   "cell_type": "markdown",
   "metadata": {},
   "source": [
    "## Unusual observations: leverage, outliers and influence"
   ]
  },
  {
   "cell_type": "markdown",
   "metadata": {},
   "source": [
    "Let's inspect observations that have:\n",
    "- High influence\n",
    "- High leverage\n",
    "- Outlier value"
   ]
  },
  {
   "cell_type": "code",
   "execution_count": 22,
   "metadata": {},
   "outputs": [],
   "source": [
    "from appelpy.diagnostics import BadApples"
   ]
  },
  {
   "cell_type": "markdown",
   "metadata": {},
   "source": [
    "Set up an instance of `BadApples` with the model object."
   ]
  },
  {
   "cell_type": "code",
   "execution_count": 23,
   "metadata": {},
   "outputs": [],
   "source": [
    "bad_apples = BadApples(model_hc1).fit()"
   ]
  },
  {
   "cell_type": "markdown",
   "metadata": {},
   "source": [
    "Let's plot the leverage values against the normalized residuals squared.\n",
    "\n",
    "Observations in the top-right quadrant have leverage values and residual values higher than the average (i.e. they are the most influential in the model)."
   ]
  },
  {
   "cell_type": "code",
   "execution_count": 24,
   "metadata": {},
   "outputs": [
    {
     "data": {
      "image/png": "[encoded data removed]",
      "text/plain": [
       "<Figure size 792x504 with 1 Axes>"
      ]
     },
     "metadata": {
      "needs_background": "light"
     },
     "output_type": "display_data"
    }
   ],
   "source": [
    "fig, ax = plt.subplots(figsize=(11,7))\n",
    "bad_apples.plot_leverage_vs_residuals_squared(annotate=True)\n",
    "plt.show()"
   ]
  },
  {
   "cell_type": "markdown",
   "metadata": {},
   "source": [
    "### Leverage"
   ]
  },
  {
   "cell_type": "markdown",
   "metadata": {},
   "source": [
    "The leverage values are stored in the `measures_leverage` attribute."
   ]
  },
  {
   "cell_type": "code",
   "execution_count": 25,
   "metadata": {},
   "outputs": [
    {
     "data": {
      "text/plain": [
       "48     0.113247\n",
       "34     0.085633\n",
       "404    0.076762\n",
       "413    0.065741\n",
       "159    0.061353\n",
       "Name: leverage, dtype: float64"
      ]
     },
     "execution_count": 25,
     "metadata": {},
     "output_type": "execute_result"
    }
   ],
   "source": [
    "bad_apples.measures_leverage.sort_values(ascending=False).head()"
   ]
  },
  {
   "cell_type": "markdown",
   "metadata": {},
   "source": [
    "Let's look at the five observations with highest leverage."
   ]
  },
  {
   "cell_type": "code",
   "execution_count": 26,
   "metadata": {},
   "outputs": [
    {
     "data": {
      "text/html": [
       "<div>\n",
       "<style scoped>\n",
       "    .dataframe tbody tr th:only-of-type {\n",
       "        vertical-align: middle;\n",
       "    }\n",
       "\n",
       "    .dataframe tbody tr th {\n",
       "        vertical-align: top;\n",
       "    }\n",
       "\n",
       "    .dataframe thead th {\n",
       "        text-align: right;\n",
       "    }\n",
       "</style>\n",
       "<table border=\"1\" class=\"dataframe\">\n",
       "  <thead>\n",
       "    <tr style=\"text-align: right;\">\n",
       "      <th></th>\n",
       "      <th>scrtot</th>\n",
       "      <th>avginc</th>\n",
       "      <th>str</th>\n",
       "      <th>enrltot</th>\n",
       "      <th>expnstu</th>\n",
       "    </tr>\n",
       "  </thead>\n",
       "  <tbody>\n",
       "    <tr>\n",
       "      <th>48</th>\n",
       "      <td>1261.099976</td>\n",
       "      <td>12.109128</td>\n",
       "      <td>19.017494</td>\n",
       "      <td>27176</td>\n",
       "      <td>5864.366211</td>\n",
       "    </tr>\n",
       "    <tr>\n",
       "      <th>34</th>\n",
       "      <td>1252.200012</td>\n",
       "      <td>11.722225</td>\n",
       "      <td>21.194069</td>\n",
       "      <td>25151</td>\n",
       "      <td>5117.039551</td>\n",
       "    </tr>\n",
       "    <tr>\n",
       "      <th>404</th>\n",
       "      <td>1387.900024</td>\n",
       "      <td>55.327999</td>\n",
       "      <td>16.262285</td>\n",
       "      <td>1059</td>\n",
       "      <td>6460.657227</td>\n",
       "    </tr>\n",
       "    <tr>\n",
       "      <th>413</th>\n",
       "      <td>1398.200012</td>\n",
       "      <td>50.676998</td>\n",
       "      <td>15.407042</td>\n",
       "      <td>687</td>\n",
       "      <td>7217.263184</td>\n",
       "    </tr>\n",
       "    <tr>\n",
       "      <th>159</th>\n",
       "      <td>1294.500000</td>\n",
       "      <td>14.298300</td>\n",
       "      <td>20.291372</td>\n",
       "      <td>21338</td>\n",
       "      <td>5123.474121</td>\n",
       "    </tr>\n",
       "  </tbody>\n",
       "</table>\n",
       "</div>"
      ],
      "text/plain": [
       "          scrtot     avginc        str  enrltot      expnstu\n",
       "48   1261.099976  12.109128  19.017494    27176  5864.366211\n",
       "34   1252.200012  11.722225  21.194069    25151  5117.039551\n",
       "404  1387.900024  55.327999  16.262285     1059  6460.657227\n",
       "413  1398.200012  50.676998  15.407042      687  7217.263184\n",
       "159  1294.500000  14.298300  20.291372    21338  5123.474121"
      ]
     },
     "execution_count": 26,
     "metadata": {},
     "output_type": "execute_result"
    }
   ],
   "source": [
    "bad_apples.show_extreme_observations().loc[[48,34,404,413,159]]"
   ]
  },
  {
   "cell_type": "code",
   "execution_count": 27,
   "metadata": {},
   "outputs": [
    {
     "data": {
      "text/html": [
       "<div>\n",
       "<style scoped>\n",
       "    .dataframe tbody tr th:only-of-type {\n",
       "        vertical-align: middle;\n",
       "    }\n",
       "\n",
       "    .dataframe tbody tr th {\n",
       "        vertical-align: top;\n",
       "    }\n",
       "\n",
       "    .dataframe thead th {\n",
       "        text-align: right;\n",
       "    }\n",
       "</style>\n",
       "<table border=\"1\" class=\"dataframe\">\n",
       "  <thead>\n",
       "    <tr style=\"text-align: right;\">\n",
       "      <th></th>\n",
       "      <th>avginc</th>\n",
       "      <th>str</th>\n",
       "      <th>enrltot</th>\n",
       "      <th>expnstu</th>\n",
       "    </tr>\n",
       "  </thead>\n",
       "  <tbody>\n",
       "    <tr>\n",
       "      <th>48</th>\n",
       "      <td>-0.443884</td>\n",
       "      <td>-0.329278</td>\n",
       "      <td>6.273077</td>\n",
       "      <td>0.870684</td>\n",
       "    </tr>\n",
       "    <tr>\n",
       "      <th>34</th>\n",
       "      <td>-0.497428</td>\n",
       "      <td>0.821246</td>\n",
       "      <td>5.755585</td>\n",
       "      <td>-0.308182</td>\n",
       "    </tr>\n",
       "    <tr>\n",
       "      <th>404</th>\n",
       "      <td>5.537230</td>\n",
       "      <td>-1.785664</td>\n",
       "      <td>-0.401163</td>\n",
       "      <td>1.811299</td>\n",
       "    </tr>\n",
       "    <tr>\n",
       "      <th>413</th>\n",
       "      <td>4.893572</td>\n",
       "      <td>-2.237740</td>\n",
       "      <td>-0.496228</td>\n",
       "      <td>3.004803</td>\n",
       "    </tr>\n",
       "    <tr>\n",
       "      <th>159</th>\n",
       "      <td>-0.140922</td>\n",
       "      <td>0.344087</td>\n",
       "      <td>4.781167</td>\n",
       "      <td>-0.298032</td>\n",
       "    </tr>\n",
       "  </tbody>\n",
       "</table>\n",
       "</div>"
      ],
      "text/plain": [
       "       avginc       str   enrltot   expnstu\n",
       "48  -0.443884 -0.329278  6.273077  0.870684\n",
       "34  -0.497428  0.821246  5.755585 -0.308182\n",
       "404  5.537230 -1.785664 -0.401163  1.811299\n",
       "413  4.893572 -2.237740 -0.496228  3.004803\n",
       "159 -0.140922  0.344087  4.781167 -0.298032"
      ]
     },
     "execution_count": 27,
     "metadata": {},
     "output_type": "execute_result"
    }
   ],
   "source": [
    "model_hc1.X_standardized.loc[[48,34,404,413,159]]"
   ]
  },
  {
   "cell_type": "markdown",
   "metadata": {},
   "source": [
    "These high-leverage points have at least one independent variable with a value > 4 standard deviations away from the mean."
   ]
  },
  {
   "cell_type": "markdown",
   "metadata": {},
   "source": [
    "### Outliers"
   ]
  },
  {
   "cell_type": "markdown",
   "metadata": {},
   "source": [
    "The BadApples object calculates heuristics for determining whether values of measures are 'extreme'.\n",
    "\n",
    "The extreme indices are stored in attributes, e.g. outliers stored in `indices_outliers`."
   ]
  },
  {
   "cell_type": "code",
   "execution_count": 28,
   "metadata": {},
   "outputs": [
    {
     "data": {
      "text/plain": [
       "[5, 6, 7, 8, 9, 10, 13, 14, 37, 38, 47, 134, 370, 392, 403, 404, 415, 417]"
      ]
     },
     "execution_count": 28,
     "metadata": {},
     "output_type": "execute_result"
    }
   ],
   "source": [
    "bad_apples.indices_outliers"
   ]
  },
  {
   "cell_type": "markdown",
   "metadata": {},
   "source": [
    "The heuristic for outliers: an observation is an outlier if either the absolute value of the standardized residual or absolute value of the studentized residual is higher than 2."
   ]
  },
  {
   "cell_type": "code",
   "execution_count": 29,
   "metadata": {},
   "outputs": [
    {
     "name": "stdout",
     "output_type": "stream",
     "text": [
      "Proportion of observations as outliers: 4.2857%\n"
     ]
    }
   ],
   "source": [
    "print(f\"Proportion of observations as outliers: {len(bad_apples.indices_outliers) / len(df):.4%}\")"
   ]
  },
  {
   "cell_type": "markdown",
   "metadata": {},
   "source": [
    "By that heuristic, we'd expect (by design) no more than around 5% of the observations to be viewed as outliers."
   ]
  },
  {
   "cell_type": "markdown",
   "metadata": {},
   "source": [
    "### Influence"
   ]
  },
  {
   "cell_type": "markdown",
   "metadata": {},
   "source": [
    "Also consider a range of influence measures, e.g. Cook's distance, dffits and dfbeta."
   ]
  },
  {
   "cell_type": "code",
   "execution_count": 30,
   "metadata": {},
   "outputs": [
    {
     "data": {
      "text/html": [
       "<div>\n",
       "<style scoped>\n",
       "    .dataframe tbody tr th:only-of-type {\n",
       "        vertical-align: middle;\n",
       "    }\n",
       "\n",
       "    .dataframe tbody tr th {\n",
       "        vertical-align: top;\n",
       "    }\n",
       "\n",
       "    .dataframe thead th {\n",
       "        text-align: right;\n",
       "    }\n",
       "</style>\n",
       "<table border=\"1\" class=\"dataframe\">\n",
       "  <thead>\n",
       "    <tr style=\"text-align: right;\">\n",
       "      <th></th>\n",
       "      <th>dfbeta_const</th>\n",
       "      <th>dfbeta_avginc</th>\n",
       "      <th>dfbeta_str</th>\n",
       "      <th>dfbeta_enrltot</th>\n",
       "      <th>dfbeta_expnstu</th>\n",
       "      <th>cooks_d</th>\n",
       "      <th>dffits_internal</th>\n",
       "      <th>dffits</th>\n",
       "    </tr>\n",
       "  </thead>\n",
       "  <tbody>\n",
       "    <tr>\n",
       "      <th>404</th>\n",
       "      <td>0.010742</td>\n",
       "      <td>-0.811324</td>\n",
       "      <td>0.068295</td>\n",
       "      <td>0.061925</td>\n",
       "      <td>0.039761</td>\n",
       "      <td>0.152768</td>\n",
       "      <td>-0.873981</td>\n",
       "      <td>-0.882753</td>\n",
       "    </tr>\n",
       "    <tr>\n",
       "      <th>403</th>\n",
       "      <td>0.024082</td>\n",
       "      <td>-0.529623</td>\n",
       "      <td>0.016131</td>\n",
       "      <td>0.031978</td>\n",
       "      <td>0.026944</td>\n",
       "      <td>0.063718</td>\n",
       "      <td>-0.564440</td>\n",
       "      <td>-0.567338</td>\n",
       "    </tr>\n",
       "    <tr>\n",
       "      <th>413</th>\n",
       "      <td>0.074297</td>\n",
       "      <td>-0.373064</td>\n",
       "      <td>0.013021</td>\n",
       "      <td>0.033955</td>\n",
       "      <td>-0.099557</td>\n",
       "      <td>0.044116</td>\n",
       "      <td>-0.469661</td>\n",
       "      <td>-0.470876</td>\n",
       "    </tr>\n",
       "    <tr>\n",
       "      <th>38</th>\n",
       "      <td>-0.277356</td>\n",
       "      <td>-0.193382</td>\n",
       "      <td>0.217223</td>\n",
       "      <td>-0.136237</td>\n",
       "      <td>0.315817</td>\n",
       "      <td>0.030955</td>\n",
       "      <td>-0.393412</td>\n",
       "      <td>-0.397701</td>\n",
       "    </tr>\n",
       "    <tr>\n",
       "      <th>415</th>\n",
       "      <td>-0.157629</td>\n",
       "      <td>0.099707</td>\n",
       "      <td>0.045684</td>\n",
       "      <td>-0.026836</td>\n",
       "      <td>0.249169</td>\n",
       "      <td>0.025414</td>\n",
       "      <td>0.356468</td>\n",
       "      <td>0.357936</td>\n",
       "    </tr>\n",
       "  </tbody>\n",
       "</table>\n",
       "</div>"
      ],
      "text/plain": [
       "     dfbeta_const  dfbeta_avginc  dfbeta_str  dfbeta_enrltot  dfbeta_expnstu  \\\n",
       "404      0.010742      -0.811324    0.068295        0.061925        0.039761   \n",
       "403      0.024082      -0.529623    0.016131        0.031978        0.026944   \n",
       "413      0.074297      -0.373064    0.013021        0.033955       -0.099557   \n",
       "38      -0.277356      -0.193382    0.217223       -0.136237        0.315817   \n",
       "415     -0.157629       0.099707    0.045684       -0.026836        0.249169   \n",
       "\n",
       "      cooks_d  dffits_internal    dffits  \n",
       "404  0.152768        -0.873981 -0.882753  \n",
       "403  0.063718        -0.564440 -0.567338  \n",
       "413  0.044116        -0.469661 -0.470876  \n",
       "38   0.030955        -0.393412 -0.397701  \n",
       "415  0.025414         0.356468  0.357936  "
      ]
     },
     "execution_count": 30,
     "metadata": {},
     "output_type": "execute_result"
    }
   ],
   "source": [
    "bad_apples.measures_influence.sort_values('cooks_d', ascending=False).head()"
   ]
  },
  {
   "cell_type": "markdown",
   "metadata": {},
   "source": [
    "# Summary"
   ]
  },
  {
   "cell_type": "markdown",
   "metadata": {},
   "source": [
    "- Load your dataset and do your pre-processing with Pandas.\n",
    "- Appelpy **`eda`**: inspect your model dataset with handy functions, e.g. statistical moments.\n",
    "- Appelpy **modelling**: `linear_model` contains classes such as OLS and WLS for model estimation.  Use a short recipe for each model and access model estimates, e.g. `results_output` and `results_output_standardized`.\n",
    "- Appelpy **`diagnostics`**: check whether the model estimates are valid with diagnostics, e.g. diagnostic plots, statistical tests and `BadApples` for influence analysis."
   ]
  },
  {
   "cell_type": "markdown",
   "metadata": {},
   "source": [
    "Other features worth checking out:\n",
    "- Logistic regression (under `discrete_model`)\n",
    "- DummyEncoder and InteractionEncoder classes"
   ]
  }
 ],
 "metadata": {
  "kernelspec": {
   "display_name": "Python 3",
   "language": "python",
   "name": "python3"
  },
  "language_info": {
   "codemirror_mode": {
    "name": "ipython",
    "version": 3
   },
   "file_extension": ".py",
   "mimetype": "text/x-python",
   "name": "python",
   "nbconvert_exporter": "python",
   "pygments_lexer": "ipython3",
   "version": "3.7.6"
  },
  "toc": {
   "base_numbering": 1,
   "nav_menu": {},
   "number_sections": true,
   "sideBar": true,
   "skip_h1_title": false,
   "title_cell": "Table of Contents",
   "title_sidebar": "Contents",
   "toc_cell": false,
   "toc_position": {},
   "toc_section_display": true,
   "toc_window_display": true
  }
 },
 "nbformat": 4,
 "nbformat_minor": 2
}
