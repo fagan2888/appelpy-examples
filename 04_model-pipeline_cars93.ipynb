{
 "cells": [
  {
   "cell_type": "code",
   "execution_count": 1,
   "metadata": {},
   "outputs": [],
   "source": [
    "import re\n",
    "import pandas as pd\n",
    "import numpy as np\n",
    "import statsmodels.api as sm  # for datasets\n",
    "import matplotlib.pyplot as plt\n",
    "%matplotlib inline\n",
    "\n",
    "# Hide Numpy warnings from Statsmodels\n",
    "import warnings\n",
    "warnings.filterwarnings('ignore')\n",
    "\n",
    "# Sequence of Appelpy imports\n",
    "from appelpy.eda import statistical_moments\n",
    "from appelpy.utils import DummyEncoder\n",
    "from appelpy.linear_model import OLS\n",
    "from appelpy.diagnostics import heteroskedasticity_test"
   ]
  },
  {
   "cell_type": "markdown",
   "metadata": {},
   "source": [
    "This notebook shows how to make a simple **model pipeline** with Appelpy, using the [Cars93 dataset](https://stat.ethz.ch/R-manual/R-devel/library/MASS/html/Cars93.html).\n",
    "\n",
    "There is data available about 93 cars.  One variable of interest to model is the price of the cars.\n",
    "\n",
    "It can be particularly challenging to fit models with many **categorical variables**.  If you fit models on data that come from a database, where categories of a variable may shift over time, then model pipelines can help to make the modelling process more robust and easier to maintain.\n",
    "\n",
    "**Notebook workflow:**\n",
    "- Load data\n",
    "- Explore data\n",
    "- Transform data (set up functions for transforming the raw data)\n",
    "    - Column renaming\n",
    "    - Dummy column encoding\n",
    "    - Log variables\n",
    "- Fit model\n",
    "    - Initial model: set up a basic `ModelPipeline` and fit `model1` using it.  Run model diagnostics.\n",
    "    - Second model: fit `model2` with the pipeline.  Run model diagnostics.\n",
    "    - Second model with different base levels for categorical variables."
   ]
  },
  {
   "cell_type": "markdown",
   "metadata": {},
   "source": [
    "# Load data"
   ]
  },
  {
   "cell_type": "code",
   "execution_count": 2,
   "metadata": {},
   "outputs": [],
   "source": [
    "df_raw = sm.datasets.get_rdataset('Cars93', 'MASS').data"
   ]
  },
  {
   "cell_type": "code",
   "execution_count": 3,
   "metadata": {},
   "outputs": [
    {
     "data": {
      "text/plain": [
       "(93, 27)"
      ]
     },
     "execution_count": 3,
     "metadata": {},
     "output_type": "execute_result"
    }
   ],
   "source": [
    "df_raw.shape"
   ]
  },
  {
   "cell_type": "markdown",
   "metadata": {},
   "source": [
    "# Explore data"
   ]
  },
  {
   "cell_type": "code",
   "execution_count": 4,
   "metadata": {},
   "outputs": [
    {
     "data": {
      "text/html": [
       "<div>\n",
       "<style scoped>\n",
       "    .dataframe tbody tr th:only-of-type {\n",
       "        vertical-align: middle;\n",
       "    }\n",
       "\n",
       "    .dataframe tbody tr th {\n",
       "        vertical-align: top;\n",
       "    }\n",
       "\n",
       "    .dataframe thead th {\n",
       "        text-align: right;\n",
       "    }\n",
       "</style>\n",
       "<table border=\"1\" class=\"dataframe\">\n",
       "  <thead>\n",
       "    <tr style=\"text-align: right;\">\n",
       "      <th></th>\n",
       "      <th>mean</th>\n",
       "      <th>var</th>\n",
       "      <th>skew</th>\n",
       "      <th>kurtosis</th>\n",
       "    </tr>\n",
       "  </thead>\n",
       "  <tbody>\n",
       "    <tr>\n",
       "      <th>Min.Price</th>\n",
       "      <td>17.1258</td>\n",
       "      <td>76.493</td>\n",
       "      <td>1.16382</td>\n",
       "      <td>0.9016</td>\n",
       "    </tr>\n",
       "    <tr>\n",
       "      <th>Price</th>\n",
       "      <td>19.5097</td>\n",
       "      <td>93.3046</td>\n",
       "      <td>1.50824</td>\n",
       "      <td>3.18369</td>\n",
       "    </tr>\n",
       "    <tr>\n",
       "      <th>Max.Price</th>\n",
       "      <td>21.8989</td>\n",
       "      <td>121.671</td>\n",
       "      <td>2.00091</td>\n",
       "      <td>6.9816</td>\n",
       "    </tr>\n",
       "    <tr>\n",
       "      <th>MPG.city</th>\n",
       "      <td>22.3656</td>\n",
       "      <td>31.5823</td>\n",
       "      <td>1.67682</td>\n",
       "      <td>3.72841</td>\n",
       "    </tr>\n",
       "    <tr>\n",
       "      <th>MPG.highway</th>\n",
       "      <td>29.086</td>\n",
       "      <td>28.4273</td>\n",
       "      <td>1.20997</td>\n",
       "      <td>2.41192</td>\n",
       "    </tr>\n",
       "    <tr>\n",
       "      <th>EngineSize</th>\n",
       "      <td>2.66774</td>\n",
       "      <td>1.07612</td>\n",
       "      <td>0.845494</td>\n",
       "      <td>0.297016</td>\n",
       "    </tr>\n",
       "    <tr>\n",
       "      <th>Horsepower</th>\n",
       "      <td>143.828</td>\n",
       "      <td>2743.08</td>\n",
       "      <td>0.936308</td>\n",
       "      <td>0.98822</td>\n",
       "    </tr>\n",
       "    <tr>\n",
       "      <th>RPM</th>\n",
       "      <td>5280.65</td>\n",
       "      <td>356089</td>\n",
       "      <td>-0.254344</td>\n",
       "      <td>-0.451623</td>\n",
       "    </tr>\n",
       "    <tr>\n",
       "      <th>Rev.per.mile</th>\n",
       "      <td>2332.2</td>\n",
       "      <td>246519</td>\n",
       "      <td>0.276984</td>\n",
       "      <td>0.145034</td>\n",
       "    </tr>\n",
       "    <tr>\n",
       "      <th>Fuel.tank.capacity</th>\n",
       "      <td>16.6645</td>\n",
       "      <td>10.7543</td>\n",
       "      <td>0.106394</td>\n",
       "      <td>0.0566398</td>\n",
       "    </tr>\n",
       "    <tr>\n",
       "      <th>Passengers</th>\n",
       "      <td>5.08602</td>\n",
       "      <td>1.07948</td>\n",
       "      <td>0.061504</td>\n",
       "      <td>0.822782</td>\n",
       "    </tr>\n",
       "    <tr>\n",
       "      <th>Length</th>\n",
       "      <td>183.204</td>\n",
       "      <td>213.23</td>\n",
       "      <td>-0.0886349</td>\n",
       "      <td>0.361628</td>\n",
       "    </tr>\n",
       "    <tr>\n",
       "      <th>Wheelbase</th>\n",
       "      <td>103.946</td>\n",
       "      <td>46.5079</td>\n",
       "      <td>0.111884</td>\n",
       "      <td>-0.819052</td>\n",
       "    </tr>\n",
       "    <tr>\n",
       "      <th>Width</th>\n",
       "      <td>69.3763</td>\n",
       "      <td>14.2807</td>\n",
       "      <td>0.25975</td>\n",
       "      <td>-0.297207</td>\n",
       "    </tr>\n",
       "    <tr>\n",
       "      <th>Turn.circle</th>\n",
       "      <td>38.957</td>\n",
       "      <td>10.3894</td>\n",
       "      <td>-0.131405</td>\n",
       "      <td>-0.757256</td>\n",
       "    </tr>\n",
       "    <tr>\n",
       "      <th>Rear.seat.room</th>\n",
       "      <td>27.8297</td>\n",
       "      <td>8.93455</td>\n",
       "      <td>0.0769636</td>\n",
       "      <td>0.781057</td>\n",
       "    </tr>\n",
       "    <tr>\n",
       "      <th>Luggage.room</th>\n",
       "      <td>13.8902</td>\n",
       "      <td>8.9878</td>\n",
       "      <td>0.225345</td>\n",
       "      <td>0.444448</td>\n",
       "    </tr>\n",
       "    <tr>\n",
       "      <th>Weight</th>\n",
       "      <td>3072.9</td>\n",
       "      <td>347978</td>\n",
       "      <td>-0.141341</td>\n",
       "      <td>-0.873658</td>\n",
       "    </tr>\n",
       "  </tbody>\n",
       "</table>\n",
       "</div>"
      ],
      "text/plain": [
       "                       mean      var       skew   kurtosis\n",
       "Min.Price           17.1258   76.493    1.16382     0.9016\n",
       "Price               19.5097  93.3046    1.50824    3.18369\n",
       "Max.Price           21.8989  121.671    2.00091     6.9816\n",
       "MPG.city            22.3656  31.5823    1.67682    3.72841\n",
       "MPG.highway          29.086  28.4273    1.20997    2.41192\n",
       "EngineSize          2.66774  1.07612   0.845494   0.297016\n",
       "Horsepower          143.828  2743.08   0.936308    0.98822\n",
       "RPM                 5280.65   356089  -0.254344  -0.451623\n",
       "Rev.per.mile         2332.2   246519   0.276984   0.145034\n",
       "Fuel.tank.capacity  16.6645  10.7543   0.106394  0.0566398\n",
       "Passengers          5.08602  1.07948   0.061504   0.822782\n",
       "Length              183.204   213.23 -0.0886349   0.361628\n",
       "Wheelbase           103.946  46.5079   0.111884  -0.819052\n",
       "Width               69.3763  14.2807    0.25975  -0.297207\n",
       "Turn.circle          38.957  10.3894  -0.131405  -0.757256\n",
       "Rear.seat.room      27.8297  8.93455  0.0769636   0.781057\n",
       "Luggage.room        13.8902   8.9878   0.225345   0.444448\n",
       "Weight               3072.9   347978  -0.141341  -0.873658"
      ]
     },
     "execution_count": 4,
     "metadata": {},
     "output_type": "execute_result"
    }
   ],
   "source": [
    "statistical_moments(df_raw)"
   ]
  },
  {
   "cell_type": "markdown",
   "metadata": {},
   "source": [
    "Exploratory data analysis and causal reasoning are not the focus of this notebook.\n",
    "\n",
    "We are interested in **modelling the `Price` of cars based on these independent variables:**\n",
    "- `Type` (categorical variable)\n",
    "- `MPG.city` (continuous variable)\n",
    "- `Airbags` (categorical variable)\n",
    "- `Origin` (categorical variable)"
   ]
  },
  {
   "cell_type": "markdown",
   "metadata": {},
   "source": [
    "# Transform data"
   ]
  },
  {
   "cell_type": "markdown",
   "metadata": {},
   "source": [
    "## Rename columns"
   ]
  },
  {
   "cell_type": "markdown",
   "metadata": {},
   "source": [
    "The source dataset has columns in camel case.  As we're using Python let's get it closer to **snake case**."
   ]
  },
  {
   "cell_type": "code",
   "execution_count": 5,
   "metadata": {},
   "outputs": [],
   "source": [
    "def _rename_columns(df):\n",
    "    \"Make column names lowercase and more like snake-case.\"\n",
    "    return (df\n",
    "            .rename(columns=lambda x: re.sub(\"[ ,.,-]\", '_', x))\n",
    "            .rename(columns=str.lower))"
   ]
  },
  {
   "cell_type": "code",
   "execution_count": 6,
   "metadata": {},
   "outputs": [
    {
     "data": {
      "text/plain": [
       "Index(['Manufacturer', 'Model', 'Type', 'Min.Price', 'Price', 'Max.Price',\n",
       "       'MPG.city', 'MPG.highway', 'AirBags', 'DriveTrain', 'Cylinders',\n",
       "       'EngineSize', 'Horsepower', 'RPM', 'Rev.per.mile', 'Man.trans.avail',\n",
       "       'Fuel.tank.capacity', 'Passengers', 'Length', 'Wheelbase', 'Width',\n",
       "       'Turn.circle', 'Rear.seat.room', 'Luggage.room', 'Weight', 'Origin',\n",
       "       'Make'],\n",
       "      dtype='object')"
      ]
     },
     "execution_count": 6,
     "metadata": {},
     "output_type": "execute_result"
    }
   ],
   "source": [
    "df_raw.columns"
   ]
  },
  {
   "cell_type": "code",
   "execution_count": 7,
   "metadata": {},
   "outputs": [],
   "source": [
    "df_raw = df_raw.pipe(_rename_columns)"
   ]
  },
  {
   "cell_type": "markdown",
   "metadata": {},
   "source": [
    "Clean the column names by using the `rename_columns` method."
   ]
  },
  {
   "cell_type": "code",
   "execution_count": 8,
   "metadata": {},
   "outputs": [
    {
     "data": {
      "text/plain": [
       "Index(['manufacturer', 'model', 'type', 'min_price', 'price', 'max_price',\n",
       "       'mpg_city', 'mpg_highway', 'airbags', 'drivetrain', 'cylinders',\n",
       "       'enginesize', 'horsepower', 'rpm', 'rev_per_mile', 'man_trans_avail',\n",
       "       'fuel_tank_capacity', 'passengers', 'length', 'wheelbase', 'width',\n",
       "       'turn_circle', 'rear_seat_room', 'luggage_room', 'weight', 'origin',\n",
       "       'make'],\n",
       "      dtype='object')"
      ]
     },
     "execution_count": 8,
     "metadata": {},
     "output_type": "execute_result"
    }
   ],
   "source": [
    "df_raw.columns"
   ]
  },
  {
   "cell_type": "markdown",
   "metadata": {},
   "source": [
    "## Encoding of columns"
   ]
  },
  {
   "cell_type": "markdown",
   "metadata": {},
   "source": [
    "There are many categorical variables in the dataset, so for a linear regression model we will need to encode dummy variables from each categorical variable."
   ]
  },
  {
   "cell_type": "code",
   "execution_count": 9,
   "metadata": {},
   "outputs": [],
   "source": [
    "def _process_data(raw_df, cat_base_levels):\n",
    "    \"Transform raw dataset by encoding columns, e.g. dummy columns from categorical variables.\"\n",
    "    return (df_raw\n",
    "            .pipe(_rename_columns)\n",
    "            .pipe(DummyEncoder,\n",
    "                  categorical_col_base_levels=cat_base_levels)\n",
    "            .transform()\n",
    "            .pipe(_rename_columns))"
   ]
  },
  {
   "cell_type": "markdown",
   "metadata": {},
   "source": [
    "Here is an example of a categorical variable in the dataset and its values:"
   ]
  },
  {
   "cell_type": "code",
   "execution_count": 10,
   "metadata": {},
   "outputs": [
    {
     "data": {
      "text/plain": [
       "array(['None', 'Driver & Passenger', 'Driver only'], dtype=object)"
      ]
     },
     "execution_count": 10,
     "metadata": {},
     "output_type": "execute_result"
    }
   ],
   "source": [
    "df_raw['airbags'].unique()"
   ]
  },
  {
   "cell_type": "markdown",
   "metadata": {},
   "source": [
    "The raw dataset comes with category values that have capital letters and whitespace.  When encoding dummy columns from them, it is desirable to have the new columns as close to snake case as possible.  The **encoder** will process the columns so that they are more like snake case."
   ]
  },
  {
   "cell_type": "markdown",
   "metadata": {},
   "source": [
    "For demonstration, see the columns from a transformed dataset below."
   ]
  },
  {
   "cell_type": "code",
   "execution_count": 11,
   "metadata": {},
   "outputs": [
    {
     "data": {
      "text/plain": [
       "Index(['manufacturer', 'model', 'min_price', 'price', 'max_price', 'mpg_city',\n",
       "       'mpg_highway', 'drivetrain', 'cylinders', 'enginesize', 'horsepower',\n",
       "       'rpm', 'rev_per_mile', 'man_trans_avail', 'fuel_tank_capacity',\n",
       "       'passengers', 'length', 'wheelbase', 'width', 'turn_circle',\n",
       "       'rear_seat_room', 'luggage_room', 'weight', 'make', 'type_large',\n",
       "       'type_midsize', 'type_small', 'type_sporty', 'type_van',\n",
       "       'airbags_driver_&_passenger', 'airbags_driver_only', 'origin_non_usa'],\n",
       "      dtype='object')"
      ]
     },
     "execution_count": 11,
     "metadata": {},
     "output_type": "execute_result"
    }
   ],
   "source": [
    "df_raw.pipe(_process_data, {'type': 'Compact',\n",
    "                            'airbags': 'None',\n",
    "                            'origin': 'USA'}).columns"
   ]
  },
  {
   "cell_type": "markdown",
   "metadata": {},
   "source": [
    "## Log variables"
   ]
  },
  {
   "cell_type": "markdown",
   "metadata": {},
   "source": [
    "Create a basic function for generating log transformations of variables.  This will be particularly useful for positively-skewed variables."
   ]
  },
  {
   "cell_type": "code",
   "execution_count": 12,
   "metadata": {},
   "outputs": [],
   "source": [
    "def _create_log_variables(raw_df, cols_list):\n",
    "    \"Transform dataset to include log variables of the variables in cols_list.\"\n",
    "    df = raw_df.copy()\n",
    "    for col in cols_list:\n",
    "        df['ln_' + col] = np.log(df[col])\n",
    "    return df"
   ]
  },
  {
   "cell_type": "markdown",
   "metadata": {},
   "source": [
    "These data cleaning functions could be gathered in a specific class, e.g. `Transformer`."
   ]
  },
  {
   "cell_type": "markdown",
   "metadata": {},
   "source": [
    "# Fit model"
   ]
  },
  {
   "cell_type": "markdown",
   "metadata": {},
   "source": [
    "## Initial model"
   ]
  },
  {
   "cell_type": "markdown",
   "metadata": {},
   "source": [
    "Let's set out these key things for a linear model, from the raw dataset:\n",
    "- Dependent variable (`raw_y_list`)\n",
    "- Independent variables (`raw_X_list`) and the base levels for the categorical variables."
   ]
  },
  {
   "cell_type": "code",
   "execution_count": 13,
   "metadata": {},
   "outputs": [],
   "source": [
    "raw_y_list = ['price']\n",
    "raw_X_list = ['type', 'mpg_city', 'airbags', 'origin']\n",
    "cat_base_levels = {'type': 'Compact',\n",
    "                   'airbags': 'None',\n",
    "                   'origin': 'USA'}"
   ]
  },
  {
   "cell_type": "markdown",
   "metadata": {},
   "source": [
    "Notice how many of the variables in `raw_X_list` are categorical variables."
   ]
  },
  {
   "cell_type": "code",
   "execution_count": 14,
   "metadata": {},
   "outputs": [
    {
     "data": {
      "text/plain": [
       "type        object\n",
       "mpg_city     int64\n",
       "airbags     object\n",
       "origin      object\n",
       "dtype: object"
      ]
     },
     "execution_count": 14,
     "metadata": {},
     "output_type": "execute_result"
    }
   ],
   "source": [
    "df_raw[raw_X_list].dtypes"
   ]
  },
  {
   "cell_type": "code",
   "execution_count": 15,
   "metadata": {},
   "outputs": [
    {
     "data": {
      "text/plain": [
       "type         6\n",
       "mpg_city    21\n",
       "airbags      3\n",
       "origin       2\n",
       "dtype: int64"
      ]
     },
     "execution_count": 15,
     "metadata": {},
     "output_type": "execute_result"
    }
   ],
   "source": [
    "df_raw[raw_X_list].nunique()"
   ]
  },
  {
   "cell_type": "markdown",
   "metadata": {},
   "source": [
    "One trick is to make another representation of the independent variables – an X_list – where the categorical variables have the `DummyEncoder` separator appended to them."
   ]
  },
  {
   "cell_type": "code",
   "execution_count": 16,
   "metadata": {},
   "outputs": [
    {
     "data": {
      "text/plain": [
       "['type_', 'mpg_city', 'airbags_', 'origin_']"
      ]
     },
     "execution_count": 16,
     "metadata": {},
     "output_type": "execute_result"
    }
   ],
   "source": [
    "[str(x + '_') if x in cat_base_levels.keys()\n",
    " else x for x in raw_X_list]"
   ]
  },
  {
   "cell_type": "markdown",
   "metadata": {},
   "source": [
    "### `ModelPipeline`"
   ]
  },
  {
   "cell_type": "markdown",
   "metadata": {},
   "source": [
    "We can transform the raw dataset, given lists of its y & X variables (and base levels), and make a dataset to use for modelling.\n",
    "\n",
    "Let's set up a **`ModelPipeline` class**, which takes those variables from the raw dataset and does the following:\n",
    "- Get a final dataset to use for modelling (`get_dataset` method)\n",
    "- Get an Appelpy model object that consumes the final dataset (`get_model` method)."
   ]
  },
  {
   "cell_type": "code",
   "execution_count": 17,
   "metadata": {},
   "outputs": [],
   "source": [
    "class ModelPipeline:\n",
    "    def __init__(self, raw_df, raw_y_list, raw_X_list, cat_base_levels):\n",
    "        self.raw_df = raw_df\n",
    "        self.raw_y_list = raw_y_list\n",
    "        self.raw_X_list = raw_X_list\n",
    "        self.cat_base_levels = cat_base_levels\n",
    "\n",
    "        # Transformed dataset and its columns\n",
    "        self.df = None\n",
    "        self.y_list = None\n",
    "        self.X_list = None\n",
    "\n",
    "    def get_dataset(self):\n",
    "        \"Return processed dataset, ready to use for modelling\"\n",
    "        df = (self.raw_df\n",
    "              .pipe(_process_data, self.cat_base_levels)\n",
    "              .pipe(_create_log_variables, ['price', 'mpg_city']))\n",
    "\n",
    "        # Append separator to columns that represent categorical variables: \n",
    "        X_list_prefixes = [str(x + '_') if x in self.cat_base_levels.keys()\n",
    "                           else x for x in self.raw_X_list]\n",
    "\n",
    "        # Get column names to use in model dataset:\n",
    "        self.y_list = self.raw_y_list\n",
    "        self.X_list = df.columns[df.columns.str.startswith(tuple(X_list_prefixes))]\n",
    "        # and filter the source dataset on those columns:\n",
    "        filter_condition = df.columns.str.startswith(tuple([*self.y_list, *self.X_list]))\n",
    "        self.df = df.loc[:, filter_condition]\n",
    "        return self.df\n",
    "\n",
    "    def get_model(self):\n",
    "        \"Return OLS Appelpy model instance (not fitted)\"\n",
    "        if self.df:\n",
    "            return OLS(self.df, self.y_list, self.X_list)\n",
    "        else:\n",
    "            self.df = self.get_dataset()\n",
    "            return OLS(self.df, self.y_list, self.X_list)"
   ]
  },
  {
   "cell_type": "markdown",
   "metadata": {},
   "source": [
    "This is useful, as it will make it easier to run different specifications of models and inspect the dataset used for modelling."
   ]
  },
  {
   "cell_type": "markdown",
   "metadata": {},
   "source": [
    "### Model results"
   ]
  },
  {
   "cell_type": "code",
   "execution_count": 18,
   "metadata": {},
   "outputs": [
    {
     "data": {
      "text/html": [
       "<table class=\"simpletable\">\n",
       "<caption>OLS Regression Results</caption>\n",
       "<tr>\n",
       "  <th>Dep. Variable:</th>          <td>price</td>      <th>  R-squared:         </th> <td>   0.616</td>\n",
       "</tr>\n",
       "<tr>\n",
       "  <th>Model:</th>                   <td>OLS</td>       <th>  Adj. R-squared:    </th> <td>   0.574</td>\n",
       "</tr>\n",
       "<tr>\n",
       "  <th>Method:</th>             <td>Least Squares</td>  <th>  F-statistic:       </th> <td>   14.79</td>\n",
       "</tr>\n",
       "<tr>\n",
       "  <th>Date:</th>             <td>Sun, 24 Nov 2019</td> <th>  Prob (F-statistic):</th> <td>5.17e-14</td>\n",
       "</tr>\n",
       "<tr>\n",
       "  <th>Time:</th>                 <td>12:01:56</td>     <th>  Log-Likelihood:    </th> <td> -297.87</td>\n",
       "</tr>\n",
       "<tr>\n",
       "  <th>No. Observations:</th>      <td>    93</td>      <th>  AIC:               </th> <td>   615.7</td>\n",
       "</tr>\n",
       "<tr>\n",
       "  <th>Df Residuals:</th>          <td>    83</td>      <th>  BIC:               </th> <td>   641.1</td>\n",
       "</tr>\n",
       "<tr>\n",
       "  <th>Df Model:</th>              <td>     9</td>      <th>                     </th>     <td> </td>   \n",
       "</tr>\n",
       "<tr>\n",
       "  <th>Covariance Type:</th>      <td>nonrobust</td>    <th>                     </th>     <td> </td>   \n",
       "</tr>\n",
       "</table>\n",
       "<table class=\"simpletable\">\n",
       "<tr>\n",
       "               <td></td>                 <th>coef</th>     <th>std err</th>      <th>t</th>      <th>P>|t|</th>  <th>[0.025</th>    <th>0.975]</th>  \n",
       "</tr>\n",
       "<tr>\n",
       "  <th>const</th>                      <td>   29.6931</td> <td>    4.723</td> <td>    6.288</td> <td> 0.000</td> <td>   20.300</td> <td>   39.086</td>\n",
       "</tr>\n",
       "<tr>\n",
       "  <th>mpg_city</th>                   <td>   -0.7957</td> <td>    0.191</td> <td>   -4.162</td> <td> 0.000</td> <td>   -1.176</td> <td>   -0.415</td>\n",
       "</tr>\n",
       "<tr>\n",
       "  <th>type_large</th>                 <td>    3.0755</td> <td>    2.774</td> <td>    1.109</td> <td> 0.271</td> <td>   -2.442</td> <td>    8.593</td>\n",
       "</tr>\n",
       "<tr>\n",
       "  <th>type_midsize</th>               <td>    5.1573</td> <td>    2.183</td> <td>    2.362</td> <td> 0.020</td> <td>    0.815</td> <td>    9.499</td>\n",
       "</tr>\n",
       "<tr>\n",
       "  <th>type_small</th>                 <td>   -0.2819</td> <td>    2.598</td> <td>   -0.109</td> <td> 0.914</td> <td>   -5.449</td> <td>    4.885</td>\n",
       "</tr>\n",
       "<tr>\n",
       "  <th>type_sporty</th>                <td>    0.3151</td> <td>    2.329</td> <td>    0.135</td> <td> 0.893</td> <td>   -4.318</td> <td>    4.948</td>\n",
       "</tr>\n",
       "<tr>\n",
       "  <th>type_van</th>                   <td>   -0.8718</td> <td>    2.904</td> <td>   -0.300</td> <td> 0.765</td> <td>   -6.647</td> <td>    4.903</td>\n",
       "</tr>\n",
       "<tr>\n",
       "  <th>airbags_driver_&_passenger</th> <td>    8.9089</td> <td>    2.284</td> <td>    3.900</td> <td> 0.000</td> <td>    4.365</td> <td>   13.452</td>\n",
       "</tr>\n",
       "<tr>\n",
       "  <th>airbags_driver_only</th>        <td>    4.5643</td> <td>    1.672</td> <td>    2.730</td> <td> 0.008</td> <td>    1.239</td> <td>    7.890</td>\n",
       "</tr>\n",
       "<tr>\n",
       "  <th>origin_non_usa</th>             <td>    5.1411</td> <td>    1.439</td> <td>    3.573</td> <td> 0.001</td> <td>    2.280</td> <td>    8.003</td>\n",
       "</tr>\n",
       "</table>\n",
       "<table class=\"simpletable\">\n",
       "<tr>\n",
       "  <th>Omnibus:</th>       <td>43.351</td> <th>  Durbin-Watson:     </th> <td>   1.962</td>\n",
       "</tr>\n",
       "<tr>\n",
       "  <th>Prob(Omnibus):</th> <td> 0.000</td> <th>  Jarque-Bera (JB):  </th> <td> 123.544</td>\n",
       "</tr>\n",
       "<tr>\n",
       "  <th>Skew:</th>          <td> 1.620</td> <th>  Prob(JB):          </th> <td>1.49e-27</td>\n",
       "</tr>\n",
       "<tr>\n",
       "  <th>Kurtosis:</th>      <td> 7.624</td> <th>  Cond. No.          </th> <td>    195.</td>\n",
       "</tr>\n",
       "</table><br/><br/>Warnings:<br/>[1] Standard Errors assume that the covariance matrix of the errors is correctly specified."
      ],
      "text/plain": [
       "<class 'statsmodels.iolib.summary.Summary'>\n",
       "\"\"\"\n",
       "                            OLS Regression Results                            \n",
       "==============================================================================\n",
       "Dep. Variable:                  price   R-squared:                       0.616\n",
       "Model:                            OLS   Adj. R-squared:                  0.574\n",
       "Method:                 Least Squares   F-statistic:                     14.79\n",
       "Date:                Sun, 24 Nov 2019   Prob (F-statistic):           5.17e-14\n",
       "Time:                        12:01:56   Log-Likelihood:                -297.87\n",
       "No. Observations:                  93   AIC:                             615.7\n",
       "Df Residuals:                      83   BIC:                             641.1\n",
       "Df Model:                           9                                         \n",
       "Covariance Type:            nonrobust                                         \n",
       "==============================================================================================\n",
       "                                 coef    std err          t      P>|t|      [0.025      0.975]\n",
       "----------------------------------------------------------------------------------------------\n",
       "const                         29.6931      4.723      6.288      0.000      20.300      39.086\n",
       "mpg_city                      -0.7957      0.191     -4.162      0.000      -1.176      -0.415\n",
       "type_large                     3.0755      2.774      1.109      0.271      -2.442       8.593\n",
       "type_midsize                   5.1573      2.183      2.362      0.020       0.815       9.499\n",
       "type_small                    -0.2819      2.598     -0.109      0.914      -5.449       4.885\n",
       "type_sporty                    0.3151      2.329      0.135      0.893      -4.318       4.948\n",
       "type_van                      -0.8718      2.904     -0.300      0.765      -6.647       4.903\n",
       "airbags_driver_&_passenger     8.9089      2.284      3.900      0.000       4.365      13.452\n",
       "airbags_driver_only            4.5643      1.672      2.730      0.008       1.239       7.890\n",
       "origin_non_usa                 5.1411      1.439      3.573      0.001       2.280       8.003\n",
       "==============================================================================\n",
       "Omnibus:                       43.351   Durbin-Watson:                   1.962\n",
       "Prob(Omnibus):                  0.000   Jarque-Bera (JB):              123.544\n",
       "Skew:                           1.620   Prob(JB):                     1.49e-27\n",
       "Kurtosis:                       7.624   Cond. No.                         195.\n",
       "==============================================================================\n",
       "\n",
       "Warnings:\n",
       "[1] Standard Errors assume that the covariance matrix of the errors is correctly specified.\n",
       "\"\"\""
      ]
     },
     "execution_count": 18,
     "metadata": {},
     "output_type": "execute_result"
    }
   ],
   "source": [
    "model1 = (ModelPipeline(df_raw, raw_y_list, raw_X_list, cat_base_levels)\n",
    "          .get_model()\n",
    "          .fit())\n",
    "model1.results_output"
   ]
  },
  {
   "cell_type": "code",
   "execution_count": 19,
   "metadata": {},
   "outputs": [
    {
     "data": {
      "text/html": [
       "<style  type=\"text/css\" >\n",
       "</style><table id=\"T_36311086_0eb2_11ea_b970_4c3488f12182\" ><caption>Unstandardized and Standardized Estimates</caption><thead>    <tr>        <th class=\"blank level0\" ></th>        <th class=\"col_heading level0 col0\" >coef</th>        <th class=\"col_heading level0 col1\" >t</th>        <th class=\"col_heading level0 col2\" >P>|t|</th>        <th class=\"col_heading level0 col3\" >coef_stdX</th>        <th class=\"col_heading level0 col4\" >coef_stdXy</th>        <th class=\"col_heading level0 col5\" >stdev_X</th>    </tr>    <tr>        <th class=\"index_name level0\" >price</th>        <th class=\"blank\" ></th>        <th class=\"blank\" ></th>        <th class=\"blank\" ></th>        <th class=\"blank\" ></th>        <th class=\"blank\" ></th>        <th class=\"blank\" ></th>    </tr></thead><tbody>\n",
       "                <tr>\n",
       "                        <th id=\"T_36311086_0eb2_11ea_b970_4c3488f12182level0_row0\" class=\"row_heading level0 row0\" >mpg_city</th>\n",
       "                        <td id=\"T_36311086_0eb2_11ea_b970_4c3488f12182row0_col0\" class=\"data row0 col0\" >-0.7957</td>\n",
       "                        <td id=\"T_36311086_0eb2_11ea_b970_4c3488f12182row0_col1\" class=\"data row0 col1\" >-4.162</td>\n",
       "                        <td id=\"T_36311086_0eb2_11ea_b970_4c3488f12182row0_col2\" class=\"data row0 col2\" >0.000</td>\n",
       "                        <td id=\"T_36311086_0eb2_11ea_b970_4c3488f12182row0_col3\" class=\"data row0 col3\" >-4.4719</td>\n",
       "                        <td id=\"T_36311086_0eb2_11ea_b970_4c3488f12182row0_col4\" class=\"data row0 col4\" >-0.4630</td>\n",
       "                        <td id=\"T_36311086_0eb2_11ea_b970_4c3488f12182row0_col5\" class=\"data row0 col5\" >5.6198</td>\n",
       "            </tr>\n",
       "            <tr>\n",
       "                        <th id=\"T_36311086_0eb2_11ea_b970_4c3488f12182level0_row1\" class=\"row_heading level0 row1\" >type_large</th>\n",
       "                        <td id=\"T_36311086_0eb2_11ea_b970_4c3488f12182row1_col0\" class=\"data row1 col0\" >+3.0755</td>\n",
       "                        <td id=\"T_36311086_0eb2_11ea_b970_4c3488f12182row1_col1\" class=\"data row1 col1\" >+1.109</td>\n",
       "                        <td id=\"T_36311086_0eb2_11ea_b970_4c3488f12182row1_col2\" class=\"data row1 col2\" >0.271</td>\n",
       "                        <td id=\"T_36311086_0eb2_11ea_b970_4c3488f12182row1_col3\" class=\"data row1 col3\" >+0.9986</td>\n",
       "                        <td id=\"T_36311086_0eb2_11ea_b970_4c3488f12182row1_col4\" class=\"data row1 col4\" >+0.1034</td>\n",
       "                        <td id=\"T_36311086_0eb2_11ea_b970_4c3488f12182row1_col5\" class=\"data row1 col5\" >0.3247</td>\n",
       "            </tr>\n",
       "            <tr>\n",
       "                        <th id=\"T_36311086_0eb2_11ea_b970_4c3488f12182level0_row2\" class=\"row_heading level0 row2\" >type_midsize</th>\n",
       "                        <td id=\"T_36311086_0eb2_11ea_b970_4c3488f12182row2_col0\" class=\"data row2 col0\" >+5.1573</td>\n",
       "                        <td id=\"T_36311086_0eb2_11ea_b970_4c3488f12182row2_col1\" class=\"data row2 col1\" >+2.362</td>\n",
       "                        <td id=\"T_36311086_0eb2_11ea_b970_4c3488f12182row2_col2\" class=\"data row2 col2\" >0.020</td>\n",
       "                        <td id=\"T_36311086_0eb2_11ea_b970_4c3488f12182row2_col3\" class=\"data row2 col3\" >+2.2036</td>\n",
       "                        <td id=\"T_36311086_0eb2_11ea_b970_4c3488f12182row2_col4\" class=\"data row2 col4\" >+0.2281</td>\n",
       "                        <td id=\"T_36311086_0eb2_11ea_b970_4c3488f12182row2_col5\" class=\"data row2 col5\" >0.4273</td>\n",
       "            </tr>\n",
       "            <tr>\n",
       "                        <th id=\"T_36311086_0eb2_11ea_b970_4c3488f12182level0_row3\" class=\"row_heading level0 row3\" >type_small</th>\n",
       "                        <td id=\"T_36311086_0eb2_11ea_b970_4c3488f12182row3_col0\" class=\"data row3 col0\" >-0.2819</td>\n",
       "                        <td id=\"T_36311086_0eb2_11ea_b970_4c3488f12182row3_col1\" class=\"data row3 col1\" >-0.109</td>\n",
       "                        <td id=\"T_36311086_0eb2_11ea_b970_4c3488f12182row3_col2\" class=\"data row3 col2\" >0.914</td>\n",
       "                        <td id=\"T_36311086_0eb2_11ea_b970_4c3488f12182row3_col3\" class=\"data row3 col3\" >-0.1185</td>\n",
       "                        <td id=\"T_36311086_0eb2_11ea_b970_4c3488f12182row3_col4\" class=\"data row3 col4\" >-0.0123</td>\n",
       "                        <td id=\"T_36311086_0eb2_11ea_b970_4c3488f12182row3_col5\" class=\"data row3 col5\" >0.4204</td>\n",
       "            </tr>\n",
       "            <tr>\n",
       "                        <th id=\"T_36311086_0eb2_11ea_b970_4c3488f12182level0_row4\" class=\"row_heading level0 row4\" >type_sporty</th>\n",
       "                        <td id=\"T_36311086_0eb2_11ea_b970_4c3488f12182row4_col0\" class=\"data row4 col0\" >+0.3151</td>\n",
       "                        <td id=\"T_36311086_0eb2_11ea_b970_4c3488f12182row4_col1\" class=\"data row4 col1\" >+0.135</td>\n",
       "                        <td id=\"T_36311086_0eb2_11ea_b970_4c3488f12182row4_col2\" class=\"data row4 col2\" >0.893</td>\n",
       "                        <td id=\"T_36311086_0eb2_11ea_b970_4c3488f12182row4_col3\" class=\"data row4 col3\" >+0.1133</td>\n",
       "                        <td id=\"T_36311086_0eb2_11ea_b970_4c3488f12182row4_col4\" class=\"data row4 col4\" >+0.0117</td>\n",
       "                        <td id=\"T_36311086_0eb2_11ea_b970_4c3488f12182row4_col5\" class=\"data row4 col5\" >0.3595</td>\n",
       "            </tr>\n",
       "            <tr>\n",
       "                        <th id=\"T_36311086_0eb2_11ea_b970_4c3488f12182level0_row5\" class=\"row_heading level0 row5\" >type_van</th>\n",
       "                        <td id=\"T_36311086_0eb2_11ea_b970_4c3488f12182row5_col0\" class=\"data row5 col0\" >-0.8718</td>\n",
       "                        <td id=\"T_36311086_0eb2_11ea_b970_4c3488f12182row5_col1\" class=\"data row5 col1\" >-0.300</td>\n",
       "                        <td id=\"T_36311086_0eb2_11ea_b970_4c3488f12182row5_col2\" class=\"data row5 col2\" >0.765</td>\n",
       "                        <td id=\"T_36311086_0eb2_11ea_b970_4c3488f12182row5_col3\" class=\"data row5 col3\" >-0.2591</td>\n",
       "                        <td id=\"T_36311086_0eb2_11ea_b970_4c3488f12182row5_col4\" class=\"data row5 col4\" >-0.0268</td>\n",
       "                        <td id=\"T_36311086_0eb2_11ea_b970_4c3488f12182row5_col5\" class=\"data row5 col5\" >0.2973</td>\n",
       "            </tr>\n",
       "            <tr>\n",
       "                        <th id=\"T_36311086_0eb2_11ea_b970_4c3488f12182level0_row6\" class=\"row_heading level0 row6\" >airbags_driver_&_passenger</th>\n",
       "                        <td id=\"T_36311086_0eb2_11ea_b970_4c3488f12182row6_col0\" class=\"data row6 col0\" >+8.9089</td>\n",
       "                        <td id=\"T_36311086_0eb2_11ea_b970_4c3488f12182row6_col1\" class=\"data row6 col1\" >+3.900</td>\n",
       "                        <td id=\"T_36311086_0eb2_11ea_b970_4c3488f12182row6_col2\" class=\"data row6 col2\" >0.000</td>\n",
       "                        <td id=\"T_36311086_0eb2_11ea_b970_4c3488f12182row6_col3\" class=\"data row6 col3\" >+3.3806</td>\n",
       "                        <td id=\"T_36311086_0eb2_11ea_b970_4c3488f12182row6_col4\" class=\"data row6 col4\" >+0.3500</td>\n",
       "                        <td id=\"T_36311086_0eb2_11ea_b970_4c3488f12182row6_col5\" class=\"data row6 col5\" >0.3795</td>\n",
       "            </tr>\n",
       "            <tr>\n",
       "                        <th id=\"T_36311086_0eb2_11ea_b970_4c3488f12182level0_row7\" class=\"row_heading level0 row7\" >airbags_driver_only</th>\n",
       "                        <td id=\"T_36311086_0eb2_11ea_b970_4c3488f12182row7_col0\" class=\"data row7 col0\" >+4.5643</td>\n",
       "                        <td id=\"T_36311086_0eb2_11ea_b970_4c3488f12182row7_col1\" class=\"data row7 col1\" >+2.730</td>\n",
       "                        <td id=\"T_36311086_0eb2_11ea_b970_4c3488f12182row7_col2\" class=\"data row7 col2\" >0.008</td>\n",
       "                        <td id=\"T_36311086_0eb2_11ea_b970_4c3488f12182row7_col3\" class=\"data row7 col3\" >+2.2880</td>\n",
       "                        <td id=\"T_36311086_0eb2_11ea_b970_4c3488f12182row7_col4\" class=\"data row7 col4\" >+0.2369</td>\n",
       "                        <td id=\"T_36311086_0eb2_11ea_b970_4c3488f12182row7_col5\" class=\"data row7 col5\" >0.5013</td>\n",
       "            </tr>\n",
       "            <tr>\n",
       "                        <th id=\"T_36311086_0eb2_11ea_b970_4c3488f12182level0_row8\" class=\"row_heading level0 row8\" >origin_non_usa</th>\n",
       "                        <td id=\"T_36311086_0eb2_11ea_b970_4c3488f12182row8_col0\" class=\"data row8 col0\" >+5.1411</td>\n",
       "                        <td id=\"T_36311086_0eb2_11ea_b970_4c3488f12182row8_col1\" class=\"data row8 col1\" >+3.573</td>\n",
       "                        <td id=\"T_36311086_0eb2_11ea_b970_4c3488f12182row8_col2\" class=\"data row8 col2\" >0.001</td>\n",
       "                        <td id=\"T_36311086_0eb2_11ea_b970_4c3488f12182row8_col3\" class=\"data row8 col3\" >+2.5831</td>\n",
       "                        <td id=\"T_36311086_0eb2_11ea_b970_4c3488f12182row8_col4\" class=\"data row8 col4\" >+0.2674</td>\n",
       "                        <td id=\"T_36311086_0eb2_11ea_b970_4c3488f12182row8_col5\" class=\"data row8 col5\" >0.5024</td>\n",
       "            </tr>\n",
       "    </tbody></table>"
      ],
      "text/plain": [
       "<pandas.io.formats.style.Styler at 0x1933f9a4d08>"
      ]
     },
     "execution_count": 19,
     "metadata": {},
     "output_type": "execute_result"
    }
   ],
   "source": [
    "model1.results_output_standardized"
   ]
  },
  {
   "cell_type": "markdown",
   "metadata": {},
   "source": [
    "Access the dataset used for modelling from the model pipeline."
   ]
  },
  {
   "cell_type": "code",
   "execution_count": 20,
   "metadata": {},
   "outputs": [],
   "source": [
    "df = (ModelPipeline(df_raw, raw_y_list, raw_X_list, cat_base_levels)\n",
    "      .get_dataset())"
   ]
  },
  {
   "cell_type": "code",
   "execution_count": 21,
   "metadata": {},
   "outputs": [
    {
     "data": {
      "text/html": [
       "<div>\n",
       "<style scoped>\n",
       "    .dataframe tbody tr th:only-of-type {\n",
       "        vertical-align: middle;\n",
       "    }\n",
       "\n",
       "    .dataframe tbody tr th {\n",
       "        vertical-align: top;\n",
       "    }\n",
       "\n",
       "    .dataframe thead th {\n",
       "        text-align: right;\n",
       "    }\n",
       "</style>\n",
       "<table border=\"1\" class=\"dataframe\">\n",
       "  <thead>\n",
       "    <tr style=\"text-align: right;\">\n",
       "      <th></th>\n",
       "      <th>price</th>\n",
       "      <th>mpg_city</th>\n",
       "      <th>type_large</th>\n",
       "      <th>type_midsize</th>\n",
       "      <th>type_small</th>\n",
       "      <th>type_sporty</th>\n",
       "      <th>type_van</th>\n",
       "      <th>airbags_driver_&amp;_passenger</th>\n",
       "      <th>airbags_driver_only</th>\n",
       "      <th>origin_non_usa</th>\n",
       "    </tr>\n",
       "  </thead>\n",
       "  <tbody>\n",
       "    <tr>\n",
       "      <th>0</th>\n",
       "      <td>15.9</td>\n",
       "      <td>25</td>\n",
       "      <td>0</td>\n",
       "      <td>0</td>\n",
       "      <td>1</td>\n",
       "      <td>0</td>\n",
       "      <td>0</td>\n",
       "      <td>0</td>\n",
       "      <td>0</td>\n",
       "      <td>1</td>\n",
       "    </tr>\n",
       "    <tr>\n",
       "      <th>1</th>\n",
       "      <td>33.9</td>\n",
       "      <td>18</td>\n",
       "      <td>0</td>\n",
       "      <td>1</td>\n",
       "      <td>0</td>\n",
       "      <td>0</td>\n",
       "      <td>0</td>\n",
       "      <td>1</td>\n",
       "      <td>0</td>\n",
       "      <td>1</td>\n",
       "    </tr>\n",
       "    <tr>\n",
       "      <th>2</th>\n",
       "      <td>29.1</td>\n",
       "      <td>20</td>\n",
       "      <td>0</td>\n",
       "      <td>0</td>\n",
       "      <td>0</td>\n",
       "      <td>0</td>\n",
       "      <td>0</td>\n",
       "      <td>0</td>\n",
       "      <td>1</td>\n",
       "      <td>1</td>\n",
       "    </tr>\n",
       "    <tr>\n",
       "      <th>3</th>\n",
       "      <td>37.7</td>\n",
       "      <td>19</td>\n",
       "      <td>0</td>\n",
       "      <td>1</td>\n",
       "      <td>0</td>\n",
       "      <td>0</td>\n",
       "      <td>0</td>\n",
       "      <td>1</td>\n",
       "      <td>0</td>\n",
       "      <td>1</td>\n",
       "    </tr>\n",
       "    <tr>\n",
       "      <th>4</th>\n",
       "      <td>30.0</td>\n",
       "      <td>22</td>\n",
       "      <td>0</td>\n",
       "      <td>1</td>\n",
       "      <td>0</td>\n",
       "      <td>0</td>\n",
       "      <td>0</td>\n",
       "      <td>0</td>\n",
       "      <td>1</td>\n",
       "      <td>1</td>\n",
       "    </tr>\n",
       "    <tr>\n",
       "      <th>5</th>\n",
       "      <td>15.7</td>\n",
       "      <td>22</td>\n",
       "      <td>0</td>\n",
       "      <td>1</td>\n",
       "      <td>0</td>\n",
       "      <td>0</td>\n",
       "      <td>0</td>\n",
       "      <td>0</td>\n",
       "      <td>1</td>\n",
       "      <td>0</td>\n",
       "    </tr>\n",
       "    <tr>\n",
       "      <th>6</th>\n",
       "      <td>20.8</td>\n",
       "      <td>19</td>\n",
       "      <td>1</td>\n",
       "      <td>0</td>\n",
       "      <td>0</td>\n",
       "      <td>0</td>\n",
       "      <td>0</td>\n",
       "      <td>0</td>\n",
       "      <td>1</td>\n",
       "      <td>0</td>\n",
       "    </tr>\n",
       "    <tr>\n",
       "      <th>7</th>\n",
       "      <td>23.7</td>\n",
       "      <td>16</td>\n",
       "      <td>1</td>\n",
       "      <td>0</td>\n",
       "      <td>0</td>\n",
       "      <td>0</td>\n",
       "      <td>0</td>\n",
       "      <td>0</td>\n",
       "      <td>1</td>\n",
       "      <td>0</td>\n",
       "    </tr>\n",
       "    <tr>\n",
       "      <th>8</th>\n",
       "      <td>26.3</td>\n",
       "      <td>19</td>\n",
       "      <td>0</td>\n",
       "      <td>1</td>\n",
       "      <td>0</td>\n",
       "      <td>0</td>\n",
       "      <td>0</td>\n",
       "      <td>0</td>\n",
       "      <td>1</td>\n",
       "      <td>0</td>\n",
       "    </tr>\n",
       "    <tr>\n",
       "      <th>9</th>\n",
       "      <td>34.7</td>\n",
       "      <td>16</td>\n",
       "      <td>1</td>\n",
       "      <td>0</td>\n",
       "      <td>0</td>\n",
       "      <td>0</td>\n",
       "      <td>0</td>\n",
       "      <td>0</td>\n",
       "      <td>1</td>\n",
       "      <td>0</td>\n",
       "    </tr>\n",
       "  </tbody>\n",
       "</table>\n",
       "</div>"
      ],
      "text/plain": [
       "   price  mpg_city  type_large  type_midsize  type_small  type_sporty  \\\n",
       "0   15.9        25           0             0           1            0   \n",
       "1   33.9        18           0             1           0            0   \n",
       "2   29.1        20           0             0           0            0   \n",
       "3   37.7        19           0             1           0            0   \n",
       "4   30.0        22           0             1           0            0   \n",
       "5   15.7        22           0             1           0            0   \n",
       "6   20.8        19           1             0           0            0   \n",
       "7   23.7        16           1             0           0            0   \n",
       "8   26.3        19           0             1           0            0   \n",
       "9   34.7        16           1             0           0            0   \n",
       "\n",
       "   type_van  airbags_driver_&_passenger  airbags_driver_only  origin_non_usa  \n",
       "0         0                           0                    0               1  \n",
       "1         0                           1                    0               1  \n",
       "2         0                           0                    1               1  \n",
       "3         0                           1                    0               1  \n",
       "4         0                           0                    1               1  \n",
       "5         0                           0                    1               0  \n",
       "6         0                           0                    1               0  \n",
       "7         0                           0                    1               0  \n",
       "8         0                           0                    1               0  \n",
       "9         0                           0                    1               0  "
      ]
     },
     "execution_count": 21,
     "metadata": {},
     "output_type": "execute_result"
    }
   ],
   "source": [
    "df.head(10)"
   ]
  },
  {
   "cell_type": "markdown",
   "metadata": {},
   "source": [
    "### Model diagnostics"
   ]
  },
  {
   "cell_type": "markdown",
   "metadata": {},
   "source": [
    "Let's gather the main residual plots in one place and examine whether the assumptions of OLS hold in the model."
   ]
  },
  {
   "cell_type": "code",
   "execution_count": 22,
   "metadata": {},
   "outputs": [
    {
     "data": {
      "image/png": "[encoded data removed]",
      "text/plain": [
       "<Figure size 720x720 with 4 Axes>"
      ]
     },
     "metadata": {
      "needs_background": "light"
     },
     "output_type": "display_data"
    }
   ],
   "source": [
    "fig, axarr = plt.subplots(2, 2, figsize=(10, 10))\n",
    "model1.diagnostic_plot('pp_plot', ax=axarr[0][0])\n",
    "model1.diagnostic_plot('qq_plot', ax=axarr[0][1])\n",
    "model1.diagnostic_plot('rvp_plot', ax=axarr[1][0])\n",
    "model1.diagnostic_plot('rvf_plot', ax=axarr[1][1])\n",
    "plt.tight_layout()"
   ]
  },
  {
   "cell_type": "code",
   "execution_count": 23,
   "metadata": {},
   "outputs": [
    {
     "data": {
      "image/png": "[encoded data removed]",
      "text/plain": [
       "<Figure size 576x360 with 1 Axes>"
      ]
     },
     "metadata": {
      "needs_background": "light"
     },
     "output_type": "display_data"
    }
   ],
   "source": [
    "fig, ax = plt.subplots(figsize=(8, 5))\n",
    "model1.resid_standardized.hist(ax=ax)\n",
    "ax.set_title('Histogram of standardized residuals')\n",
    "ax.set_xlabel('Standardized residuals')\n",
    "ax.set_ylabel('Frequency')\n",
    "plt.show()"
   ]
  },
  {
   "cell_type": "markdown",
   "metadata": {},
   "source": [
    "From the residual plots, it is clear that the assumptions of OLS do not hold in the model:\n",
    "- Residuals are not normally distributed (for y-values close to mean and ones near the tails)\n",
    "- RVF plot has a linear pattern.  Perhaps there is heteroskedasticity in the dataset.\n",
    "- RVP plot has a funnel pattern."
   ]
  },
  {
   "cell_type": "code",
   "execution_count": 24,
   "metadata": {
    "scrolled": true
   },
   "outputs": [
    {
     "name": "stdout",
     "output_type": "stream",
     "text": [
      "Heteroskedasticity test (studentized Breusch-Pagan)\n",
      "Test stat: 10.65\n",
      "p-value: 0.3002\n"
     ]
    }
   ],
   "source": [
    "test_stat, pval = heteroskedasticity_test('breusch_pagan_studentized', model1)\n",
    "print('Heteroskedasticity test (studentized Breusch-Pagan)')\n",
    "print(f'Test stat: {test_stat:.2f}')\n",
    "print(f'p-value: {pval:.4f}')"
   ]
  },
  {
   "cell_type": "markdown",
   "metadata": {},
   "source": [
    "## Second model"
   ]
  },
  {
   "cell_type": "markdown",
   "metadata": {},
   "source": [
    "The functional form of the first model may be inappropriate.\n",
    "\n",
    "In the statistical moments dataframe we see that the dependent variable `price` is positively skewed.  The model estimates were worst at the tail end of the `price` distribution and the residuals did not appear normally distributed.\n",
    "\n",
    "Let's use the log-transformed price (`ln_price`) as the dependent variable in a second model."
   ]
  },
  {
   "cell_type": "code",
   "execution_count": 25,
   "metadata": {},
   "outputs": [],
   "source": [
    "def log_plots(df, col, figsize=(11,5)):    \n",
    "    plot_df = (df[col].to_frame()\n",
    "               .pipe(_create_log_variables, [col]))\n",
    "    \n",
    "    fig, axarr = plt.subplots(1, 2, figsize=figsize)\n",
    "    \n",
    "    plot_df[col].hist(ax=axarr[0])\n",
    "    axarr[0].set_title('Histogram of {} values'.format(col))\n",
    "    axarr[0].set_ylabel('Frequency')\n",
    "    axarr[0].set_xlabel('Value')\n",
    "    \n",
    "    plot_df['ln_' + col].hist(ax=axarr[1])\n",
    "    axarr[1].set_title('Histogram of ln_{} values'.format(col))\n",
    "    axarr[1].set_ylabel('Frequency')\n",
    "    axarr[1].set_xlabel('Value')\n",
    "\n",
    "    return fig"
   ]
  },
  {
   "cell_type": "code",
   "execution_count": 26,
   "metadata": {},
   "outputs": [
    {
     "data": {
      "image/png": "[encoded data removed]",
      "text/plain": [
       "<Figure size 792x360 with 2 Axes>"
      ]
     },
     "metadata": {
      "needs_background": "light"
     },
     "output_type": "display_data"
    }
   ],
   "source": [
    "log_plots(df_raw, 'price')\n",
    "plt.show()"
   ]
  },
  {
   "cell_type": "code",
   "execution_count": 27,
   "metadata": {},
   "outputs": [
    {
     "data": {
      "image/png": "[encoded data removed]",
      "text/plain": [
       "<Figure size 792x360 with 2 Axes>"
      ]
     },
     "metadata": {
      "needs_background": "light"
     },
     "output_type": "display_data"
    }
   ],
   "source": [
    "log_plots(df_raw, 'mpg_city')\n",
    "plt.show()"
   ]
  },
  {
   "cell_type": "markdown",
   "metadata": {},
   "source": [
    "The log-transforms of the continuous variables in the model have a more normal distribution than their original variables.  However, they still have a slight positive skew.  There are a few particularly influential points in the data."
   ]
  },
  {
   "cell_type": "markdown",
   "metadata": {},
   "source": [
    "`model2` arguments"
   ]
  },
  {
   "cell_type": "code",
   "execution_count": 28,
   "metadata": {},
   "outputs": [],
   "source": [
    "raw_y_list = ['ln_price']\n",
    "raw_X_list = ['type', 'ln_mpg_city', 'airbags', 'origin']\n",
    "cat_base_levels = {'type': 'Compact',\n",
    "                   'airbags': 'None',\n",
    "                   'origin': 'USA'}"
   ]
  },
  {
   "cell_type": "markdown",
   "metadata": {},
   "source": [
    "### Model results"
   ]
  },
  {
   "cell_type": "code",
   "execution_count": 29,
   "metadata": {},
   "outputs": [
    {
     "data": {
      "text/html": [
       "<table class=\"simpletable\">\n",
       "<caption>OLS Regression Results</caption>\n",
       "<tr>\n",
       "  <th>Dep. Variable:</th>        <td>ln_price</td>     <th>  R-squared:         </th> <td>   0.789</td>\n",
       "</tr>\n",
       "<tr>\n",
       "  <th>Model:</th>                   <td>OLS</td>       <th>  Adj. R-squared:    </th> <td>   0.766</td>\n",
       "</tr>\n",
       "<tr>\n",
       "  <th>Method:</th>             <td>Least Squares</td>  <th>  F-statistic:       </th> <td>   34.46</td>\n",
       "</tr>\n",
       "<tr>\n",
       "  <th>Date:</th>             <td>Sun, 24 Nov 2019</td> <th>  Prob (F-statistic):</th> <td>1.98e-24</td>\n",
       "</tr>\n",
       "<tr>\n",
       "  <th>Time:</th>                 <td>12:01:59</td>     <th>  Log-Likelihood:    </th> <td>  14.159</td>\n",
       "</tr>\n",
       "<tr>\n",
       "  <th>No. Observations:</th>      <td>    93</td>      <th>  AIC:               </th> <td>  -8.318</td>\n",
       "</tr>\n",
       "<tr>\n",
       "  <th>Df Residuals:</th>          <td>    83</td>      <th>  BIC:               </th> <td>   17.01</td>\n",
       "</tr>\n",
       "<tr>\n",
       "  <th>Df Model:</th>              <td>     9</td>      <th>                     </th>     <td> </td>   \n",
       "</tr>\n",
       "<tr>\n",
       "  <th>Covariance Type:</th>      <td>nonrobust</td>    <th>                     </th>     <td> </td>   \n",
       "</tr>\n",
       "</table>\n",
       "<table class=\"simpletable\">\n",
       "<tr>\n",
       "               <td></td>                 <th>coef</th>     <th>std err</th>      <th>t</th>      <th>P>|t|</th>  <th>[0.025</th>    <th>0.975]</th>  \n",
       "</tr>\n",
       "<tr>\n",
       "  <th>const</th>                      <td>    6.3091</td> <td>    0.559</td> <td>   11.286</td> <td> 0.000</td> <td>    5.197</td> <td>    7.421</td>\n",
       "</tr>\n",
       "<tr>\n",
       "  <th>type_large</th>                 <td>    0.0889</td> <td>    0.099</td> <td>    0.895</td> <td> 0.374</td> <td>   -0.109</td> <td>    0.286</td>\n",
       "</tr>\n",
       "<tr>\n",
       "  <th>type_midsize</th>               <td>    0.1393</td> <td>    0.078</td> <td>    1.790</td> <td> 0.077</td> <td>   -0.015</td> <td>    0.294</td>\n",
       "</tr>\n",
       "<tr>\n",
       "  <th>type_small</th>                 <td>   -0.1280</td> <td>    0.090</td> <td>   -1.428</td> <td> 0.157</td> <td>   -0.306</td> <td>    0.050</td>\n",
       "</tr>\n",
       "<tr>\n",
       "  <th>type_sporty</th>                <td>   -0.0140</td> <td>    0.082</td> <td>   -0.172</td> <td> 0.864</td> <td>   -0.176</td> <td>    0.148</td>\n",
       "</tr>\n",
       "<tr>\n",
       "  <th>type_van</th>                   <td>   -0.1196</td> <td>    0.107</td> <td>   -1.114</td> <td> 0.268</td> <td>   -0.333</td> <td>    0.094</td>\n",
       "</tr>\n",
       "<tr>\n",
       "  <th>airbags_driver_&_passenger</th> <td>    0.3635</td> <td>    0.080</td> <td>    4.550</td> <td> 0.000</td> <td>    0.205</td> <td>    0.522</td>\n",
       "</tr>\n",
       "<tr>\n",
       "  <th>airbags_driver_only</th>        <td>    0.2386</td> <td>    0.058</td> <td>    4.088</td> <td> 0.000</td> <td>    0.122</td> <td>    0.355</td>\n",
       "</tr>\n",
       "<tr>\n",
       "  <th>origin_non_usa</th>             <td>    0.2322</td> <td>    0.050</td> <td>    4.632</td> <td> 0.000</td> <td>    0.132</td> <td>    0.332</td>\n",
       "</tr>\n",
       "<tr>\n",
       "  <th>ln_mpg_city</th>                <td>   -1.2106</td> <td>    0.178</td> <td>   -6.789</td> <td> 0.000</td> <td>   -1.565</td> <td>   -0.856</td>\n",
       "</tr>\n",
       "</table>\n",
       "<table class=\"simpletable\">\n",
       "<tr>\n",
       "  <th>Omnibus:</th>       <td> 5.184</td> <th>  Durbin-Watson:     </th> <td>   1.891</td>\n",
       "</tr>\n",
       "<tr>\n",
       "  <th>Prob(Omnibus):</th> <td> 0.075</td> <th>  Jarque-Bera (JB):  </th> <td>   4.821</td>\n",
       "</tr>\n",
       "<tr>\n",
       "  <th>Skew:</th>          <td> 0.555</td> <th>  Prob(JB):          </th> <td>  0.0898</td>\n",
       "</tr>\n",
       "<tr>\n",
       "  <th>Kurtosis:</th>      <td> 3.101</td> <th>  Cond. No.          </th> <td>    86.9</td>\n",
       "</tr>\n",
       "</table><br/><br/>Warnings:<br/>[1] Standard Errors assume that the covariance matrix of the errors is correctly specified."
      ],
      "text/plain": [
       "<class 'statsmodels.iolib.summary.Summary'>\n",
       "\"\"\"\n",
       "                            OLS Regression Results                            \n",
       "==============================================================================\n",
       "Dep. Variable:               ln_price   R-squared:                       0.789\n",
       "Model:                            OLS   Adj. R-squared:                  0.766\n",
       "Method:                 Least Squares   F-statistic:                     34.46\n",
       "Date:                Sun, 24 Nov 2019   Prob (F-statistic):           1.98e-24\n",
       "Time:                        12:01:59   Log-Likelihood:                 14.159\n",
       "No. Observations:                  93   AIC:                            -8.318\n",
       "Df Residuals:                      83   BIC:                             17.01\n",
       "Df Model:                           9                                         \n",
       "Covariance Type:            nonrobust                                         \n",
       "==============================================================================================\n",
       "                                 coef    std err          t      P>|t|      [0.025      0.975]\n",
       "----------------------------------------------------------------------------------------------\n",
       "const                          6.3091      0.559     11.286      0.000       5.197       7.421\n",
       "type_large                     0.0889      0.099      0.895      0.374      -0.109       0.286\n",
       "type_midsize                   0.1393      0.078      1.790      0.077      -0.015       0.294\n",
       "type_small                    -0.1280      0.090     -1.428      0.157      -0.306       0.050\n",
       "type_sporty                   -0.0140      0.082     -0.172      0.864      -0.176       0.148\n",
       "type_van                      -0.1196      0.107     -1.114      0.268      -0.333       0.094\n",
       "airbags_driver_&_passenger     0.3635      0.080      4.550      0.000       0.205       0.522\n",
       "airbags_driver_only            0.2386      0.058      4.088      0.000       0.122       0.355\n",
       "origin_non_usa                 0.2322      0.050      4.632      0.000       0.132       0.332\n",
       "ln_mpg_city                   -1.2106      0.178     -6.789      0.000      -1.565      -0.856\n",
       "==============================================================================\n",
       "Omnibus:                        5.184   Durbin-Watson:                   1.891\n",
       "Prob(Omnibus):                  0.075   Jarque-Bera (JB):                4.821\n",
       "Skew:                           0.555   Prob(JB):                       0.0898\n",
       "Kurtosis:                       3.101   Cond. No.                         86.9\n",
       "==============================================================================\n",
       "\n",
       "Warnings:\n",
       "[1] Standard Errors assume that the covariance matrix of the errors is correctly specified.\n",
       "\"\"\""
      ]
     },
     "execution_count": 29,
     "metadata": {},
     "output_type": "execute_result"
    }
   ],
   "source": [
    "model2 = (ModelPipeline(df_raw, raw_y_list, raw_X_list, cat_base_levels)\n",
    "          .get_model()\n",
    "          .fit())\n",
    "model2.results_output"
   ]
  },
  {
   "cell_type": "code",
   "execution_count": 30,
   "metadata": {},
   "outputs": [
    {
     "data": {
      "text/html": [
       "<style  type=\"text/css\" >\n",
       "</style><table id=\"T_381842be_0eb2_11ea_a1ba_4c3488f12182\" ><caption>Unstandardized and Standardized Estimates</caption><thead>    <tr>        <th class=\"blank level0\" ></th>        <th class=\"col_heading level0 col0\" >coef</th>        <th class=\"col_heading level0 col1\" >t</th>        <th class=\"col_heading level0 col2\" >P>|t|</th>        <th class=\"col_heading level0 col3\" >coef_stdX</th>        <th class=\"col_heading level0 col4\" >coef_stdXy</th>        <th class=\"col_heading level0 col5\" >stdev_X</th>    </tr>    <tr>        <th class=\"index_name level0\" >ln_price</th>        <th class=\"blank\" ></th>        <th class=\"blank\" ></th>        <th class=\"blank\" ></th>        <th class=\"blank\" ></th>        <th class=\"blank\" ></th>        <th class=\"blank\" ></th>    </tr></thead><tbody>\n",
       "                <tr>\n",
       "                        <th id=\"T_381842be_0eb2_11ea_a1ba_4c3488f12182level0_row0\" class=\"row_heading level0 row0\" >type_large</th>\n",
       "                        <td id=\"T_381842be_0eb2_11ea_a1ba_4c3488f12182row0_col0\" class=\"data row0 col0\" >+0.0889</td>\n",
       "                        <td id=\"T_381842be_0eb2_11ea_a1ba_4c3488f12182row0_col1\" class=\"data row0 col1\" >+0.895</td>\n",
       "                        <td id=\"T_381842be_0eb2_11ea_a1ba_4c3488f12182row0_col2\" class=\"data row0 col2\" >0.374</td>\n",
       "                        <td id=\"T_381842be_0eb2_11ea_a1ba_4c3488f12182row0_col3\" class=\"data row0 col3\" >+0.0289</td>\n",
       "                        <td id=\"T_381842be_0eb2_11ea_a1ba_4c3488f12182row0_col4\" class=\"data row0 col4\" >+0.0635</td>\n",
       "                        <td id=\"T_381842be_0eb2_11ea_a1ba_4c3488f12182row0_col5\" class=\"data row0 col5\" >0.3247</td>\n",
       "            </tr>\n",
       "            <tr>\n",
       "                        <th id=\"T_381842be_0eb2_11ea_a1ba_4c3488f12182level0_row1\" class=\"row_heading level0 row1\" >type_midsize</th>\n",
       "                        <td id=\"T_381842be_0eb2_11ea_a1ba_4c3488f12182row1_col0\" class=\"data row1 col0\" >+0.1393</td>\n",
       "                        <td id=\"T_381842be_0eb2_11ea_a1ba_4c3488f12182row1_col1\" class=\"data row1 col1\" >+1.790</td>\n",
       "                        <td id=\"T_381842be_0eb2_11ea_a1ba_4c3488f12182row1_col2\" class=\"data row1 col2\" >0.077</td>\n",
       "                        <td id=\"T_381842be_0eb2_11ea_a1ba_4c3488f12182row1_col3\" class=\"data row1 col3\" >+0.0595</td>\n",
       "                        <td id=\"T_381842be_0eb2_11ea_a1ba_4c3488f12182row1_col4\" class=\"data row1 col4\" >+0.1309</td>\n",
       "                        <td id=\"T_381842be_0eb2_11ea_a1ba_4c3488f12182row1_col5\" class=\"data row1 col5\" >0.4273</td>\n",
       "            </tr>\n",
       "            <tr>\n",
       "                        <th id=\"T_381842be_0eb2_11ea_a1ba_4c3488f12182level0_row2\" class=\"row_heading level0 row2\" >type_small</th>\n",
       "                        <td id=\"T_381842be_0eb2_11ea_a1ba_4c3488f12182row2_col0\" class=\"data row2 col0\" >-0.1280</td>\n",
       "                        <td id=\"T_381842be_0eb2_11ea_a1ba_4c3488f12182row2_col1\" class=\"data row2 col1\" >-1.428</td>\n",
       "                        <td id=\"T_381842be_0eb2_11ea_a1ba_4c3488f12182row2_col2\" class=\"data row2 col2\" >0.157</td>\n",
       "                        <td id=\"T_381842be_0eb2_11ea_a1ba_4c3488f12182row2_col3\" class=\"data row2 col3\" >-0.0538</td>\n",
       "                        <td id=\"T_381842be_0eb2_11ea_a1ba_4c3488f12182row2_col4\" class=\"data row2 col4\" >-0.1184</td>\n",
       "                        <td id=\"T_381842be_0eb2_11ea_a1ba_4c3488f12182row2_col5\" class=\"data row2 col5\" >0.4204</td>\n",
       "            </tr>\n",
       "            <tr>\n",
       "                        <th id=\"T_381842be_0eb2_11ea_a1ba_4c3488f12182level0_row3\" class=\"row_heading level0 row3\" >type_sporty</th>\n",
       "                        <td id=\"T_381842be_0eb2_11ea_a1ba_4c3488f12182row3_col0\" class=\"data row3 col0\" >-0.0140</td>\n",
       "                        <td id=\"T_381842be_0eb2_11ea_a1ba_4c3488f12182row3_col1\" class=\"data row3 col1\" >-0.172</td>\n",
       "                        <td id=\"T_381842be_0eb2_11ea_a1ba_4c3488f12182row3_col2\" class=\"data row3 col2\" >0.864</td>\n",
       "                        <td id=\"T_381842be_0eb2_11ea_a1ba_4c3488f12182row3_col3\" class=\"data row3 col3\" >-0.0051</td>\n",
       "                        <td id=\"T_381842be_0eb2_11ea_a1ba_4c3488f12182row3_col4\" class=\"data row3 col4\" >-0.0111</td>\n",
       "                        <td id=\"T_381842be_0eb2_11ea_a1ba_4c3488f12182row3_col5\" class=\"data row3 col5\" >0.3595</td>\n",
       "            </tr>\n",
       "            <tr>\n",
       "                        <th id=\"T_381842be_0eb2_11ea_a1ba_4c3488f12182level0_row4\" class=\"row_heading level0 row4\" >type_van</th>\n",
       "                        <td id=\"T_381842be_0eb2_11ea_a1ba_4c3488f12182row4_col0\" class=\"data row4 col0\" >-0.1196</td>\n",
       "                        <td id=\"T_381842be_0eb2_11ea_a1ba_4c3488f12182row4_col1\" class=\"data row4 col1\" >-1.114</td>\n",
       "                        <td id=\"T_381842be_0eb2_11ea_a1ba_4c3488f12182row4_col2\" class=\"data row4 col2\" >0.268</td>\n",
       "                        <td id=\"T_381842be_0eb2_11ea_a1ba_4c3488f12182row4_col3\" class=\"data row4 col3\" >-0.0355</td>\n",
       "                        <td id=\"T_381842be_0eb2_11ea_a1ba_4c3488f12182row4_col4\" class=\"data row4 col4\" >-0.0782</td>\n",
       "                        <td id=\"T_381842be_0eb2_11ea_a1ba_4c3488f12182row4_col5\" class=\"data row4 col5\" >0.2973</td>\n",
       "            </tr>\n",
       "            <tr>\n",
       "                        <th id=\"T_381842be_0eb2_11ea_a1ba_4c3488f12182level0_row5\" class=\"row_heading level0 row5\" >airbags_driver_&_passenger</th>\n",
       "                        <td id=\"T_381842be_0eb2_11ea_a1ba_4c3488f12182row5_col0\" class=\"data row5 col0\" >+0.3635</td>\n",
       "                        <td id=\"T_381842be_0eb2_11ea_a1ba_4c3488f12182row5_col1\" class=\"data row5 col1\" >+4.550</td>\n",
       "                        <td id=\"T_381842be_0eb2_11ea_a1ba_4c3488f12182row5_col2\" class=\"data row5 col2\" >0.000</td>\n",
       "                        <td id=\"T_381842be_0eb2_11ea_a1ba_4c3488f12182row5_col3\" class=\"data row5 col3\" >+0.1379</td>\n",
       "                        <td id=\"T_381842be_0eb2_11ea_a1ba_4c3488f12182row5_col4\" class=\"data row5 col4\" >+0.3033</td>\n",
       "                        <td id=\"T_381842be_0eb2_11ea_a1ba_4c3488f12182row5_col5\" class=\"data row5 col5\" >0.3795</td>\n",
       "            </tr>\n",
       "            <tr>\n",
       "                        <th id=\"T_381842be_0eb2_11ea_a1ba_4c3488f12182level0_row6\" class=\"row_heading level0 row6\" >airbags_driver_only</th>\n",
       "                        <td id=\"T_381842be_0eb2_11ea_a1ba_4c3488f12182row6_col0\" class=\"data row6 col0\" >+0.2386</td>\n",
       "                        <td id=\"T_381842be_0eb2_11ea_a1ba_4c3488f12182row6_col1\" class=\"data row6 col1\" >+4.088</td>\n",
       "                        <td id=\"T_381842be_0eb2_11ea_a1ba_4c3488f12182row6_col2\" class=\"data row6 col2\" >0.000</td>\n",
       "                        <td id=\"T_381842be_0eb2_11ea_a1ba_4c3488f12182row6_col3\" class=\"data row6 col3\" >+0.1196</td>\n",
       "                        <td id=\"T_381842be_0eb2_11ea_a1ba_4c3488f12182row6_col4\" class=\"data row6 col4\" >+0.2630</td>\n",
       "                        <td id=\"T_381842be_0eb2_11ea_a1ba_4c3488f12182row6_col5\" class=\"data row6 col5\" >0.5013</td>\n",
       "            </tr>\n",
       "            <tr>\n",
       "                        <th id=\"T_381842be_0eb2_11ea_a1ba_4c3488f12182level0_row7\" class=\"row_heading level0 row7\" >origin_non_usa</th>\n",
       "                        <td id=\"T_381842be_0eb2_11ea_a1ba_4c3488f12182row7_col0\" class=\"data row7 col0\" >+0.2322</td>\n",
       "                        <td id=\"T_381842be_0eb2_11ea_a1ba_4c3488f12182row7_col1\" class=\"data row7 col1\" >+4.632</td>\n",
       "                        <td id=\"T_381842be_0eb2_11ea_a1ba_4c3488f12182row7_col2\" class=\"data row7 col2\" >0.000</td>\n",
       "                        <td id=\"T_381842be_0eb2_11ea_a1ba_4c3488f12182row7_col3\" class=\"data row7 col3\" >+0.1166</td>\n",
       "                        <td id=\"T_381842be_0eb2_11ea_a1ba_4c3488f12182row7_col4\" class=\"data row7 col4\" >+0.2565</td>\n",
       "                        <td id=\"T_381842be_0eb2_11ea_a1ba_4c3488f12182row7_col5\" class=\"data row7 col5\" >0.5024</td>\n",
       "            </tr>\n",
       "            <tr>\n",
       "                        <th id=\"T_381842be_0eb2_11ea_a1ba_4c3488f12182level0_row8\" class=\"row_heading level0 row8\" >ln_mpg_city</th>\n",
       "                        <td id=\"T_381842be_0eb2_11ea_a1ba_4c3488f12182row8_col0\" class=\"data row8 col0\" >-1.2106</td>\n",
       "                        <td id=\"T_381842be_0eb2_11ea_a1ba_4c3488f12182row8_col1\" class=\"data row8 col1\" >-6.789</td>\n",
       "                        <td id=\"T_381842be_0eb2_11ea_a1ba_4c3488f12182row8_col2\" class=\"data row8 col2\" >0.000</td>\n",
       "                        <td id=\"T_381842be_0eb2_11ea_a1ba_4c3488f12182row8_col3\" class=\"data row8 col3\" >-0.2710</td>\n",
       "                        <td id=\"T_381842be_0eb2_11ea_a1ba_4c3488f12182row8_col4\" class=\"data row8 col4\" >-0.5961</td>\n",
       "                        <td id=\"T_381842be_0eb2_11ea_a1ba_4c3488f12182row8_col5\" class=\"data row8 col5\" >0.2239</td>\n",
       "            </tr>\n",
       "    </tbody></table>"
      ],
      "text/plain": [
       "<pandas.io.formats.style.Styler at 0x1934298c748>"
      ]
     },
     "execution_count": 30,
     "metadata": {},
     "output_type": "execute_result"
    }
   ],
   "source": [
    "model2.results_output_standardized"
   ]
  },
  {
   "cell_type": "markdown",
   "metadata": {},
   "source": [
    "### Model diagnostics"
   ]
  },
  {
   "cell_type": "code",
   "execution_count": 31,
   "metadata": {},
   "outputs": [
    {
     "data": {
      "image/png": "[encoded data removed]",
      "text/plain": [
       "<Figure size 720x720 with 4 Axes>"
      ]
     },
     "metadata": {
      "needs_background": "light"
     },
     "output_type": "display_data"
    }
   ],
   "source": [
    "fig, axarr = plt.subplots(2, 2, figsize=(10, 10))\n",
    "model2.diagnostic_plot('pp_plot', ax=axarr[0][0])\n",
    "model2.diagnostic_plot('qq_plot', ax=axarr[0][1])\n",
    "model2.diagnostic_plot('rvp_plot', ax=axarr[1][0])\n",
    "model2.diagnostic_plot('rvf_plot', ax=axarr[1][1])\n",
    "plt.tight_layout()"
   ]
  },
  {
   "cell_type": "markdown",
   "metadata": {},
   "source": [
    "The residual plots look much better for this model:\n",
    "- The residuals are closer to the 45-degree lines in the P-P and Q-Q plots.\n",
    "- The funnel-like appearance of the RVP plot has disappeared.\n",
    "\n",
    "However the RVF plot still has a linear pattern.  The model is still not good at predicting the more extreme values of price in the dataset."
   ]
  },
  {
   "cell_type": "code",
   "execution_count": 32,
   "metadata": {},
   "outputs": [
    {
     "data": {
      "image/png": "[encoded data removed]",
      "text/plain": [
       "<Figure size 576x360 with 1 Axes>"
      ]
     },
     "metadata": {
      "needs_background": "light"
     },
     "output_type": "display_data"
    }
   ],
   "source": [
    "fig, ax = plt.subplots(figsize=(8, 5))\n",
    "model2.resid_standardized.hist(ax=ax)\n",
    "ax.set_title('Histogram of standardized residuals')\n",
    "ax.set_xlabel('Standardized residuals')\n",
    "ax.set_ylabel('Frequency')\n",
    "plt.show()"
   ]
  },
  {
   "cell_type": "code",
   "execution_count": 33,
   "metadata": {},
   "outputs": [
    {
     "name": "stdout",
     "output_type": "stream",
     "text": [
      "Heteroskedasticity test (studentized Breusch-Pagan)\n",
      "Test stat: 5.83\n",
      "p-value: 0.7564\n"
     ]
    }
   ],
   "source": [
    "test_stat, pval = heteroskedasticity_test('breusch_pagan_studentized', model2)\n",
    "print('Heteroskedasticity test (studentized Breusch-Pagan)')\n",
    "print(f'Test stat: {test_stat:.2f}')\n",
    "print(f'p-value: {pval:.4f}')"
   ]
  },
  {
   "cell_type": "markdown",
   "metadata": {},
   "source": [
    "## Second model - change base levels"
   ]
  },
  {
   "cell_type": "markdown",
   "metadata": {},
   "source": [
    "Suppose we want to run a model with different base levels for the categorical variables.\n",
    "\n",
    "This is relatively easy now that we have made the `ModelPipeline`.\n",
    "\n",
    "It's possible to do so without the model pipeline class, e.g. by manually listing the final columns in an `X_list`, but it is difficult to check whether column names are correct or if columns are missing, especially for datasets where there are multiple categorical variables or categorical variables that have multiple values."
   ]
  },
  {
   "cell_type": "markdown",
   "metadata": {},
   "source": [
    "Let's set up different base levels for categorical variables in an alternative form of model 2, `model2_alt`."
   ]
  },
  {
   "cell_type": "code",
   "execution_count": 34,
   "metadata": {},
   "outputs": [],
   "source": [
    "raw_y_list = ['ln_price']\n",
    "raw_X_list = ['type', 'ln_mpg_city', 'airbags', 'origin']\n",
    "cat_base_levels = {'type': 'Small', # changed level\n",
    "                   'airbags': 'None',\n",
    "                   'origin': 'USA'}"
   ]
  },
  {
   "cell_type": "code",
   "execution_count": 35,
   "metadata": {},
   "outputs": [
    {
     "data": {
      "text/html": [
       "<table class=\"simpletable\">\n",
       "<caption>OLS Regression Results</caption>\n",
       "<tr>\n",
       "  <th>Dep. Variable:</th>        <td>ln_price</td>     <th>  R-squared:         </th> <td>   0.789</td>\n",
       "</tr>\n",
       "<tr>\n",
       "  <th>Model:</th>                   <td>OLS</td>       <th>  Adj. R-squared:    </th> <td>   0.766</td>\n",
       "</tr>\n",
       "<tr>\n",
       "  <th>Method:</th>             <td>Least Squares</td>  <th>  F-statistic:       </th> <td>   34.46</td>\n",
       "</tr>\n",
       "<tr>\n",
       "  <th>Date:</th>             <td>Sun, 24 Nov 2019</td> <th>  Prob (F-statistic):</th> <td>1.98e-24</td>\n",
       "</tr>\n",
       "<tr>\n",
       "  <th>Time:</th>                 <td>12:02:01</td>     <th>  Log-Likelihood:    </th> <td>  14.159</td>\n",
       "</tr>\n",
       "<tr>\n",
       "  <th>No. Observations:</th>      <td>    93</td>      <th>  AIC:               </th> <td>  -8.318</td>\n",
       "</tr>\n",
       "<tr>\n",
       "  <th>Df Residuals:</th>          <td>    83</td>      <th>  BIC:               </th> <td>   17.01</td>\n",
       "</tr>\n",
       "<tr>\n",
       "  <th>Df Model:</th>              <td>     9</td>      <th>                     </th>     <td> </td>   \n",
       "</tr>\n",
       "<tr>\n",
       "  <th>Covariance Type:</th>      <td>nonrobust</td>    <th>                     </th>     <td> </td>   \n",
       "</tr>\n",
       "</table>\n",
       "<table class=\"simpletable\">\n",
       "<tr>\n",
       "               <td></td>                 <th>coef</th>     <th>std err</th>      <th>t</th>      <th>P>|t|</th>  <th>[0.025</th>    <th>0.975]</th>  \n",
       "</tr>\n",
       "<tr>\n",
       "  <th>const</th>                      <td>    6.1811</td> <td>    0.602</td> <td>   10.271</td> <td> 0.000</td> <td>    4.984</td> <td>    7.378</td>\n",
       "</tr>\n",
       "<tr>\n",
       "  <th>type_compact</th>               <td>    0.1280</td> <td>    0.090</td> <td>    1.428</td> <td> 0.157</td> <td>   -0.050</td> <td>    0.306</td>\n",
       "</tr>\n",
       "<tr>\n",
       "  <th>type_large</th>                 <td>    0.2169</td> <td>    0.127</td> <td>    1.703</td> <td> 0.092</td> <td>   -0.036</td> <td>    0.470</td>\n",
       "</tr>\n",
       "<tr>\n",
       "  <th>type_midsize</th>               <td>    0.2673</td> <td>    0.104</td> <td>    2.574</td> <td> 0.012</td> <td>    0.061</td> <td>    0.474</td>\n",
       "</tr>\n",
       "<tr>\n",
       "  <th>type_sporty</th>                <td>    0.1140</td> <td>    0.099</td> <td>    1.153</td> <td> 0.252</td> <td>   -0.083</td> <td>    0.311</td>\n",
       "</tr>\n",
       "<tr>\n",
       "  <th>type_van</th>                   <td>    0.0085</td> <td>    0.131</td> <td>    0.065</td> <td> 0.949</td> <td>   -0.252</td> <td>    0.269</td>\n",
       "</tr>\n",
       "<tr>\n",
       "  <th>airbags_driver_&_passenger</th> <td>    0.3635</td> <td>    0.080</td> <td>    4.550</td> <td> 0.000</td> <td>    0.205</td> <td>    0.522</td>\n",
       "</tr>\n",
       "<tr>\n",
       "  <th>airbags_driver_only</th>        <td>    0.2386</td> <td>    0.058</td> <td>    4.088</td> <td> 0.000</td> <td>    0.122</td> <td>    0.355</td>\n",
       "</tr>\n",
       "<tr>\n",
       "  <th>origin_non_usa</th>             <td>    0.2322</td> <td>    0.050</td> <td>    4.632</td> <td> 0.000</td> <td>    0.132</td> <td>    0.332</td>\n",
       "</tr>\n",
       "<tr>\n",
       "  <th>ln_mpg_city</th>                <td>   -1.2106</td> <td>    0.178</td> <td>   -6.789</td> <td> 0.000</td> <td>   -1.565</td> <td>   -0.856</td>\n",
       "</tr>\n",
       "</table>\n",
       "<table class=\"simpletable\">\n",
       "<tr>\n",
       "  <th>Omnibus:</th>       <td> 5.184</td> <th>  Durbin-Watson:     </th> <td>   1.891</td>\n",
       "</tr>\n",
       "<tr>\n",
       "  <th>Prob(Omnibus):</th> <td> 0.075</td> <th>  Jarque-Bera (JB):  </th> <td>   4.821</td>\n",
       "</tr>\n",
       "<tr>\n",
       "  <th>Skew:</th>          <td> 0.555</td> <th>  Prob(JB):          </th> <td>  0.0898</td>\n",
       "</tr>\n",
       "<tr>\n",
       "  <th>Kurtosis:</th>      <td> 3.101</td> <th>  Cond. No.          </th> <td>    95.1</td>\n",
       "</tr>\n",
       "</table><br/><br/>Warnings:<br/>[1] Standard Errors assume that the covariance matrix of the errors is correctly specified."
      ],
      "text/plain": [
       "<class 'statsmodels.iolib.summary.Summary'>\n",
       "\"\"\"\n",
       "                            OLS Regression Results                            \n",
       "==============================================================================\n",
       "Dep. Variable:               ln_price   R-squared:                       0.789\n",
       "Model:                            OLS   Adj. R-squared:                  0.766\n",
       "Method:                 Least Squares   F-statistic:                     34.46\n",
       "Date:                Sun, 24 Nov 2019   Prob (F-statistic):           1.98e-24\n",
       "Time:                        12:02:01   Log-Likelihood:                 14.159\n",
       "No. Observations:                  93   AIC:                            -8.318\n",
       "Df Residuals:                      83   BIC:                             17.01\n",
       "Df Model:                           9                                         \n",
       "Covariance Type:            nonrobust                                         \n",
       "==============================================================================================\n",
       "                                 coef    std err          t      P>|t|      [0.025      0.975]\n",
       "----------------------------------------------------------------------------------------------\n",
       "const                          6.1811      0.602     10.271      0.000       4.984       7.378\n",
       "type_compact                   0.1280      0.090      1.428      0.157      -0.050       0.306\n",
       "type_large                     0.2169      0.127      1.703      0.092      -0.036       0.470\n",
       "type_midsize                   0.2673      0.104      2.574      0.012       0.061       0.474\n",
       "type_sporty                    0.1140      0.099      1.153      0.252      -0.083       0.311\n",
       "type_van                       0.0085      0.131      0.065      0.949      -0.252       0.269\n",
       "airbags_driver_&_passenger     0.3635      0.080      4.550      0.000       0.205       0.522\n",
       "airbags_driver_only            0.2386      0.058      4.088      0.000       0.122       0.355\n",
       "origin_non_usa                 0.2322      0.050      4.632      0.000       0.132       0.332\n",
       "ln_mpg_city                   -1.2106      0.178     -6.789      0.000      -1.565      -0.856\n",
       "==============================================================================\n",
       "Omnibus:                        5.184   Durbin-Watson:                   1.891\n",
       "Prob(Omnibus):                  0.075   Jarque-Bera (JB):                4.821\n",
       "Skew:                           0.555   Prob(JB):                       0.0898\n",
       "Kurtosis:                       3.101   Cond. No.                         95.1\n",
       "==============================================================================\n",
       "\n",
       "Warnings:\n",
       "[1] Standard Errors assume that the covariance matrix of the errors is correctly specified.\n",
       "\"\"\""
      ]
     },
     "execution_count": 35,
     "metadata": {},
     "output_type": "execute_result"
    }
   ],
   "source": [
    "model2_alt = (ModelPipeline(df_raw, raw_y_list, raw_X_list, cat_base_levels)\n",
    "              .get_model()\n",
    "              .fit())\n",
    "model2_alt.results_output"
   ]
  },
  {
   "cell_type": "markdown",
   "metadata": {},
   "source": [
    "With the alternative base levels, we still have the same model performance (e.g. R-squared) but different dummy columns shown."
   ]
  },
  {
   "cell_type": "code",
   "execution_count": 36,
   "metadata": {},
   "outputs": [
    {
     "data": {
      "text/html": [
       "<style  type=\"text/css\" >\n",
       "</style><table id=\"T_393fd274_0eb2_11ea_a292_4c3488f12182\" ><caption>Unstandardized and Standardized Estimates</caption><thead>    <tr>        <th class=\"blank level0\" ></th>        <th class=\"col_heading level0 col0\" >coef</th>        <th class=\"col_heading level0 col1\" >t</th>        <th class=\"col_heading level0 col2\" >P>|t|</th>        <th class=\"col_heading level0 col3\" >coef_stdX</th>        <th class=\"col_heading level0 col4\" >coef_stdXy</th>        <th class=\"col_heading level0 col5\" >stdev_X</th>    </tr>    <tr>        <th class=\"index_name level0\" >ln_price</th>        <th class=\"blank\" ></th>        <th class=\"blank\" ></th>        <th class=\"blank\" ></th>        <th class=\"blank\" ></th>        <th class=\"blank\" ></th>        <th class=\"blank\" ></th>    </tr></thead><tbody>\n",
       "                <tr>\n",
       "                        <th id=\"T_393fd274_0eb2_11ea_a292_4c3488f12182level0_row0\" class=\"row_heading level0 row0\" >type_compact</th>\n",
       "                        <td id=\"T_393fd274_0eb2_11ea_a292_4c3488f12182row0_col0\" class=\"data row0 col0\" >+0.1280</td>\n",
       "                        <td id=\"T_393fd274_0eb2_11ea_a292_4c3488f12182row0_col1\" class=\"data row0 col1\" >+1.428</td>\n",
       "                        <td id=\"T_393fd274_0eb2_11ea_a292_4c3488f12182row0_col2\" class=\"data row0 col2\" >0.157</td>\n",
       "                        <td id=\"T_393fd274_0eb2_11ea_a292_4c3488f12182row0_col3\" class=\"data row0 col3\" >+0.0486</td>\n",
       "                        <td id=\"T_393fd274_0eb2_11ea_a292_4c3488f12182row0_col4\" class=\"data row0 col4\" >+0.1069</td>\n",
       "                        <td id=\"T_393fd274_0eb2_11ea_a292_4c3488f12182row0_col5\" class=\"data row0 col5\" >0.3795</td>\n",
       "            </tr>\n",
       "            <tr>\n",
       "                        <th id=\"T_393fd274_0eb2_11ea_a292_4c3488f12182level0_row1\" class=\"row_heading level0 row1\" >type_large</th>\n",
       "                        <td id=\"T_393fd274_0eb2_11ea_a292_4c3488f12182row1_col0\" class=\"data row1 col0\" >+0.2169</td>\n",
       "                        <td id=\"T_393fd274_0eb2_11ea_a292_4c3488f12182row1_col1\" class=\"data row1 col1\" >+1.703</td>\n",
       "                        <td id=\"T_393fd274_0eb2_11ea_a292_4c3488f12182row1_col2\" class=\"data row1 col2\" >0.092</td>\n",
       "                        <td id=\"T_393fd274_0eb2_11ea_a292_4c3488f12182row1_col3\" class=\"data row1 col3\" >+0.0704</td>\n",
       "                        <td id=\"T_393fd274_0eb2_11ea_a292_4c3488f12182row1_col4\" class=\"data row1 col4\" >+0.1549</td>\n",
       "                        <td id=\"T_393fd274_0eb2_11ea_a292_4c3488f12182row1_col5\" class=\"data row1 col5\" >0.3247</td>\n",
       "            </tr>\n",
       "            <tr>\n",
       "                        <th id=\"T_393fd274_0eb2_11ea_a292_4c3488f12182level0_row2\" class=\"row_heading level0 row2\" >type_midsize</th>\n",
       "                        <td id=\"T_393fd274_0eb2_11ea_a292_4c3488f12182row2_col0\" class=\"data row2 col0\" >+0.2673</td>\n",
       "                        <td id=\"T_393fd274_0eb2_11ea_a292_4c3488f12182row2_col1\" class=\"data row2 col1\" >+2.574</td>\n",
       "                        <td id=\"T_393fd274_0eb2_11ea_a292_4c3488f12182row2_col2\" class=\"data row2 col2\" >0.012</td>\n",
       "                        <td id=\"T_393fd274_0eb2_11ea_a292_4c3488f12182row2_col3\" class=\"data row2 col3\" >+0.1142</td>\n",
       "                        <td id=\"T_393fd274_0eb2_11ea_a292_4c3488f12182row2_col4\" class=\"data row2 col4\" >+0.2512</td>\n",
       "                        <td id=\"T_393fd274_0eb2_11ea_a292_4c3488f12182row2_col5\" class=\"data row2 col5\" >0.4273</td>\n",
       "            </tr>\n",
       "            <tr>\n",
       "                        <th id=\"T_393fd274_0eb2_11ea_a292_4c3488f12182level0_row3\" class=\"row_heading level0 row3\" >type_sporty</th>\n",
       "                        <td id=\"T_393fd274_0eb2_11ea_a292_4c3488f12182row3_col0\" class=\"data row3 col0\" >+0.1140</td>\n",
       "                        <td id=\"T_393fd274_0eb2_11ea_a292_4c3488f12182row3_col1\" class=\"data row3 col1\" >+1.153</td>\n",
       "                        <td id=\"T_393fd274_0eb2_11ea_a292_4c3488f12182row3_col2\" class=\"data row3 col2\" >0.252</td>\n",
       "                        <td id=\"T_393fd274_0eb2_11ea_a292_4c3488f12182row3_col3\" class=\"data row3 col3\" >+0.0410</td>\n",
       "                        <td id=\"T_393fd274_0eb2_11ea_a292_4c3488f12182row3_col4\" class=\"data row3 col4\" >+0.0901</td>\n",
       "                        <td id=\"T_393fd274_0eb2_11ea_a292_4c3488f12182row3_col5\" class=\"data row3 col5\" >0.3595</td>\n",
       "            </tr>\n",
       "            <tr>\n",
       "                        <th id=\"T_393fd274_0eb2_11ea_a292_4c3488f12182level0_row4\" class=\"row_heading level0 row4\" >type_van</th>\n",
       "                        <td id=\"T_393fd274_0eb2_11ea_a292_4c3488f12182row4_col0\" class=\"data row4 col0\" >+0.0085</td>\n",
       "                        <td id=\"T_393fd274_0eb2_11ea_a292_4c3488f12182row4_col1\" class=\"data row4 col1\" >+0.065</td>\n",
       "                        <td id=\"T_393fd274_0eb2_11ea_a292_4c3488f12182row4_col2\" class=\"data row4 col2\" >0.949</td>\n",
       "                        <td id=\"T_393fd274_0eb2_11ea_a292_4c3488f12182row4_col3\" class=\"data row4 col3\" >+0.0025</td>\n",
       "                        <td id=\"T_393fd274_0eb2_11ea_a292_4c3488f12182row4_col4\" class=\"data row4 col4\" >+0.0055</td>\n",
       "                        <td id=\"T_393fd274_0eb2_11ea_a292_4c3488f12182row4_col5\" class=\"data row4 col5\" >0.2973</td>\n",
       "            </tr>\n",
       "            <tr>\n",
       "                        <th id=\"T_393fd274_0eb2_11ea_a292_4c3488f12182level0_row5\" class=\"row_heading level0 row5\" >airbags_driver_&_passenger</th>\n",
       "                        <td id=\"T_393fd274_0eb2_11ea_a292_4c3488f12182row5_col0\" class=\"data row5 col0\" >+0.3635</td>\n",
       "                        <td id=\"T_393fd274_0eb2_11ea_a292_4c3488f12182row5_col1\" class=\"data row5 col1\" >+4.550</td>\n",
       "                        <td id=\"T_393fd274_0eb2_11ea_a292_4c3488f12182row5_col2\" class=\"data row5 col2\" >0.000</td>\n",
       "                        <td id=\"T_393fd274_0eb2_11ea_a292_4c3488f12182row5_col3\" class=\"data row5 col3\" >+0.1379</td>\n",
       "                        <td id=\"T_393fd274_0eb2_11ea_a292_4c3488f12182row5_col4\" class=\"data row5 col4\" >+0.3033</td>\n",
       "                        <td id=\"T_393fd274_0eb2_11ea_a292_4c3488f12182row5_col5\" class=\"data row5 col5\" >0.3795</td>\n",
       "            </tr>\n",
       "            <tr>\n",
       "                        <th id=\"T_393fd274_0eb2_11ea_a292_4c3488f12182level0_row6\" class=\"row_heading level0 row6\" >airbags_driver_only</th>\n",
       "                        <td id=\"T_393fd274_0eb2_11ea_a292_4c3488f12182row6_col0\" class=\"data row6 col0\" >+0.2386</td>\n",
       "                        <td id=\"T_393fd274_0eb2_11ea_a292_4c3488f12182row6_col1\" class=\"data row6 col1\" >+4.088</td>\n",
       "                        <td id=\"T_393fd274_0eb2_11ea_a292_4c3488f12182row6_col2\" class=\"data row6 col2\" >0.000</td>\n",
       "                        <td id=\"T_393fd274_0eb2_11ea_a292_4c3488f12182row6_col3\" class=\"data row6 col3\" >+0.1196</td>\n",
       "                        <td id=\"T_393fd274_0eb2_11ea_a292_4c3488f12182row6_col4\" class=\"data row6 col4\" >+0.2630</td>\n",
       "                        <td id=\"T_393fd274_0eb2_11ea_a292_4c3488f12182row6_col5\" class=\"data row6 col5\" >0.5013</td>\n",
       "            </tr>\n",
       "            <tr>\n",
       "                        <th id=\"T_393fd274_0eb2_11ea_a292_4c3488f12182level0_row7\" class=\"row_heading level0 row7\" >origin_non_usa</th>\n",
       "                        <td id=\"T_393fd274_0eb2_11ea_a292_4c3488f12182row7_col0\" class=\"data row7 col0\" >+0.2322</td>\n",
       "                        <td id=\"T_393fd274_0eb2_11ea_a292_4c3488f12182row7_col1\" class=\"data row7 col1\" >+4.632</td>\n",
       "                        <td id=\"T_393fd274_0eb2_11ea_a292_4c3488f12182row7_col2\" class=\"data row7 col2\" >0.000</td>\n",
       "                        <td id=\"T_393fd274_0eb2_11ea_a292_4c3488f12182row7_col3\" class=\"data row7 col3\" >+0.1166</td>\n",
       "                        <td id=\"T_393fd274_0eb2_11ea_a292_4c3488f12182row7_col4\" class=\"data row7 col4\" >+0.2565</td>\n",
       "                        <td id=\"T_393fd274_0eb2_11ea_a292_4c3488f12182row7_col5\" class=\"data row7 col5\" >0.5024</td>\n",
       "            </tr>\n",
       "            <tr>\n",
       "                        <th id=\"T_393fd274_0eb2_11ea_a292_4c3488f12182level0_row8\" class=\"row_heading level0 row8\" >ln_mpg_city</th>\n",
       "                        <td id=\"T_393fd274_0eb2_11ea_a292_4c3488f12182row8_col0\" class=\"data row8 col0\" >-1.2106</td>\n",
       "                        <td id=\"T_393fd274_0eb2_11ea_a292_4c3488f12182row8_col1\" class=\"data row8 col1\" >-6.789</td>\n",
       "                        <td id=\"T_393fd274_0eb2_11ea_a292_4c3488f12182row8_col2\" class=\"data row8 col2\" >0.000</td>\n",
       "                        <td id=\"T_393fd274_0eb2_11ea_a292_4c3488f12182row8_col3\" class=\"data row8 col3\" >-0.2710</td>\n",
       "                        <td id=\"T_393fd274_0eb2_11ea_a292_4c3488f12182row8_col4\" class=\"data row8 col4\" >-0.5961</td>\n",
       "                        <td id=\"T_393fd274_0eb2_11ea_a292_4c3488f12182row8_col5\" class=\"data row8 col5\" >0.2239</td>\n",
       "            </tr>\n",
       "    </tbody></table>"
      ],
      "text/plain": [
       "<pandas.io.formats.style.Styler at 0x19342c5adc8>"
      ]
     },
     "execution_count": 36,
     "metadata": {},
     "output_type": "execute_result"
    }
   ],
   "source": [
    "model2_alt.results_output_standardized"
   ]
  }
 ],
 "metadata": {
  "kernelspec": {
   "display_name": "Python 3",
   "language": "python",
   "name": "python3"
  },
  "language_info": {
   "codemirror_mode": {
    "name": "ipython",
    "version": 3
   },
   "file_extension": ".py",
   "mimetype": "text/x-python",
   "name": "python",
   "nbconvert_exporter": "python",
   "pygments_lexer": "ipython3",
   "version": "3.7.4"
  },
  "toc": {
   "base_numbering": 1,
   "nav_menu": {},
   "number_sections": true,
   "sideBar": true,
   "skip_h1_title": false,
   "title_cell": "Table of Contents",
   "title_sidebar": "Contents",
   "toc_cell": false,
   "toc_position": {},
   "toc_section_display": true,
   "toc_window_display": true
  }
 },
 "nbformat": 4,
 "nbformat_minor": 2
}
